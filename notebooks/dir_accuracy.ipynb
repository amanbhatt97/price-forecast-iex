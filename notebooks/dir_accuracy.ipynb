{
 "cells": [
  {
   "cell_type": "code",
   "execution_count": 1,
   "metadata": {},
   "outputs": [],
   "source": [
    "import pandas as pd\n",
    "import numpy as np\n",
    "import sys, os\n",
    "from datetime import datetime, timedelta\n",
    "import matplotlib.pyplot as plt\n",
    "plt.rcParams['figure.figsize'] = (12, 6)\n",
    "\n",
    "import warnings\n",
    "warnings.filterwarnings('ignore')\n",
    "\n",
    "from dotenv import load_dotenv\n",
    "load_dotenv()\n",
    "\n",
    "PROJECT_PATH = os.getenv('PROJECT_DIR')\n",
    "sys.path.append(PROJECT_PATH)"
   ]
  },
  {
   "cell_type": "code",
   "execution_count": 2,
   "metadata": {},
   "outputs": [],
   "source": [
    "from src.data_ingestion.iex_data import IexDataFetcher\n",
    "from src.get_apis.get_forecast import IexForecast\n",
    "from src.feature_engineering.build_features import FeatureEngineering\n",
    "from src.utils import *\n",
    "from config.paths import *"
   ]
  },
  {
   "cell_type": "code",
   "execution_count": 3,
   "metadata": {},
   "outputs": [],
   "source": [
    "iex_data = IexDataFetcher()\n",
    "iex_forecast = IexForecast()\n",
    "featured_data = FeatureEngineering(PROJECT_PATH)"
   ]
  },
  {
   "cell_type": "code",
   "execution_count": 4,
   "metadata": {},
   "outputs": [],
   "source": [
    "market_type = 'rtm'"
   ]
  },
  {
   "cell_type": "code",
   "execution_count": 5,
   "metadata": {},
   "outputs": [
    {
     "name": "stdout",
     "output_type": "stream",
     "text": [
      "dam data is already updated up to:  2024-01-18 23:45:00\n",
      "rtm data is already updated up to:  2024-01-17 23:45:00\n"
     ]
    }
   ],
   "source": [
    "dam_actual = iex_data._get_processed_data('dam')[['datetime', f'mcp_dam']]\n",
    "rtm_actual = iex_data._get_processed_data('rtm')[['datetime', f'mcp_rtm']]"
   ]
  },
  {
   "cell_type": "code",
   "execution_count": 6,
   "metadata": {},
   "outputs": [],
   "source": [
    "dam_rtm_actual = featured_data.merge_dataframes([rtm_actual, dam_actual])\n",
    "dam_rtm_actual['actual'] = -1  # Initialize with -1 for cases where mcp_dam is equal to mcp_rtm\n",
    "\n",
    "# Update 'actual' based on conditions\n",
    "dam_rtm_actual['actual'] = dam_rtm_actual.apply(lambda row: 1 if row['mcp_dam'] > row['mcp_rtm'] else (0 if row['mcp_dam'] < row['mcp_rtm'] else -1), axis=1)"
   ]
  },
  {
   "cell_type": "code",
   "execution_count": 7,
   "metadata": {},
   "outputs": [],
   "source": [
    "dir_actual = dam_rtm_actual[['datetime', 'actual']]"
   ]
  },
  {
   "cell_type": "code",
   "execution_count": 8,
   "metadata": {},
   "outputs": [],
   "source": [
    "acc_report = load_pickle(REPORTS_PATH, 'dir_accuracy_report')\n",
    "acc_start_date = (acc_report['Date'].iloc[-1]\\\n",
    "                + timedelta(days=1)).strftime('%d-%m-%Y')"
   ]
  },
  {
   "cell_type": "code",
   "execution_count": 9,
   "metadata": {},
   "outputs": [
    {
     "name": "stdout",
     "output_type": "stream",
     "text": [
      "rtm forecast updated upto:  2024-01-18 23:45:00\n"
     ]
    }
   ],
   "source": [
    "try:\n",
    "    sdt = acc_start_date\n",
    "    tdt = (datetime.now() + timedelta(days=30)).strftime('%d-%m-%Y')\n",
    "    forecast = iex_forecast._get_processed_forecast(sdt, tdt, market_type)\n",
    "except:\n",
    "    print(f'{market_type} accuracy report already updated.')"
   ]
  },
  {
   "cell_type": "code",
   "execution_count": 10,
   "metadata": {},
   "outputs": [],
   "source": [
    "df = featured_data.merge_dataframes([forecast, dir_actual])"
   ]
  },
  {
   "cell_type": "code",
   "execution_count": 15,
   "metadata": {},
   "outputs": [],
   "source": [
    "df['Accuracy'] = (df['actual'] == df['forecast']).astype(int)\n",
    "df['Date'] = df['datetime'].dt.date"
   ]
  },
  {
   "cell_type": "code",
   "execution_count": 16,
   "metadata": {},
   "outputs": [],
   "source": [
    "curr_acc = df.groupby(df['Date'])['Accuracy'].sum().reset_index()"
   ]
  },
  {
   "cell_type": "code",
   "execution_count": 18,
   "metadata": {},
   "outputs": [],
   "source": [
    "acc = pd.concat([acc_report, curr_acc], ignore_index = True)"
   ]
  },
  {
   "cell_type": "code",
   "execution_count": 37,
   "metadata": {},
   "outputs": [],
   "source": [
    "save_pickle(acc, REPORTS_PATH, 'dir_accuracy_report')"
   ]
  },
  {
   "cell_type": "code",
   "execution_count": null,
   "metadata": {},
   "outputs": [],
   "source": [
    "print(f'Accuracy report for directional generated.')"
   ]
  }
 ],
 "metadata": {
  "kernelspec": {
   "display_name": "iex_env",
   "language": "python",
   "name": "iex_env"
  },
  "language_info": {
   "codemirror_mode": {
    "name": "ipython",
    "version": 3
   },
   "file_extension": ".py",
   "mimetype": "text/x-python",
   "name": "python",
   "nbconvert_exporter": "python",
   "pygments_lexer": "ipython3",
   "version": "3.8.10"
  },
  "orig_nbformat": 4
 },
 "nbformat": 4,
 "nbformat_minor": 2
}
