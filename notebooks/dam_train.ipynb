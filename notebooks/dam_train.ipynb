{
 "cells": [
  {
   "cell_type": "code",
   "execution_count": 36,
   "metadata": {},
   "outputs": [],
   "source": [
    "import os, sys\n",
    "import pandas as pd\n",
    "import numpy as np\n",
    "from datetime import datetime\n",
    "from dotenv import load_dotenv\n",
    "load_dotenv()\n",
    "\n",
    "PROJECT_PATH = os.getenv('PROJECT_DIR')\n",
    "sys.path.append(PROJECT_PATH)\n",
    "\n",
    "# ignore warnings\n",
    "import warnings\n",
    "warnings.filterwarnings('ignore')\n",
    "\n",
    "# visualization\n",
    "import matplotlib.pyplot as plt\n",
    "plt.rcParams['figure.figsize'] = (12, 6)"
   ]
  },
  {
   "cell_type": "code",
   "execution_count": 37,
   "metadata": {},
   "outputs": [],
   "source": [
    "# custom modules\n",
    "from src.data_ingestion.iex_data import IexDataFetcher\n",
    "from src.data_ingestion.weather_data import WeatherDataFetcher\n",
    "from src.feature_engineering.build_features import FeatureEngineering\n",
    "from src.model_building.train_model import ModelTraining\n",
    "from src.model_building.eval_model import ModelEvaluator\n",
    "from src.utils import *\n",
    "from config.paths import *"
   ]
  },
  {
   "cell_type": "code",
   "execution_count": 38,
   "metadata": {},
   "outputs": [],
   "source": [
    "# creating instances\n",
    "iex_data = IexDataFetcher()\n",
    "weather_data = WeatherDataFetcher()\n",
    "\n",
    "featured_data = FeatureEngineering(PROJECT_PATH) \n",
    "build_model = ModelTraining(PROJECT_PATH)"
   ]
  },
  {
   "cell_type": "code",
   "execution_count": 39,
   "metadata": {},
   "outputs": [],
   "source": [
    "market_type = 'dam'"
   ]
  },
  {
   "cell_type": "markdown",
   "metadata": {},
   "source": [
    "### Data Ingestion"
   ]
  },
  {
   "cell_type": "code",
   "execution_count": 40,
   "metadata": {},
   "outputs": [
    {
     "name": "stdout",
     "output_type": "stream",
     "text": [
      "dam data is already updated up to:  2024-01-16 23:45:00\n",
      "rtm data updated up to:  16-01-2024 17:15\n"
     ]
    }
   ],
   "source": [
    "dam = iex_data._get_processed_data('dam')\n",
    "rtm = iex_data._get_processed_data('rtm')\n",
    "# weather = weather_data._get_processed_weather('weather')\n",
    "# wind = weather_data._get_processed_weather('wind')\n",
    "# hydro = weather_data._get_processed_weather('hydro')\n",
    "# solar = weather_data._get_processed_weather('solar')"
   ]
  },
  {
   "cell_type": "code",
   "execution_count": 41,
   "metadata": {},
   "outputs": [],
   "source": [
    "weather = load_pickle(PROCESSED_DATA_PATH, 'weather_data')\n",
    "wind = load_pickle(PROCESSED_DATA_PATH, 'wind_data')\n",
    "hydro = load_pickle(PROCESSED_DATA_PATH, 'hydro_data')\n",
    "solar = load_pickle(PROCESSED_DATA_PATH, 'solar_data')"
   ]
  },
  {
   "cell_type": "markdown",
   "metadata": {},
   "source": [
    "### Feature Engineering"
   ]
  },
  {
   "cell_type": "code",
   "execution_count": 42,
   "metadata": {},
   "outputs": [],
   "source": [
    "rtm = featured_data.shift_date(rtm, 1) \n",
    "weather = featured_data.shift_date(weather, -1)\n",
    "hydro = featured_data.shift_date(hydro, -1) \n",
    "solar = featured_data.shift_date(solar, -1) \n",
    "wind = featured_data.shift_date(wind, -1)\n",
    "\n",
    "data = featured_data.merge_dataframes([dam, rtm, weather, hydro, solar, wind])"
   ]
  },
  {
   "cell_type": "code",
   "execution_count": 43,
   "metadata": {},
   "outputs": [],
   "source": [
    "training_data = featured_data._get_features(data, weather, market_type)"
   ]
  },
  {
   "cell_type": "code",
   "execution_count": 44,
   "metadata": {},
   "outputs": [],
   "source": [
    "save_pickle(training_data, PROCESSED_DATA_PATH, f'{market_type}_training_data')"
   ]
  },
  {
   "cell_type": "markdown",
   "metadata": {},
   "source": [
    "### Model Building"
   ]
  },
  {
   "cell_type": "code",
   "execution_count": 45,
   "metadata": {},
   "outputs": [],
   "source": [
    "training_data = load_pickle(PROCESSED_DATA_PATH, f'{market_type}_training_data')"
   ]
  },
  {
   "cell_type": "code",
   "execution_count": 46,
   "metadata": {},
   "outputs": [],
   "source": [
    "# trail and error\n",
    "n_trials = 50\n",
    "n_features = 25"
   ]
  },
  {
   "cell_type": "code",
   "execution_count": 47,
   "metadata": {},
   "outputs": [
    {
     "name": "stderr",
     "output_type": "stream",
     "text": [
      "[I 2024-01-16 16:54:03,131] A new study created in memory with name: no-name-7bdc6c53-93fa-426b-bc94-5414c80867c4\n",
      "[I 2024-01-16 16:54:04,030] Trial 0 finished with value: 15.76 and parameters: {'n_estimators': 100, 'lambda_l1': 20.0, 'lambda_l2': 50.0, 'num_leaves': 6650, 'min_data_in_leaf': 6000, 'max_bin': 267, 'feature_fraction': 0.7, 'bagging_fraction': 1.0, 'bagging_freq': 5, 'min_gain_to_split': 5.925733631039137, 'max_depth': 9, 'learning_rate': 0.02}. Best is trial 0 with value: 15.76.\n"
     ]
    },
    {
     "name": "stdout",
     "output_type": "stream",
     "text": [
      "[LightGBM] [Warning] bagging_freq is set=6, subsample_freq=0 will be ignored. Current value: bagging_freq=6\n",
      "[LightGBM] [Warning] min_data_in_leaf is set=3000, min_child_samples=20 will be ignored. Current value: min_data_in_leaf=3000\n",
      "[LightGBM] [Warning] lambda_l2 is set=10.0, reg_lambda=0.0 will be ignored. Current value: lambda_l2=10.0\n",
      "[LightGBM] [Warning] feature_fraction is set=0.4, colsample_bytree=1.0 will be ignored. Current value: feature_fraction=0.4\n",
      "[LightGBM] [Warning] bagging_fraction is set=0.8, subsample=1.0 will be ignored. Current value: bagging_fraction=0.8\n",
      "[LightGBM] [Warning] min_gain_to_split is set=4.9026576675383, min_split_gain=0.0 will be ignored. Current value: min_gain_to_split=4.9026576675383\n",
      "[LightGBM] [Warning] lambda_l1 is set=65.0, reg_alpha=0.0 will be ignored. Current value: lambda_l1=65.0\n"
     ]
    },
    {
     "name": "stderr",
     "output_type": "stream",
     "text": [
      "[I 2024-01-16 16:54:05,272] Trial 1 finished with value: 14.93 and parameters: {'n_estimators': 900, 'lambda_l1': 65.0, 'lambda_l2': 10.0, 'num_leaves': 3850, 'min_data_in_leaf': 3000, 'max_bin': 286, 'feature_fraction': 0.4, 'bagging_fraction': 0.8, 'bagging_freq': 6, 'min_gain_to_split': 4.9026576675383, 'max_depth': 15, 'learning_rate': 0.06999999999999999}. Best is trial 1 with value: 14.93.\n"
     ]
    },
    {
     "name": "stdout",
     "output_type": "stream",
     "text": [
      "[LightGBM] [Warning] bagging_freq is set=4, subsample_freq=0 will be ignored. Current value: bagging_freq=4\n",
      "[LightGBM] [Warning] min_data_in_leaf is set=500, min_child_samples=20 will be ignored. Current value: min_data_in_leaf=500\n",
      "[LightGBM] [Warning] lambda_l2 is set=15.0, reg_lambda=0.0 will be ignored. Current value: lambda_l2=15.0\n",
      "[LightGBM] [Warning] feature_fraction is set=0.8, colsample_bytree=1.0 will be ignored. Current value: feature_fraction=0.8\n",
      "[LightGBM] [Warning] bagging_fraction is set=0.5, subsample=1.0 will be ignored. Current value: bagging_fraction=0.5\n",
      "[LightGBM] [Warning] min_gain_to_split is set=1.8531709748309289, min_split_gain=0.0 will be ignored. Current value: min_gain_to_split=1.8531709748309289\n",
      "[LightGBM] [Warning] lambda_l1 is set=15.0, reg_alpha=0.0 will be ignored. Current value: lambda_l1=15.0\n"
     ]
    },
    {
     "name": "stderr",
     "output_type": "stream",
     "text": [
      "[I 2024-01-16 16:54:05,732] Trial 2 finished with value: 14.2 and parameters: {'n_estimators': 900, 'lambda_l1': 15.0, 'lambda_l2': 15.0, 'num_leaves': 8450, 'min_data_in_leaf': 500, 'max_bin': 282, 'feature_fraction': 0.8, 'bagging_fraction': 0.5, 'bagging_freq': 4, 'min_gain_to_split': 1.8531709748309289, 'max_depth': 4, 'learning_rate': 0.14}. Best is trial 2 with value: 14.2.\n"
     ]
    },
    {
     "name": "stdout",
     "output_type": "stream",
     "text": [
      "[LightGBM] [Warning] bagging_freq is set=2, subsample_freq=0 will be ignored. Current value: bagging_freq=2\n",
      "[LightGBM] [Warning] min_data_in_leaf is set=9500, min_child_samples=20 will be ignored. Current value: min_data_in_leaf=9500\n",
      "[LightGBM] [Warning] lambda_l2 is set=50.0, reg_lambda=0.0 will be ignored. Current value: lambda_l2=50.0\n",
      "[LightGBM] [Warning] feature_fraction is set=0.4, colsample_bytree=1.0 will be ignored. Current value: feature_fraction=0.4\n",
      "[LightGBM] [Warning] bagging_fraction is set=0.8, subsample=1.0 will be ignored. Current value: bagging_fraction=0.8\n",
      "[LightGBM] [Warning] min_gain_to_split is set=12.28250038508386, min_split_gain=0.0 will be ignored. Current value: min_gain_to_split=12.28250038508386\n",
      "[LightGBM] [Warning] lambda_l1 is set=100.0, reg_alpha=0.0 will be ignored. Current value: lambda_l1=100.0\n"
     ]
    },
    {
     "name": "stderr",
     "output_type": "stream",
     "text": [
      "[I 2024-01-16 16:54:06,132] Trial 3 finished with value: 16.9 and parameters: {'n_estimators': 800, 'lambda_l1': 100.0, 'lambda_l2': 50.0, 'num_leaves': 6100, 'min_data_in_leaf': 9500, 'max_bin': 284, 'feature_fraction': 0.4, 'bagging_fraction': 0.8, 'bagging_freq': 2, 'min_gain_to_split': 12.28250038508386, 'max_depth': 6, 'learning_rate': 0.13}. Best is trial 2 with value: 14.2.\n"
     ]
    },
    {
     "name": "stdout",
     "output_type": "stream",
     "text": [
      "[LightGBM] [Warning] bagging_freq is set=3, subsample_freq=0 will be ignored. Current value: bagging_freq=3\n",
      "[LightGBM] [Warning] min_data_in_leaf is set=6700, min_child_samples=20 will be ignored. Current value: min_data_in_leaf=6700\n",
      "[LightGBM] [Warning] lambda_l2 is set=10.0, reg_lambda=0.0 will be ignored. Current value: lambda_l2=10.0\n",
      "[LightGBM] [Warning] feature_fraction is set=0.3, colsample_bytree=1.0 will be ignored. Current value: feature_fraction=0.3\n",
      "[LightGBM] [Warning] bagging_fraction is set=0.9000000000000001, subsample=1.0 will be ignored. Current value: bagging_fraction=0.9000000000000001\n",
      "[LightGBM] [Warning] min_gain_to_split is set=13.082302981255477, min_split_gain=0.0 will be ignored. Current value: min_gain_to_split=13.082302981255477\n",
      "[LightGBM] [Warning] lambda_l1 is set=35.0, reg_alpha=0.0 will be ignored. Current value: lambda_l1=35.0\n"
     ]
    },
    {
     "name": "stderr",
     "output_type": "stream",
     "text": [
      "[I 2024-01-16 16:54:06,648] Trial 4 finished with value: 16.79 and parameters: {'n_estimators': 200, 'lambda_l1': 35.0, 'lambda_l2': 10.0, 'num_leaves': 1300, 'min_data_in_leaf': 6700, 'max_bin': 203, 'feature_fraction': 0.3, 'bagging_fraction': 0.9000000000000001, 'bagging_freq': 3, 'min_gain_to_split': 13.082302981255477, 'max_depth': 13, 'learning_rate': 0.22}. Best is trial 2 with value: 14.2.\n"
     ]
    },
    {
     "name": "stdout",
     "output_type": "stream",
     "text": [
      "[LightGBM] [Warning] bagging_freq is set=1, subsample_freq=0 will be ignored. Current value: bagging_freq=1\n",
      "[LightGBM] [Warning] min_data_in_leaf is set=4700, min_child_samples=20 will be ignored. Current value: min_data_in_leaf=4700\n",
      "[LightGBM] [Warning] lambda_l2 is set=90.0, reg_lambda=0.0 will be ignored. Current value: lambda_l2=90.0\n",
      "[LightGBM] [Warning] feature_fraction is set=0.8, colsample_bytree=1.0 will be ignored. Current value: feature_fraction=0.8\n",
      "[LightGBM] [Warning] bagging_fraction is set=0.3, subsample=1.0 will be ignored. Current value: bagging_fraction=0.3\n",
      "[LightGBM] [Warning] min_gain_to_split is set=11.833723640936567, min_split_gain=0.0 will be ignored. Current value: min_gain_to_split=11.833723640936567\n",
      "[LightGBM] [Warning] lambda_l1 is set=20.0, reg_alpha=0.0 will be ignored. Current value: lambda_l1=20.0\n"
     ]
    },
    {
     "name": "stderr",
     "output_type": "stream",
     "text": [
      "[I 2024-01-16 16:54:07,068] Trial 5 finished with value: 19.48 and parameters: {'n_estimators': 500, 'lambda_l1': 20.0, 'lambda_l2': 90.0, 'num_leaves': 4050, 'min_data_in_leaf': 4700, 'max_bin': 289, 'feature_fraction': 0.8, 'bagging_fraction': 0.3, 'bagging_freq': 1, 'min_gain_to_split': 11.833723640936567, 'max_depth': 10, 'learning_rate': 0.17}. Best is trial 2 with value: 14.2.\n"
     ]
    },
    {
     "name": "stdout",
     "output_type": "stream",
     "text": [
      "[LightGBM] [Warning] bagging_freq is set=4, subsample_freq=0 will be ignored. Current value: bagging_freq=4\n",
      "[LightGBM] [Warning] min_data_in_leaf is set=4500, min_child_samples=20 will be ignored. Current value: min_data_in_leaf=4500\n",
      "[LightGBM] [Warning] lambda_l2 is set=30.0, reg_lambda=0.0 will be ignored. Current value: lambda_l2=30.0\n",
      "[LightGBM] [Warning] feature_fraction is set=0.6000000000000001, colsample_bytree=1.0 will be ignored. Current value: feature_fraction=0.6000000000000001\n",
      "[LightGBM] [Warning] bagging_fraction is set=0.5, subsample=1.0 will be ignored. Current value: bagging_fraction=0.5\n",
      "[LightGBM] [Warning] min_gain_to_split is set=14.787874327334169, min_split_gain=0.0 will be ignored. Current value: min_gain_to_split=14.787874327334169\n",
      "[LightGBM] [Warning] lambda_l1 is set=20.0, reg_alpha=0.0 will be ignored. Current value: lambda_l1=20.0\n"
     ]
    },
    {
     "name": "stderr",
     "output_type": "stream",
     "text": [
      "[I 2024-01-16 16:54:07,506] Trial 6 finished with value: 16.33 and parameters: {'n_estimators': 100, 'lambda_l1': 20.0, 'lambda_l2': 30.0, 'num_leaves': 9650, 'min_data_in_leaf': 4500, 'max_bin': 260, 'feature_fraction': 0.6000000000000001, 'bagging_fraction': 0.5, 'bagging_freq': 4, 'min_gain_to_split': 14.787874327334169, 'max_depth': 3, 'learning_rate': 0.3}. Best is trial 2 with value: 14.2.\n"
     ]
    },
    {
     "name": "stdout",
     "output_type": "stream",
     "text": [
      "[LightGBM] [Warning] bagging_freq is set=1, subsample_freq=0 will be ignored. Current value: bagging_freq=1\n",
      "[LightGBM] [Warning] min_data_in_leaf is set=1900, min_child_samples=20 will be ignored. Current value: min_data_in_leaf=1900\n",
      "[LightGBM] [Warning] lambda_l2 is set=20.0, reg_lambda=0.0 will be ignored. Current value: lambda_l2=20.0\n",
      "[LightGBM] [Warning] feature_fraction is set=0.4, colsample_bytree=1.0 will be ignored. Current value: feature_fraction=0.4\n",
      "[LightGBM] [Warning] bagging_fraction is set=0.5, subsample=1.0 will be ignored. Current value: bagging_fraction=0.5\n",
      "[LightGBM] [Warning] min_gain_to_split is set=0.2822466667661533, min_split_gain=0.0 will be ignored. Current value: min_gain_to_split=0.2822466667661533\n",
      "[LightGBM] [Warning] lambda_l1 is set=45.0, reg_alpha=0.0 will be ignored. Current value: lambda_l1=45.0\n"
     ]
    },
    {
     "name": "stderr",
     "output_type": "stream",
     "text": [
      "[I 2024-01-16 16:54:08,548] Trial 7 finished with value: 14.92 and parameters: {'n_estimators': 700, 'lambda_l1': 45.0, 'lambda_l2': 20.0, 'num_leaves': 2600, 'min_data_in_leaf': 1900, 'max_bin': 268, 'feature_fraction': 0.4, 'bagging_fraction': 0.5, 'bagging_freq': 1, 'min_gain_to_split': 0.2822466667661533, 'max_depth': 9, 'learning_rate': 0.060000000000000005}. Best is trial 2 with value: 14.2.\n"
     ]
    },
    {
     "name": "stdout",
     "output_type": "stream",
     "text": [
      "[LightGBM] [Warning] bagging_freq is set=1, subsample_freq=0 will be ignored. Current value: bagging_freq=1\n",
      "[LightGBM] [Warning] min_data_in_leaf is set=2500, min_child_samples=20 will be ignored. Current value: min_data_in_leaf=2500\n",
      "[LightGBM] [Warning] lambda_l2 is set=5.0, reg_lambda=0.0 will be ignored. Current value: lambda_l2=5.0\n",
      "[LightGBM] [Warning] feature_fraction is set=0.8, colsample_bytree=1.0 will be ignored. Current value: feature_fraction=0.8\n",
      "[LightGBM] [Warning] bagging_fraction is set=0.8, subsample=1.0 will be ignored. Current value: bagging_fraction=0.8\n",
      "[LightGBM] [Warning] min_gain_to_split is set=8.410341716604972, min_split_gain=0.0 will be ignored. Current value: min_gain_to_split=8.410341716604972\n",
      "[LightGBM] [Warning] lambda_l1 is set=70.0, reg_alpha=0.0 will be ignored. Current value: lambda_l1=70.0\n"
     ]
    },
    {
     "name": "stderr",
     "output_type": "stream",
     "text": [
      "[I 2024-01-16 16:54:08,963] Trial 8 finished with value: 15.0 and parameters: {'n_estimators': 200, 'lambda_l1': 70.0, 'lambda_l2': 5.0, 'num_leaves': 850, 'min_data_in_leaf': 2500, 'max_bin': 243, 'feature_fraction': 0.8, 'bagging_fraction': 0.8, 'bagging_freq': 1, 'min_gain_to_split': 8.410341716604972, 'max_depth': 7, 'learning_rate': 0.21000000000000002}. Best is trial 2 with value: 14.2.\n"
     ]
    },
    {
     "name": "stdout",
     "output_type": "stream",
     "text": [
      "[LightGBM] [Warning] bagging_freq is set=3, subsample_freq=0 will be ignored. Current value: bagging_freq=3\n",
      "[LightGBM] [Warning] min_data_in_leaf is set=3200, min_child_samples=20 will be ignored. Current value: min_data_in_leaf=3200\n",
      "[LightGBM] [Warning] lambda_l2 is set=45.0, reg_lambda=0.0 will be ignored. Current value: lambda_l2=45.0\n",
      "[LightGBM] [Warning] feature_fraction is set=0.3, colsample_bytree=1.0 will be ignored. Current value: feature_fraction=0.3\n",
      "[LightGBM] [Warning] bagging_fraction is set=0.9000000000000001, subsample=1.0 will be ignored. Current value: bagging_fraction=0.9000000000000001\n",
      "[LightGBM] [Warning] min_gain_to_split is set=6.172988295062021, min_split_gain=0.0 will be ignored. Current value: min_gain_to_split=6.172988295062021\n",
      "[LightGBM] [Warning] lambda_l1 is set=35.0, reg_alpha=0.0 will be ignored. Current value: lambda_l1=35.0\n"
     ]
    },
    {
     "name": "stderr",
     "output_type": "stream",
     "text": [
      "[I 2024-01-16 16:54:09,431] Trial 9 finished with value: 15.88 and parameters: {'n_estimators': 100, 'lambda_l1': 35.0, 'lambda_l2': 45.0, 'num_leaves': 2550, 'min_data_in_leaf': 3200, 'max_bin': 234, 'feature_fraction': 0.3, 'bagging_fraction': 0.9000000000000001, 'bagging_freq': 3, 'min_gain_to_split': 6.172988295062021, 'max_depth': 10, 'learning_rate': 0.3}. Best is trial 2 with value: 14.2.\n"
     ]
    },
    {
     "name": "stdout",
     "output_type": "stream",
     "text": [
      "[LightGBM] [Warning] bagging_freq is set=7, subsample_freq=0 will be ignored. Current value: bagging_freq=7\n",
      "[LightGBM] [Warning] min_data_in_leaf is set=200, min_child_samples=20 will be ignored. Current value: min_data_in_leaf=200\n",
      "[LightGBM] [Warning] lambda_l2 is set=80.0, reg_lambda=0.0 will be ignored. Current value: lambda_l2=80.0\n",
      "[LightGBM] [Warning] feature_fraction is set=1.0, colsample_bytree=1.0 will be ignored. Current value: feature_fraction=1.0\n",
      "[LightGBM] [Warning] bagging_fraction is set=0.3, subsample=1.0 will be ignored. Current value: bagging_fraction=0.3\n",
      "[LightGBM] [Warning] min_gain_to_split is set=0.22427073357386917, min_split_gain=0.0 will be ignored. Current value: min_gain_to_split=0.22427073357386917\n",
      "[LightGBM] [Warning] lambda_l1 is set=0.0, reg_alpha=0.0 will be ignored. Current value: lambda_l1=0.0\n"
     ]
    },
    {
     "name": "stderr",
     "output_type": "stream",
     "text": [
      "[I 2024-01-16 16:54:09,939] Trial 10 finished with value: 14.14 and parameters: {'n_estimators': 1000, 'lambda_l1': 0.0, 'lambda_l2': 80.0, 'num_leaves': 9350, 'min_data_in_leaf': 200, 'max_bin': 222, 'feature_fraction': 1.0, 'bagging_fraction': 0.3, 'bagging_freq': 7, 'min_gain_to_split': 0.22427073357386917, 'max_depth': 3, 'learning_rate': 0.12}. Best is trial 10 with value: 14.14.\n"
     ]
    },
    {
     "name": "stdout",
     "output_type": "stream",
     "text": [
      "[LightGBM] [Warning] bagging_freq is set=7, subsample_freq=0 will be ignored. Current value: bagging_freq=7\n",
      "[LightGBM] [Warning] min_data_in_leaf is set=300, min_child_samples=20 will be ignored. Current value: min_data_in_leaf=300\n",
      "[LightGBM] [Warning] lambda_l2 is set=85.0, reg_lambda=0.0 will be ignored. Current value: lambda_l2=85.0\n",
      "[LightGBM] [Warning] feature_fraction is set=1.0, colsample_bytree=1.0 will be ignored. Current value: feature_fraction=1.0\n",
      "[LightGBM] [Warning] bagging_fraction is set=0.3, subsample=1.0 will be ignored. Current value: bagging_fraction=0.3\n",
      "[LightGBM] [Warning] min_gain_to_split is set=0.06509393975271793, min_split_gain=0.0 will be ignored. Current value: min_gain_to_split=0.06509393975271793\n",
      "[LightGBM] [Warning] lambda_l1 is set=0.0, reg_alpha=0.0 will be ignored. Current value: lambda_l1=0.0\n"
     ]
    },
    {
     "name": "stderr",
     "output_type": "stream",
     "text": [
      "[I 2024-01-16 16:54:10,465] Trial 11 finished with value: 14.19 and parameters: {'n_estimators': 1000, 'lambda_l1': 0.0, 'lambda_l2': 85.0, 'num_leaves': 9550, 'min_data_in_leaf': 300, 'max_bin': 217, 'feature_fraction': 1.0, 'bagging_fraction': 0.3, 'bagging_freq': 7, 'min_gain_to_split': 0.06509393975271793, 'max_depth': 3, 'learning_rate': 0.12}. Best is trial 10 with value: 14.14.\n"
     ]
    },
    {
     "name": "stdout",
     "output_type": "stream",
     "text": [
      "[LightGBM] [Warning] bagging_freq is set=7, subsample_freq=0 will be ignored. Current value: bagging_freq=7\n",
      "[LightGBM] [Warning] min_data_in_leaf is set=200, min_child_samples=20 will be ignored. Current value: min_data_in_leaf=200\n",
      "[LightGBM] [Warning] lambda_l2 is set=85.0, reg_lambda=0.0 will be ignored. Current value: lambda_l2=85.0\n",
      "[LightGBM] [Warning] feature_fraction is set=1.0, colsample_bytree=1.0 will be ignored. Current value: feature_fraction=1.0\n",
      "[LightGBM] [Warning] bagging_fraction is set=0.3, subsample=1.0 will be ignored. Current value: bagging_fraction=0.3\n",
      "[LightGBM] [Warning] min_gain_to_split is set=2.7965017592834767, min_split_gain=0.0 will be ignored. Current value: min_gain_to_split=2.7965017592834767\n",
      "[LightGBM] [Warning] lambda_l1 is set=5.0, reg_alpha=0.0 will be ignored. Current value: lambda_l1=5.0\n"
     ]
    },
    {
     "name": "stderr",
     "output_type": "stream",
     "text": [
      "[I 2024-01-16 16:54:11,548] Trial 12 finished with value: 14.0 and parameters: {'n_estimators': 1000, 'lambda_l1': 5.0, 'lambda_l2': 85.0, 'num_leaves': 9900, 'min_data_in_leaf': 200, 'max_bin': 216, 'feature_fraction': 1.0, 'bagging_fraction': 0.3, 'bagging_freq': 7, 'min_gain_to_split': 2.7965017592834767, 'max_depth': 5, 'learning_rate': 0.09999999999999999}. Best is trial 12 with value: 14.0.\n"
     ]
    },
    {
     "name": "stdout",
     "output_type": "stream",
     "text": [
      "[LightGBM] [Warning] bagging_freq is set=7, subsample_freq=0 will be ignored. Current value: bagging_freq=7\n",
      "[LightGBM] [Warning] min_data_in_leaf is set=900, min_child_samples=20 will be ignored. Current value: min_data_in_leaf=900\n",
      "[LightGBM] [Warning] lambda_l2 is set=75.0, reg_lambda=0.0 will be ignored. Current value: lambda_l2=75.0\n",
      "[LightGBM] [Warning] feature_fraction is set=1.0, colsample_bytree=1.0 will be ignored. Current value: feature_fraction=1.0\n",
      "[LightGBM] [Warning] bagging_fraction is set=0.4, subsample=1.0 will be ignored. Current value: bagging_fraction=0.4\n",
      "[LightGBM] [Warning] min_gain_to_split is set=3.0670271692709195, min_split_gain=0.0 will be ignored. Current value: min_gain_to_split=3.0670271692709195\n",
      "[LightGBM] [Warning] lambda_l1 is set=0.0, reg_alpha=0.0 will be ignored. Current value: lambda_l1=0.0\n"
     ]
    },
    {
     "name": "stderr",
     "output_type": "stream",
     "text": [
      "[I 2024-01-16 16:54:12,858] Trial 13 finished with value: 14.75 and parameters: {'n_estimators': 600, 'lambda_l1': 0.0, 'lambda_l2': 75.0, 'num_leaves': 7850, 'min_data_in_leaf': 900, 'max_bin': 225, 'feature_fraction': 1.0, 'bagging_fraction': 0.4, 'bagging_freq': 7, 'min_gain_to_split': 3.0670271692709195, 'max_depth': 5, 'learning_rate': 0.08}. Best is trial 12 with value: 14.0.\n"
     ]
    },
    {
     "name": "stdout",
     "output_type": "stream",
     "text": [
      "[LightGBM] [Warning] bagging_freq is set=6, subsample_freq=0 will be ignored. Current value: bagging_freq=6\n",
      "[LightGBM] [Warning] min_data_in_leaf is set=1700, min_child_samples=20 will be ignored. Current value: min_data_in_leaf=1700\n",
      "[LightGBM] [Warning] lambda_l2 is set=75.0, reg_lambda=0.0 will be ignored. Current value: lambda_l2=75.0\n",
      "[LightGBM] [Warning] feature_fraction is set=1.0, colsample_bytree=1.0 will be ignored. Current value: feature_fraction=1.0\n",
      "[LightGBM] [Warning] bagging_fraction is set=0.6000000000000001, subsample=1.0 will be ignored. Current value: bagging_fraction=0.6000000000000001\n",
      "[LightGBM] [Warning] min_gain_to_split is set=3.159660885038679, min_split_gain=0.0 will be ignored. Current value: min_gain_to_split=3.159660885038679\n",
      "[LightGBM] [Warning] lambda_l1 is set=0.0, reg_alpha=0.0 will be ignored. Current value: lambda_l1=0.0\n"
     ]
    },
    {
     "name": "stderr",
     "output_type": "stream",
     "text": [
      "[I 2024-01-16 16:54:16,110] Trial 14 finished with value: 14.92 and parameters: {'n_estimators': 1000, 'lambda_l1': 0.0, 'lambda_l2': 75.0, 'num_leaves': 7950, 'min_data_in_leaf': 1700, 'max_bin': 208, 'feature_fraction': 1.0, 'bagging_fraction': 0.6000000000000001, 'bagging_freq': 6, 'min_gain_to_split': 3.159660885038679, 'max_depth': 7, 'learning_rate': 0.01}. Best is trial 12 with value: 14.0.\n"
     ]
    },
    {
     "name": "stdout",
     "output_type": "stream",
     "text": [
      "[LightGBM] [Warning] bagging_freq is set=6, subsample_freq=0 will be ignored. Current value: bagging_freq=6\n",
      "[LightGBM] [Warning] min_data_in_leaf is set=8400, min_child_samples=20 will be ignored. Current value: min_data_in_leaf=8400\n",
      "[LightGBM] [Warning] lambda_l2 is set=100.0, reg_lambda=0.0 will be ignored. Current value: lambda_l2=100.0\n",
      "[LightGBM] [Warning] feature_fraction is set=0.9000000000000001, colsample_bytree=1.0 will be ignored. Current value: feature_fraction=0.9000000000000001\n",
      "[LightGBM] [Warning] bagging_fraction is set=0.3, subsample=1.0 will be ignored. Current value: bagging_fraction=0.3\n",
      "[LightGBM] [Warning] min_gain_to_split is set=2.6751206091439554, min_split_gain=0.0 will be ignored. Current value: min_gain_to_split=2.6751206091439554\n",
      "[LightGBM] [Warning] lambda_l1 is set=10.0, reg_alpha=0.0 will be ignored. Current value: lambda_l1=10.0\n"
     ]
    },
    {
     "name": "stderr",
     "output_type": "stream",
     "text": [
      "[I 2024-01-16 16:54:16,578] Trial 15 finished with value: 24.7 and parameters: {'n_estimators': 400, 'lambda_l1': 10.0, 'lambda_l2': 100.0, 'num_leaves': 6300, 'min_data_in_leaf': 8400, 'max_bin': 225, 'feature_fraction': 0.9000000000000001, 'bagging_fraction': 0.3, 'bagging_freq': 6, 'min_gain_to_split': 2.6751206091439554, 'max_depth': 5, 'learning_rate': 0.09999999999999999}. Best is trial 12 with value: 14.0.\n"
     ]
    },
    {
     "name": "stdout",
     "output_type": "stream",
     "text": [
      "[LightGBM] [Warning] bagging_freq is set=7, subsample_freq=0 will be ignored. Current value: bagging_freq=7\n",
      "[LightGBM] [Warning] min_data_in_leaf is set=3800, min_child_samples=20 will be ignored. Current value: min_data_in_leaf=3800\n",
      "[LightGBM] [Warning] lambda_l2 is set=65.0, reg_lambda=0.0 will be ignored. Current value: lambda_l2=65.0\n",
      "[LightGBM] [Warning] feature_fraction is set=0.9000000000000001, colsample_bytree=1.0 will be ignored. Current value: feature_fraction=0.9000000000000001\n",
      "[LightGBM] [Warning] bagging_fraction is set=0.4, subsample=1.0 will be ignored. Current value: bagging_fraction=0.4\n",
      "[LightGBM] [Warning] min_gain_to_split is set=9.54502285707649, min_split_gain=0.0 will be ignored. Current value: min_gain_to_split=9.54502285707649\n",
      "[LightGBM] [Warning] lambda_l1 is set=35.0, reg_alpha=0.0 will be ignored. Current value: lambda_l1=35.0\n"
     ]
    },
    {
     "name": "stderr",
     "output_type": "stream",
     "text": [
      "[I 2024-01-16 16:54:17,078] Trial 16 finished with value: 16.27 and parameters: {'n_estimators': 800, 'lambda_l1': 35.0, 'lambda_l2': 65.0, 'num_leaves': 10000, 'min_data_in_leaf': 3800, 'max_bin': 243, 'feature_fraction': 0.9000000000000001, 'bagging_fraction': 0.4, 'bagging_freq': 7, 'min_gain_to_split': 9.54502285707649, 'max_depth': 3, 'learning_rate': 0.18000000000000002}. Best is trial 12 with value: 14.0.\n"
     ]
    },
    {
     "name": "stdout",
     "output_type": "stream",
     "text": [
      "[LightGBM] [Warning] bagging_freq is set=5, subsample_freq=0 will be ignored. Current value: bagging_freq=5\n",
      "[LightGBM] [Warning] min_data_in_leaf is set=1400, min_child_samples=20 will be ignored. Current value: min_data_in_leaf=1400\n",
      "[LightGBM] [Warning] lambda_l2 is set=65.0, reg_lambda=0.0 will be ignored. Current value: lambda_l2=65.0\n",
      "[LightGBM] [Warning] feature_fraction is set=0.6000000000000001, colsample_bytree=1.0 will be ignored. Current value: feature_fraction=0.6000000000000001\n",
      "[LightGBM] [Warning] bagging_fraction is set=0.4, subsample=1.0 will be ignored. Current value: bagging_fraction=0.4\n",
      "[LightGBM] [Warning] min_gain_to_split is set=1.6610522504558842, min_split_gain=0.0 will be ignored. Current value: min_gain_to_split=1.6610522504558842\n",
      "[LightGBM] [Warning] lambda_l1 is set=100.0, reg_alpha=0.0 will be ignored. Current value: lambda_l1=100.0\n"
     ]
    },
    {
     "name": "stderr",
     "output_type": "stream",
     "text": [
      "[I 2024-01-16 16:54:17,682] Trial 17 finished with value: 15.24 and parameters: {'n_estimators': 1000, 'lambda_l1': 100.0, 'lambda_l2': 65.0, 'num_leaves': 8700, 'min_data_in_leaf': 1400, 'max_bin': 215, 'feature_fraction': 0.6000000000000001, 'bagging_fraction': 0.4, 'bagging_freq': 5, 'min_gain_to_split': 1.6610522504558842, 'max_depth': 5, 'learning_rate': 0.23}. Best is trial 12 with value: 14.0.\n"
     ]
    },
    {
     "name": "stdout",
     "output_type": "stream",
     "text": [
      "[LightGBM] [Warning] bagging_freq is set=5, subsample_freq=0 will be ignored. Current value: bagging_freq=5\n",
      "[LightGBM] [Warning] min_data_in_leaf is set=200, min_child_samples=20 will be ignored. Current value: min_data_in_leaf=200\n",
      "[LightGBM] [Warning] lambda_l2 is set=100.0, reg_lambda=0.0 will be ignored. Current value: lambda_l2=100.0\n",
      "[LightGBM] [Warning] feature_fraction is set=0.9000000000000001, colsample_bytree=1.0 will be ignored. Current value: feature_fraction=0.9000000000000001\n",
      "[LightGBM] [Warning] bagging_fraction is set=0.6000000000000001, subsample=1.0 will be ignored. Current value: bagging_fraction=0.6000000000000001\n",
      "[LightGBM] [Warning] min_gain_to_split is set=4.5071428512787115, min_split_gain=0.0 will be ignored. Current value: min_gain_to_split=4.5071428512787115\n",
      "[LightGBM] [Warning] lambda_l1 is set=70.0, reg_alpha=0.0 will be ignored. Current value: lambda_l1=70.0\n"
     ]
    },
    {
     "name": "stderr",
     "output_type": "stream",
     "text": [
      "[I 2024-01-16 16:54:19,254] Trial 18 finished with value: 14.2 and parameters: {'n_estimators': 700, 'lambda_l1': 70.0, 'lambda_l2': 100.0, 'num_leaves': 7250, 'min_data_in_leaf': 200, 'max_bin': 201, 'feature_fraction': 0.9000000000000001, 'bagging_fraction': 0.6000000000000001, 'bagging_freq': 5, 'min_gain_to_split': 4.5071428512787115, 'max_depth': 7, 'learning_rate': 0.05}. Best is trial 12 with value: 14.0.\n"
     ]
    },
    {
     "name": "stdout",
     "output_type": "stream",
     "text": [
      "[LightGBM] [Warning] bagging_freq is set=7, subsample_freq=0 will be ignored. Current value: bagging_freq=7\n",
      "[LightGBM] [Warning] min_data_in_leaf is set=6000, min_child_samples=20 will be ignored. Current value: min_data_in_leaf=6000\n",
      "[LightGBM] [Warning] lambda_l2 is set=65.0, reg_lambda=0.0 will be ignored. Current value: lambda_l2=65.0\n",
      "[LightGBM] [Warning] feature_fraction is set=0.7, colsample_bytree=1.0 will be ignored. Current value: feature_fraction=0.7\n",
      "[LightGBM] [Warning] bagging_fraction is set=0.3, subsample=1.0 will be ignored. Current value: bagging_fraction=0.3\n",
      "[LightGBM] [Warning] min_gain_to_split is set=1.2821201113012848, min_split_gain=0.0 will be ignored. Current value: min_gain_to_split=1.2821201113012848\n",
      "[LightGBM] [Warning] lambda_l1 is set=55.0, reg_alpha=0.0 will be ignored. Current value: lambda_l1=55.0\n"
     ]
    },
    {
     "name": "stderr",
     "output_type": "stream",
     "text": [
      "[I 2024-01-16 16:54:19,764] Trial 19 finished with value: 20.61 and parameters: {'n_estimators': 900, 'lambda_l1': 55.0, 'lambda_l2': 65.0, 'num_leaves': 5500, 'min_data_in_leaf': 6000, 'max_bin': 228, 'feature_fraction': 0.7, 'bagging_fraction': 0.3, 'bagging_freq': 7, 'min_gain_to_split': 1.2821201113012848, 'max_depth': 4, 'learning_rate': 0.09999999999999999}. Best is trial 12 with value: 14.0.\n"
     ]
    },
    {
     "name": "stdout",
     "output_type": "stream",
     "text": [
      "[LightGBM] [Warning] bagging_freq is set=6, subsample_freq=0 will be ignored. Current value: bagging_freq=6\n",
      "[LightGBM] [Warning] min_data_in_leaf is set=2100, min_child_samples=20 will be ignored. Current value: min_data_in_leaf=2100\n",
      "[LightGBM] [Warning] lambda_l2 is set=85.0, reg_lambda=0.0 will be ignored. Current value: lambda_l2=85.0\n",
      "[LightGBM] [Warning] feature_fraction is set=1.0, colsample_bytree=1.0 will be ignored. Current value: feature_fraction=1.0\n",
      "[LightGBM] [Warning] bagging_fraction is set=0.7, subsample=1.0 will be ignored. Current value: bagging_fraction=0.7\n",
      "[LightGBM] [Warning] min_gain_to_split is set=4.366585308549038, min_split_gain=0.0 will be ignored. Current value: min_gain_to_split=4.366585308549038\n",
      "[LightGBM] [Warning] lambda_l1 is set=85.0, reg_alpha=0.0 will be ignored. Current value: lambda_l1=85.0\n"
     ]
    },
    {
     "name": "stderr",
     "output_type": "stream",
     "text": [
      "[I 2024-01-16 16:54:20,713] Trial 20 finished with value: 15.13 and parameters: {'n_estimators': 500, 'lambda_l1': 85.0, 'lambda_l2': 85.0, 'num_leaves': 9050, 'min_data_in_leaf': 2100, 'max_bin': 300, 'feature_fraction': 1.0, 'bagging_fraction': 0.7, 'bagging_freq': 6, 'min_gain_to_split': 4.366585308549038, 'max_depth': 12, 'learning_rate': 0.16}. Best is trial 12 with value: 14.0.\n"
     ]
    },
    {
     "name": "stdout",
     "output_type": "stream",
     "text": [
      "[LightGBM] [Warning] bagging_freq is set=7, subsample_freq=0 will be ignored. Current value: bagging_freq=7\n",
      "[LightGBM] [Warning] min_data_in_leaf is set=200, min_child_samples=20 will be ignored. Current value: min_data_in_leaf=200\n",
      "[LightGBM] [Warning] lambda_l2 is set=85.0, reg_lambda=0.0 will be ignored. Current value: lambda_l2=85.0\n",
      "[LightGBM] [Warning] feature_fraction is set=1.0, colsample_bytree=1.0 will be ignored. Current value: feature_fraction=1.0\n",
      "[LightGBM] [Warning] bagging_fraction is set=0.3, subsample=1.0 will be ignored. Current value: bagging_fraction=0.3\n",
      "[LightGBM] [Warning] min_gain_to_split is set=0.061710517311614324, min_split_gain=0.0 will be ignored. Current value: min_gain_to_split=0.061710517311614324\n",
      "[LightGBM] [Warning] lambda_l1 is set=5.0, reg_alpha=0.0 will be ignored. Current value: lambda_l1=5.0\n"
     ]
    },
    {
     "name": "stderr",
     "output_type": "stream",
     "text": [
      "[I 2024-01-16 16:54:21,275] Trial 21 finished with value: 14.13 and parameters: {'n_estimators': 1000, 'lambda_l1': 5.0, 'lambda_l2': 85.0, 'num_leaves': 9350, 'min_data_in_leaf': 200, 'max_bin': 215, 'feature_fraction': 1.0, 'bagging_fraction': 0.3, 'bagging_freq': 7, 'min_gain_to_split': 0.061710517311614324, 'max_depth': 3, 'learning_rate': 0.12}. Best is trial 12 with value: 14.0.\n"
     ]
    },
    {
     "name": "stdout",
     "output_type": "stream",
     "text": [
      "[LightGBM] [Warning] bagging_freq is set=7, subsample_freq=0 will be ignored. Current value: bagging_freq=7\n",
      "[LightGBM] [Warning] min_data_in_leaf is set=1200, min_child_samples=20 will be ignored. Current value: min_data_in_leaf=1200\n",
      "[LightGBM] [Warning] lambda_l2 is set=75.0, reg_lambda=0.0 will be ignored. Current value: lambda_l2=75.0\n",
      "[LightGBM] [Warning] feature_fraction is set=0.9000000000000001, colsample_bytree=1.0 will be ignored. Current value: feature_fraction=0.9000000000000001\n",
      "[LightGBM] [Warning] bagging_fraction is set=0.4, subsample=1.0 will be ignored. Current value: bagging_fraction=0.4\n",
      "[LightGBM] [Warning] min_gain_to_split is set=0.10608807259051156, min_split_gain=0.0 will be ignored. Current value: min_gain_to_split=0.10608807259051156\n",
      "[LightGBM] [Warning] lambda_l1 is set=10.0, reg_alpha=0.0 will be ignored. Current value: lambda_l1=10.0\n"
     ]
    },
    {
     "name": "stderr",
     "output_type": "stream",
     "text": [
      "[I 2024-01-16 16:54:22,077] Trial 22 finished with value: 14.81 and parameters: {'n_estimators': 800, 'lambda_l1': 10.0, 'lambda_l2': 75.0, 'num_leaves': 7400, 'min_data_in_leaf': 1200, 'max_bin': 214, 'feature_fraction': 0.9000000000000001, 'bagging_fraction': 0.4, 'bagging_freq': 7, 'min_gain_to_split': 0.10608807259051156, 'max_depth': 4, 'learning_rate': 0.11}. Best is trial 12 with value: 14.0.\n"
     ]
    },
    {
     "name": "stdout",
     "output_type": "stream",
     "text": [
      "[LightGBM] [Warning] bagging_freq is set=6, subsample_freq=0 will be ignored. Current value: bagging_freq=6\n",
      "[LightGBM] [Warning] min_data_in_leaf is set=200, min_child_samples=20 will be ignored. Current value: min_data_in_leaf=200\n",
      "[LightGBM] [Warning] lambda_l2 is set=90.0, reg_lambda=0.0 will be ignored. Current value: lambda_l2=90.0\n",
      "[LightGBM] [Warning] feature_fraction is set=1.0, colsample_bytree=1.0 will be ignored. Current value: feature_fraction=1.0\n",
      "[LightGBM] [Warning] bagging_fraction is set=0.3, subsample=1.0 will be ignored. Current value: bagging_fraction=0.3\n",
      "[LightGBM] [Warning] min_gain_to_split is set=1.653657191683488, min_split_gain=0.0 will be ignored. Current value: min_gain_to_split=1.653657191683488\n",
      "[LightGBM] [Warning] lambda_l1 is set=10.0, reg_alpha=0.0 will be ignored. Current value: lambda_l1=10.0\n"
     ]
    },
    {
     "name": "stderr",
     "output_type": "stream",
     "text": [
      "[I 2024-01-16 16:54:22,964] Trial 23 finished with value: 14.04 and parameters: {'n_estimators': 1000, 'lambda_l1': 10.0, 'lambda_l2': 90.0, 'num_leaves': 8850, 'min_data_in_leaf': 200, 'max_bin': 237, 'feature_fraction': 1.0, 'bagging_fraction': 0.3, 'bagging_freq': 6, 'min_gain_to_split': 1.653657191683488, 'max_depth': 6, 'learning_rate': 0.14}. Best is trial 12 with value: 14.0.\n"
     ]
    },
    {
     "name": "stdout",
     "output_type": "stream",
     "text": [
      "[LightGBM] [Warning] bagging_freq is set=6, subsample_freq=0 will be ignored. Current value: bagging_freq=6\n",
      "[LightGBM] [Warning] min_data_in_leaf is set=1200, min_child_samples=20 will be ignored. Current value: min_data_in_leaf=1200\n",
      "[LightGBM] [Warning] lambda_l2 is set=95.0, reg_lambda=0.0 will be ignored. Current value: lambda_l2=95.0\n",
      "[LightGBM] [Warning] feature_fraction is set=0.9000000000000001, colsample_bytree=1.0 will be ignored. Current value: feature_fraction=0.9000000000000001\n",
      "[LightGBM] [Warning] bagging_fraction is set=0.4, subsample=1.0 will be ignored. Current value: bagging_fraction=0.4\n",
      "[LightGBM] [Warning] min_gain_to_split is set=3.2660542804415655, min_split_gain=0.0 will be ignored. Current value: min_gain_to_split=3.2660542804415655\n",
      "[LightGBM] [Warning] lambda_l1 is set=30.0, reg_alpha=0.0 will be ignored. Current value: lambda_l1=30.0\n"
     ]
    },
    {
     "name": "stderr",
     "output_type": "stream",
     "text": [
      "[I 2024-01-16 16:54:23,426] Trial 24 finished with value: 14.74 and parameters: {'n_estimators': 900, 'lambda_l1': 30.0, 'lambda_l2': 95.0, 'num_leaves': 8600, 'min_data_in_leaf': 1200, 'max_bin': 238, 'feature_fraction': 0.9000000000000001, 'bagging_fraction': 0.4, 'bagging_freq': 6, 'min_gain_to_split': 3.2660542804415655, 'max_depth': 6, 'learning_rate': 0.19}. Best is trial 12 with value: 14.0.\n"
     ]
    },
    {
     "name": "stdout",
     "output_type": "stream",
     "text": [
      "[LightGBM] [Warning] bagging_freq is set=5, subsample_freq=0 will be ignored. Current value: bagging_freq=5\n",
      "[LightGBM] [Warning] min_data_in_leaf is set=2300, min_child_samples=20 will be ignored. Current value: min_data_in_leaf=2300\n",
      "[LightGBM] [Warning] lambda_l2 is set=90.0, reg_lambda=0.0 will be ignored. Current value: lambda_l2=90.0\n",
      "[LightGBM] [Warning] feature_fraction is set=0.8, colsample_bytree=1.0 will be ignored. Current value: feature_fraction=0.8\n",
      "[LightGBM] [Warning] bagging_fraction is set=0.5, subsample=1.0 will be ignored. Current value: bagging_fraction=0.5\n",
      "[LightGBM] [Warning] min_gain_to_split is set=1.6353104099095308, min_split_gain=0.0 will be ignored. Current value: min_gain_to_split=1.6353104099095308\n",
      "[LightGBM] [Warning] lambda_l1 is set=10.0, reg_alpha=0.0 will be ignored. Current value: lambda_l1=10.0\n"
     ]
    },
    {
     "name": "stderr",
     "output_type": "stream",
     "text": [
      "[I 2024-01-16 16:54:24,139] Trial 25 finished with value: 15.18 and parameters: {'n_estimators': 700, 'lambda_l1': 10.0, 'lambda_l2': 90.0, 'num_leaves': 10000, 'min_data_in_leaf': 2300, 'max_bin': 253, 'feature_fraction': 0.8, 'bagging_fraction': 0.5, 'bagging_freq': 5, 'min_gain_to_split': 1.6353104099095308, 'max_depth': 6, 'learning_rate': 0.04}. Best is trial 12 with value: 14.0.\n"
     ]
    },
    {
     "name": "stdout",
     "output_type": "stream",
     "text": [
      "[LightGBM] [Warning] bagging_freq is set=6, subsample_freq=0 will be ignored. Current value: bagging_freq=6\n",
      "[LightGBM] [Warning] min_data_in_leaf is set=3600, min_child_samples=20 will be ignored. Current value: min_data_in_leaf=3600\n",
      "[LightGBM] [Warning] lambda_l2 is set=60.0, reg_lambda=0.0 will be ignored. Current value: lambda_l2=60.0\n",
      "[LightGBM] [Warning] feature_fraction is set=1.0, colsample_bytree=1.0 will be ignored. Current value: feature_fraction=1.0\n",
      "[LightGBM] [Warning] bagging_fraction is set=0.3, subsample=1.0 will be ignored. Current value: bagging_fraction=0.3\n",
      "[LightGBM] [Warning] min_gain_to_split is set=6.880213816739822, min_split_gain=0.0 will be ignored. Current value: min_gain_to_split=6.880213816739822\n",
      "[LightGBM] [Warning] lambda_l1 is set=25.0, reg_alpha=0.0 will be ignored. Current value: lambda_l1=25.0\n"
     ]
    },
    {
     "name": "stderr",
     "output_type": "stream",
     "text": [
      "[I 2024-01-16 16:54:24,577] Trial 26 finished with value: 17.11 and parameters: {'n_estimators': 1000, 'lambda_l1': 25.0, 'lambda_l2': 60.0, 'num_leaves': 7900, 'min_data_in_leaf': 3600, 'max_bin': 233, 'feature_fraction': 1.0, 'bagging_fraction': 0.3, 'bagging_freq': 6, 'min_gain_to_split': 6.880213816739822, 'max_depth': 8, 'learning_rate': 0.14}. Best is trial 12 with value: 14.0.\n"
     ]
    },
    {
     "name": "stdout",
     "output_type": "stream",
     "text": [
      "[LightGBM] [Warning] bagging_freq is set=7, subsample_freq=0 will be ignored. Current value: bagging_freq=7\n",
      "[LightGBM] [Warning] min_data_in_leaf is set=800, min_child_samples=20 will be ignored. Current value: min_data_in_leaf=800\n",
      "[LightGBM] [Warning] lambda_l2 is set=35.0, reg_lambda=0.0 will be ignored. Current value: lambda_l2=35.0\n",
      "[LightGBM] [Warning] feature_fraction is set=0.9000000000000001, colsample_bytree=1.0 will be ignored. Current value: feature_fraction=0.9000000000000001\n",
      "[LightGBM] [Warning] bagging_fraction is set=0.4, subsample=1.0 will be ignored. Current value: bagging_fraction=0.4\n",
      "[LightGBM] [Warning] min_gain_to_split is set=2.2193826583741227, min_split_gain=0.0 will be ignored. Current value: min_gain_to_split=2.2193826583741227\n",
      "[LightGBM] [Warning] lambda_l1 is set=10.0, reg_alpha=0.0 will be ignored. Current value: lambda_l1=10.0\n"
     ]
    },
    {
     "name": "stderr",
     "output_type": "stream",
     "text": [
      "[I 2024-01-16 16:54:25,150] Trial 27 finished with value: 14.67 and parameters: {'n_estimators': 900, 'lambda_l1': 10.0, 'lambda_l2': 35.0, 'num_leaves': 8950, 'min_data_in_leaf': 800, 'max_bin': 208, 'feature_fraction': 0.9000000000000001, 'bagging_fraction': 0.4, 'bagging_freq': 7, 'min_gain_to_split': 2.2193826583741227, 'max_depth': 5, 'learning_rate': 0.09}. Best is trial 12 with value: 14.0.\n"
     ]
    },
    {
     "name": "stdout",
     "output_type": "stream",
     "text": [
      "[LightGBM] [Warning] bagging_freq is set=6, subsample_freq=0 will be ignored. Current value: bagging_freq=6\n",
      "[LightGBM] [Warning] min_data_in_leaf is set=7400, min_child_samples=20 will be ignored. Current value: min_data_in_leaf=7400\n",
      "[LightGBM] [Warning] lambda_l2 is set=90.0, reg_lambda=0.0 will be ignored. Current value: lambda_l2=90.0\n",
      "[LightGBM] [Warning] feature_fraction is set=0.5, colsample_bytree=1.0 will be ignored. Current value: feature_fraction=0.5\n",
      "[LightGBM] [Warning] bagging_fraction is set=0.6000000000000001, subsample=1.0 will be ignored. Current value: bagging_fraction=0.6000000000000001\n",
      "[LightGBM] [Warning] min_gain_to_split is set=4.0327416386763515, min_split_gain=0.0 will be ignored. Current value: min_gain_to_split=4.0327416386763515\n",
      "[LightGBM] [Warning] lambda_l1 is set=45.0, reg_alpha=0.0 will be ignored. Current value: lambda_l1=45.0\n"
     ]
    },
    {
     "name": "stderr",
     "output_type": "stream",
     "text": [
      "[I 2024-01-16 16:54:25,579] Trial 28 finished with value: 17.5 and parameters: {'n_estimators': 800, 'lambda_l1': 45.0, 'lambda_l2': 90.0, 'num_leaves': 6950, 'min_data_in_leaf': 7400, 'max_bin': 248, 'feature_fraction': 0.5, 'bagging_fraction': 0.6000000000000001, 'bagging_freq': 6, 'min_gain_to_split': 4.0327416386763515, 'max_depth': 8, 'learning_rate': 0.16}. Best is trial 12 with value: 14.0.\n"
     ]
    },
    {
     "name": "stdout",
     "output_type": "stream",
     "text": [
      "[LightGBM] [Warning] bagging_freq is set=5, subsample_freq=0 will be ignored. Current value: bagging_freq=5\n",
      "[LightGBM] [Warning] min_data_in_leaf is set=5700, min_child_samples=20 will be ignored. Current value: min_data_in_leaf=5700\n",
      "[LightGBM] [Warning] lambda_l2 is set=55.0, reg_lambda=0.0 will be ignored. Current value: lambda_l2=55.0\n",
      "[LightGBM] [Warning] feature_fraction is set=0.7, colsample_bytree=1.0 will be ignored. Current value: feature_fraction=0.7\n",
      "[LightGBM] [Warning] bagging_fraction is set=0.3, subsample=1.0 will be ignored. Current value: bagging_fraction=0.3\n",
      "[LightGBM] [Warning] min_gain_to_split is set=8.103293098156874, min_split_gain=0.0 will be ignored. Current value: min_gain_to_split=8.103293098156874\n",
      "[LightGBM] [Warning] lambda_l1 is set=25.0, reg_alpha=0.0 will be ignored. Current value: lambda_l1=25.0\n"
     ]
    },
    {
     "name": "stderr",
     "output_type": "stream",
     "text": [
      "[I 2024-01-16 16:54:26,104] Trial 29 finished with value: 20.31 and parameters: {'n_estimators': 400, 'lambda_l1': 25.0, 'lambda_l2': 55.0, 'num_leaves': 5400, 'min_data_in_leaf': 5700, 'max_bin': 220, 'feature_fraction': 0.7, 'bagging_fraction': 0.3, 'bagging_freq': 5, 'min_gain_to_split': 8.103293098156874, 'max_depth': 4, 'learning_rate': 0.03}. Best is trial 12 with value: 14.0.\n"
     ]
    },
    {
     "name": "stdout",
     "output_type": "stream",
     "text": [
      "[LightGBM] [Warning] bagging_freq is set=7, subsample_freq=0 will be ignored. Current value: bagging_freq=7\n",
      "[LightGBM] [Warning] min_data_in_leaf is set=3000, min_child_samples=20 will be ignored. Current value: min_data_in_leaf=3000\n",
      "[LightGBM] [Warning] lambda_l2 is set=80.0, reg_lambda=0.0 will be ignored. Current value: lambda_l2=80.0\n",
      "[LightGBM] [Warning] feature_fraction is set=0.8, colsample_bytree=1.0 will be ignored. Current value: feature_fraction=0.8\n",
      "[LightGBM] [Warning] bagging_fraction is set=1.0, subsample=1.0 will be ignored. Current value: bagging_fraction=1.0\n",
      "[LightGBM] [Warning] min_gain_to_split is set=5.520648215756782, min_split_gain=0.0 will be ignored. Current value: min_gain_to_split=5.520648215756782\n",
      "[LightGBM] [Warning] lambda_l1 is set=5.0, reg_alpha=0.0 will be ignored. Current value: lambda_l1=5.0\n"
     ]
    },
    {
     "name": "stderr",
     "output_type": "stream",
     "text": [
      "[I 2024-01-16 16:54:26,546] Trial 30 finished with value: 14.95 and parameters: {'n_estimators': 1000, 'lambda_l1': 5.0, 'lambda_l2': 80.0, 'num_leaves': 8000, 'min_data_in_leaf': 3000, 'max_bin': 231, 'feature_fraction': 0.8, 'bagging_fraction': 1.0, 'bagging_freq': 7, 'min_gain_to_split': 5.520648215756782, 'max_depth': 8, 'learning_rate': 0.24000000000000002}. Best is trial 12 with value: 14.0.\n"
     ]
    },
    {
     "name": "stdout",
     "output_type": "stream",
     "text": [
      "[LightGBM] [Warning] bagging_freq is set=7, subsample_freq=0 will be ignored. Current value: bagging_freq=7\n",
      "[LightGBM] [Warning] min_data_in_leaf is set=200, min_child_samples=20 will be ignored. Current value: min_data_in_leaf=200\n",
      "[LightGBM] [Warning] lambda_l2 is set=80.0, reg_lambda=0.0 will be ignored. Current value: lambda_l2=80.0\n",
      "[LightGBM] [Warning] feature_fraction is set=1.0, colsample_bytree=1.0 will be ignored. Current value: feature_fraction=1.0\n",
      "[LightGBM] [Warning] bagging_fraction is set=0.3, subsample=1.0 will be ignored. Current value: bagging_fraction=0.3\n",
      "[LightGBM] [Warning] min_gain_to_split is set=0.9360353653536417, min_split_gain=0.0 will be ignored. Current value: min_gain_to_split=0.9360353653536417\n",
      "[LightGBM] [Warning] lambda_l1 is set=0.0, reg_alpha=0.0 will be ignored. Current value: lambda_l1=0.0\n"
     ]
    },
    {
     "name": "stderr",
     "output_type": "stream",
     "text": [
      "[I 2024-01-16 16:54:27,135] Trial 31 finished with value: 14.14 and parameters: {'n_estimators': 1000, 'lambda_l1': 0.0, 'lambda_l2': 80.0, 'num_leaves': 9250, 'min_data_in_leaf': 200, 'max_bin': 222, 'feature_fraction': 1.0, 'bagging_fraction': 0.3, 'bagging_freq': 7, 'min_gain_to_split': 0.9360353653536417, 'max_depth': 3, 'learning_rate': 0.12}. Best is trial 12 with value: 14.0.\n"
     ]
    },
    {
     "name": "stdout",
     "output_type": "stream",
     "text": [
      "[LightGBM] [Warning] bagging_freq is set=6, subsample_freq=0 will be ignored. Current value: bagging_freq=6\n",
      "[LightGBM] [Warning] min_data_in_leaf is set=900, min_child_samples=20 will be ignored. Current value: min_data_in_leaf=900\n",
      "[LightGBM] [Warning] lambda_l2 is set=70.0, reg_lambda=0.0 will be ignored. Current value: lambda_l2=70.0\n",
      "[LightGBM] [Warning] feature_fraction is set=1.0, colsample_bytree=1.0 will be ignored. Current value: feature_fraction=1.0\n",
      "[LightGBM] [Warning] bagging_fraction is set=0.4, subsample=1.0 will be ignored. Current value: bagging_fraction=0.4\n",
      "[LightGBM] [Warning] min_gain_to_split is set=0.9891686322552331, min_split_gain=0.0 will be ignored. Current value: min_gain_to_split=0.9891686322552331\n",
      "[LightGBM] [Warning] lambda_l1 is set=15.0, reg_alpha=0.0 will be ignored. Current value: lambda_l1=15.0\n"
     ]
    },
    {
     "name": "stderr",
     "output_type": "stream",
     "text": [
      "[I 2024-01-16 16:54:28,025] Trial 32 finished with value: 14.6 and parameters: {'n_estimators': 900, 'lambda_l1': 15.0, 'lambda_l2': 70.0, 'num_leaves': 9300, 'min_data_in_leaf': 900, 'max_bin': 211, 'feature_fraction': 1.0, 'bagging_fraction': 0.4, 'bagging_freq': 6, 'min_gain_to_split': 0.9891686322552331, 'max_depth': 4, 'learning_rate': 0.14}. Best is trial 12 with value: 14.0.\n"
     ]
    },
    {
     "name": "stdout",
     "output_type": "stream",
     "text": [
      "[LightGBM] [Warning] bagging_freq is set=7, subsample_freq=0 will be ignored. Current value: bagging_freq=7\n",
      "[LightGBM] [Warning] min_data_in_leaf is set=1500, min_child_samples=20 will be ignored. Current value: min_data_in_leaf=1500\n",
      "[LightGBM] [Warning] lambda_l2 is set=95.0, reg_lambda=0.0 will be ignored. Current value: lambda_l2=95.0\n",
      "[LightGBM] [Warning] feature_fraction is set=0.9000000000000001, colsample_bytree=1.0 will be ignored. Current value: feature_fraction=0.9000000000000001\n",
      "[LightGBM] [Warning] bagging_fraction is set=0.3, subsample=1.0 will be ignored. Current value: bagging_fraction=0.3\n",
      "[LightGBM] [Warning] min_gain_to_split is set=2.23355052600948, min_split_gain=0.0 will be ignored. Current value: min_gain_to_split=2.23355052600948\n",
      "[LightGBM] [Warning] lambda_l1 is set=5.0, reg_alpha=0.0 will be ignored. Current value: lambda_l1=5.0\n"
     ]
    },
    {
     "name": "stderr",
     "output_type": "stream",
     "text": [
      "[I 2024-01-16 16:54:29,233] Trial 33 finished with value: 14.9 and parameters: {'n_estimators': 1000, 'lambda_l1': 5.0, 'lambda_l2': 95.0, 'num_leaves': 8450, 'min_data_in_leaf': 1500, 'max_bin': 219, 'feature_fraction': 0.9000000000000001, 'bagging_fraction': 0.3, 'bagging_freq': 7, 'min_gain_to_split': 2.23355052600948, 'max_depth': 3, 'learning_rate': 0.06999999999999999}. Best is trial 12 with value: 14.0.\n"
     ]
    },
    {
     "name": "stdout",
     "output_type": "stream",
     "text": [
      "[LightGBM] [Warning] bagging_freq is set=6, subsample_freq=0 will be ignored. Current value: bagging_freq=6\n",
      "[LightGBM] [Warning] min_data_in_leaf is set=700, min_child_samples=20 will be ignored. Current value: min_data_in_leaf=700\n",
      "[LightGBM] [Warning] lambda_l2 is set=85.0, reg_lambda=0.0 will be ignored. Current value: lambda_l2=85.0\n",
      "[LightGBM] [Warning] feature_fraction is set=1.0, colsample_bytree=1.0 will be ignored. Current value: feature_fraction=1.0\n",
      "[LightGBM] [Warning] bagging_fraction is set=0.5, subsample=1.0 will be ignored. Current value: bagging_fraction=0.5\n",
      "[LightGBM] [Warning] min_gain_to_split is set=0.8521538394011221, min_split_gain=0.0 will be ignored. Current value: min_gain_to_split=0.8521538394011221\n",
      "[LightGBM] [Warning] lambda_l1 is set=15.0, reg_alpha=0.0 will be ignored. Current value: lambda_l1=15.0\n"
     ]
    },
    {
     "name": "stderr",
     "output_type": "stream",
     "text": [
      "[I 2024-01-16 16:54:31,440] Trial 34 finished with value: 14.38 and parameters: {'n_estimators': 900, 'lambda_l1': 15.0, 'lambda_l2': 85.0, 'num_leaves': 9850, 'min_data_in_leaf': 700, 'max_bin': 206, 'feature_fraction': 1.0, 'bagging_fraction': 0.5, 'bagging_freq': 6, 'min_gain_to_split': 0.8521538394011221, 'max_depth': 6, 'learning_rate': 0.14}. Best is trial 12 with value: 14.0.\n"
     ]
    },
    {
     "name": "stdout",
     "output_type": "stream",
     "text": [
      "[LightGBM] [Warning] bagging_freq is set=7, subsample_freq=0 will be ignored. Current value: bagging_freq=7\n",
      "[LightGBM] [Warning] min_data_in_leaf is set=2600, min_child_samples=20 will be ignored. Current value: min_data_in_leaf=2600\n",
      "[LightGBM] [Warning] lambda_l2 is set=80.0, reg_lambda=0.0 will be ignored. Current value: lambda_l2=80.0\n",
      "[LightGBM] [Warning] feature_fraction is set=1.0, colsample_bytree=1.0 will be ignored. Current value: feature_fraction=1.0\n",
      "[LightGBM] [Warning] bagging_fraction is set=0.3, subsample=1.0 will be ignored. Current value: bagging_fraction=0.3\n",
      "[LightGBM] [Warning] min_gain_to_split is set=3.5480442588142873, min_split_gain=0.0 will be ignored. Current value: min_gain_to_split=3.5480442588142873\n",
      "[LightGBM] [Warning] lambda_l1 is set=5.0, reg_alpha=0.0 will be ignored. Current value: lambda_l1=5.0\n"
     ]
    },
    {
     "name": "stderr",
     "output_type": "stream",
     "text": [
      "[I 2024-01-16 16:54:32,895] Trial 35 finished with value: 16.2 and parameters: {'n_estimators': 800, 'lambda_l1': 5.0, 'lambda_l2': 80.0, 'num_leaves': 8450, 'min_data_in_leaf': 2600, 'max_bin': 238, 'feature_fraction': 1.0, 'bagging_fraction': 0.3, 'bagging_freq': 7, 'min_gain_to_split': 3.5480442588142873, 'max_depth': 5, 'learning_rate': 0.09}. Best is trial 12 with value: 14.0.\n"
     ]
    },
    {
     "name": "stdout",
     "output_type": "stream",
     "text": [
      "[LightGBM] [Warning] bagging_freq is set=5, subsample_freq=0 will be ignored. Current value: bagging_freq=5\n",
      "[LightGBM] [Warning] min_data_in_leaf is set=200, min_child_samples=20 will be ignored. Current value: min_data_in_leaf=200\n",
      "[LightGBM] [Warning] lambda_l2 is set=95.0, reg_lambda=0.0 will be ignored. Current value: lambda_l2=95.0\n",
      "[LightGBM] [Warning] feature_fraction is set=0.9000000000000001, colsample_bytree=1.0 will be ignored. Current value: feature_fraction=0.9000000000000001\n",
      "[LightGBM] [Warning] bagging_fraction is set=0.4, subsample=1.0 will be ignored. Current value: bagging_fraction=0.4\n",
      "[LightGBM] [Warning] min_gain_to_split is set=5.1012245259316025, min_split_gain=0.0 will be ignored. Current value: min_gain_to_split=5.1012245259316025\n",
      "[LightGBM] [Warning] lambda_l1 is set=15.0, reg_alpha=0.0 will be ignored. Current value: lambda_l1=15.0\n"
     ]
    },
    {
     "name": "stderr",
     "output_type": "stream",
     "text": [
      "[I 2024-01-16 16:54:33,917] Trial 36 finished with value: 14.3 and parameters: {'n_estimators': 900, 'lambda_l1': 15.0, 'lambda_l2': 95.0, 'num_leaves': 4350, 'min_data_in_leaf': 200, 'max_bin': 200, 'feature_fraction': 0.9000000000000001, 'bagging_fraction': 0.4, 'bagging_freq': 5, 'min_gain_to_split': 5.1012245259316025, 'max_depth': 4, 'learning_rate': 0.12}. Best is trial 12 with value: 14.0.\n"
     ]
    },
    {
     "name": "stdout",
     "output_type": "stream",
     "text": [
      "[LightGBM] [Warning] bagging_freq is set=4, subsample_freq=0 will be ignored. Current value: bagging_freq=4\n",
      "[LightGBM] [Warning] min_data_in_leaf is set=1800, min_child_samples=20 will be ignored. Current value: min_data_in_leaf=1800\n",
      "[LightGBM] [Warning] lambda_l2 is set=70.0, reg_lambda=0.0 will be ignored. Current value: lambda_l2=70.0\n",
      "[LightGBM] [Warning] feature_fraction is set=0.8, colsample_bytree=1.0 will be ignored. Current value: feature_fraction=0.8\n",
      "[LightGBM] [Warning] bagging_fraction is set=0.3, subsample=1.0 will be ignored. Current value: bagging_fraction=0.3\n",
      "[LightGBM] [Warning] min_gain_to_split is set=1.9824344844010415, min_split_gain=0.0 will be ignored. Current value: min_gain_to_split=1.9824344844010415\n",
      "[LightGBM] [Warning] lambda_l1 is set=25.0, reg_alpha=0.0 will be ignored. Current value: lambda_l1=25.0\n"
     ]
    },
    {
     "name": "stderr",
     "output_type": "stream",
     "text": [
      "[I 2024-01-16 16:54:35,113] Trial 37 finished with value: 15.31 and parameters: {'n_estimators': 900, 'lambda_l1': 25.0, 'lambda_l2': 70.0, 'num_leaves': 6350, 'min_data_in_leaf': 1800, 'max_bin': 227, 'feature_fraction': 0.8, 'bagging_fraction': 0.3, 'bagging_freq': 4, 'min_gain_to_split': 1.9824344844010415, 'max_depth': 15, 'learning_rate': 0.19}. Best is trial 12 with value: 14.0.\n"
     ]
    },
    {
     "name": "stdout",
     "output_type": "stream",
     "text": [
      "[LightGBM] [Warning] bagging_freq is set=3, subsample_freq=0 will be ignored. Current value: bagging_freq=3\n",
      "[LightGBM] [Warning] min_data_in_leaf is set=800, min_child_samples=20 will be ignored. Current value: min_data_in_leaf=800\n",
      "[LightGBM] [Warning] lambda_l2 is set=45.0, reg_lambda=0.0 will be ignored. Current value: lambda_l2=45.0\n",
      "[LightGBM] [Warning] feature_fraction is set=0.7, colsample_bytree=1.0 will be ignored. Current value: feature_fraction=0.7\n",
      "[LightGBM] [Warning] bagging_fraction is set=0.5, subsample=1.0 will be ignored. Current value: bagging_fraction=0.5\n",
      "[LightGBM] [Warning] min_gain_to_split is set=0.5949638227144503, min_split_gain=0.0 will be ignored. Current value: min_gain_to_split=0.5949638227144503\n",
      "[LightGBM] [Warning] lambda_l1 is set=20.0, reg_alpha=0.0 will be ignored. Current value: lambda_l1=20.0\n"
     ]
    },
    {
     "name": "stderr",
     "output_type": "stream",
     "text": [
      "[I 2024-01-16 16:54:35,980] Trial 38 finished with value: 14.75 and parameters: {'n_estimators': 1000, 'lambda_l1': 20.0, 'lambda_l2': 45.0, 'num_leaves': 9350, 'min_data_in_leaf': 800, 'max_bin': 263, 'feature_fraction': 0.7, 'bagging_fraction': 0.5, 'bagging_freq': 3, 'min_gain_to_split': 0.5949638227144503, 'max_depth': 3, 'learning_rate': 0.15000000000000002}. Best is trial 12 with value: 14.0.\n"
     ]
    },
    {
     "name": "stdout",
     "output_type": "stream",
     "text": [
      "[LightGBM] [Warning] bagging_freq is set=6, subsample_freq=0 will be ignored. Current value: bagging_freq=6\n",
      "[LightGBM] [Warning] min_data_in_leaf is set=9100, min_child_samples=20 will be ignored. Current value: min_data_in_leaf=9100\n",
      "[LightGBM] [Warning] lambda_l2 is set=100.0, reg_lambda=0.0 will be ignored. Current value: lambda_l2=100.0\n",
      "[LightGBM] [Warning] feature_fraction is set=1.0, colsample_bytree=1.0 will be ignored. Current value: feature_fraction=1.0\n",
      "[LightGBM] [Warning] bagging_fraction is set=0.7, subsample=1.0 will be ignored. Current value: bagging_fraction=0.7\n",
      "[LightGBM] [Warning] min_gain_to_split is set=11.113742823909813, min_split_gain=0.0 will be ignored. Current value: min_gain_to_split=11.113742823909813\n",
      "[LightGBM] [Warning] lambda_l1 is set=5.0, reg_alpha=0.0 will be ignored. Current value: lambda_l1=5.0\n"
     ]
    },
    {
     "name": "stderr",
     "output_type": "stream",
     "text": [
      "[I 2024-01-16 16:54:36,743] Trial 39 finished with value: 17.92 and parameters: {'n_estimators': 800, 'lambda_l1': 5.0, 'lambda_l2': 100.0, 'num_leaves': 7400, 'min_data_in_leaf': 9100, 'max_bin': 212, 'feature_fraction': 1.0, 'bagging_fraction': 0.7, 'bagging_freq': 6, 'min_gain_to_split': 11.113742823909813, 'max_depth': 12, 'learning_rate': 0.06999999999999999}. Best is trial 12 with value: 14.0.\n"
     ]
    },
    {
     "name": "stdout",
     "output_type": "stream",
     "text": [
      "[LightGBM] [Warning] bagging_freq is set=7, subsample_freq=0 will be ignored. Current value: bagging_freq=7\n",
      "[LightGBM] [Warning] min_data_in_leaf is set=4300, min_child_samples=20 will be ignored. Current value: min_data_in_leaf=4300\n",
      "[LightGBM] [Warning] lambda_l2 is set=90.0, reg_lambda=0.0 will be ignored. Current value: lambda_l2=90.0\n",
      "[LightGBM] [Warning] feature_fraction is set=0.5, colsample_bytree=1.0 will be ignored. Current value: feature_fraction=0.5\n",
      "[LightGBM] [Warning] bagging_fraction is set=0.4, subsample=1.0 will be ignored. Current value: bagging_fraction=0.4\n",
      "[LightGBM] [Warning] min_gain_to_split is set=2.6104664107739124, min_split_gain=0.0 will be ignored. Current value: min_gain_to_split=2.6104664107739124\n",
      "[LightGBM] [Warning] lambda_l1 is set=15.0, reg_alpha=0.0 will be ignored. Current value: lambda_l1=15.0\n"
     ]
    },
    {
     "name": "stderr",
     "output_type": "stream",
     "text": [
      "[I 2024-01-16 16:54:37,304] Trial 40 finished with value: 16.4 and parameters: {'n_estimators': 700, 'lambda_l1': 15.0, 'lambda_l2': 90.0, 'num_leaves': 8900, 'min_data_in_leaf': 4300, 'max_bin': 277, 'feature_fraction': 0.5, 'bagging_fraction': 0.4, 'bagging_freq': 7, 'min_gain_to_split': 2.6104664107739124, 'max_depth': 5, 'learning_rate': 0.11}. Best is trial 12 with value: 14.0.\n"
     ]
    },
    {
     "name": "stdout",
     "output_type": "stream",
     "text": [
      "[LightGBM] [Warning] bagging_freq is set=7, subsample_freq=0 will be ignored. Current value: bagging_freq=7\n",
      "[LightGBM] [Warning] min_data_in_leaf is set=300, min_child_samples=20 will be ignored. Current value: min_data_in_leaf=300\n",
      "[LightGBM] [Warning] lambda_l2 is set=80.0, reg_lambda=0.0 will be ignored. Current value: lambda_l2=80.0\n",
      "[LightGBM] [Warning] feature_fraction is set=1.0, colsample_bytree=1.0 will be ignored. Current value: feature_fraction=1.0\n",
      "[LightGBM] [Warning] bagging_fraction is set=0.3, subsample=1.0 will be ignored. Current value: bagging_fraction=0.3\n",
      "[LightGBM] [Warning] min_gain_to_split is set=1.1448773166209794, min_split_gain=0.0 will be ignored. Current value: min_gain_to_split=1.1448773166209794\n",
      "[LightGBM] [Warning] lambda_l1 is set=0.0, reg_alpha=0.0 will be ignored. Current value: lambda_l1=0.0\n"
     ]
    },
    {
     "name": "stderr",
     "output_type": "stream",
     "text": [
      "[I 2024-01-16 16:54:38,502] Trial 41 finished with value: 14.07 and parameters: {'n_estimators': 1000, 'lambda_l1': 0.0, 'lambda_l2': 80.0, 'num_leaves': 9400, 'min_data_in_leaf': 300, 'max_bin': 218, 'feature_fraction': 1.0, 'bagging_fraction': 0.3, 'bagging_freq': 7, 'min_gain_to_split': 1.1448773166209794, 'max_depth': 3, 'learning_rate': 0.12}. Best is trial 12 with value: 14.0.\n"
     ]
    },
    {
     "name": "stdout",
     "output_type": "stream",
     "text": [
      "[LightGBM] [Warning] bagging_freq is set=7, subsample_freq=0 will be ignored. Current value: bagging_freq=7\n",
      "[LightGBM] [Warning] min_data_in_leaf is set=500, min_child_samples=20 will be ignored. Current value: min_data_in_leaf=500\n",
      "[LightGBM] [Warning] lambda_l2 is set=85.0, reg_lambda=0.0 will be ignored. Current value: lambda_l2=85.0\n",
      "[LightGBM] [Warning] feature_fraction is set=1.0, colsample_bytree=1.0 will be ignored. Current value: feature_fraction=1.0\n",
      "[LightGBM] [Warning] bagging_fraction is set=0.3, subsample=1.0 will be ignored. Current value: bagging_fraction=0.3\n",
      "[LightGBM] [Warning] min_gain_to_split is set=0.08045806704253522, min_split_gain=0.0 will be ignored. Current value: min_gain_to_split=0.08045806704253522\n",
      "[LightGBM] [Warning] lambda_l1 is set=0.0, reg_alpha=0.0 will be ignored. Current value: lambda_l1=0.0\n"
     ]
    },
    {
     "name": "stderr",
     "output_type": "stream",
     "text": [
      "[I 2024-01-16 16:54:39,676] Trial 42 finished with value: 14.29 and parameters: {'n_estimators': 1000, 'lambda_l1': 0.0, 'lambda_l2': 85.0, 'num_leaves': 9500, 'min_data_in_leaf': 500, 'max_bin': 220, 'feature_fraction': 1.0, 'bagging_fraction': 0.3, 'bagging_freq': 7, 'min_gain_to_split': 0.08045806704253522, 'max_depth': 4, 'learning_rate': 0.09}. Best is trial 12 with value: 14.0.\n"
     ]
    },
    {
     "name": "stdout",
     "output_type": "stream",
     "text": [
      "[LightGBM] [Warning] bagging_freq is set=7, subsample_freq=0 will be ignored. Current value: bagging_freq=7\n",
      "[LightGBM] [Warning] min_data_in_leaf is set=1200, min_child_samples=20 will be ignored. Current value: min_data_in_leaf=1200\n",
      "[LightGBM] [Warning] lambda_l2 is set=80.0, reg_lambda=0.0 will be ignored. Current value: lambda_l2=80.0\n",
      "[LightGBM] [Warning] feature_fraction is set=0.9000000000000001, colsample_bytree=1.0 will be ignored. Current value: feature_fraction=0.9000000000000001\n",
      "[LightGBM] [Warning] bagging_fraction is set=0.3, subsample=1.0 will be ignored. Current value: bagging_fraction=0.3\n",
      "[LightGBM] [Warning] min_gain_to_split is set=1.5487756255427698, min_split_gain=0.0 will be ignored. Current value: min_gain_to_split=1.5487756255427698\n",
      "[LightGBM] [Warning] lambda_l1 is set=5.0, reg_alpha=0.0 will be ignored. Current value: lambda_l1=5.0\n"
     ]
    },
    {
     "name": "stderr",
     "output_type": "stream",
     "text": [
      "[I 2024-01-16 16:54:40,214] Trial 43 finished with value: 14.85 and parameters: {'n_estimators': 900, 'lambda_l1': 5.0, 'lambda_l2': 80.0, 'num_leaves': 8300, 'min_data_in_leaf': 1200, 'max_bin': 236, 'feature_fraction': 0.9000000000000001, 'bagging_fraction': 0.3, 'bagging_freq': 7, 'min_gain_to_split': 1.5487756255427698, 'max_depth': 3, 'learning_rate': 0.13}. Best is trial 12 with value: 14.0.\n"
     ]
    },
    {
     "name": "stdout",
     "output_type": "stream",
     "text": [
      "[LightGBM] [Warning] bagging_freq is set=6, subsample_freq=0 will be ignored. Current value: bagging_freq=6\n",
      "[LightGBM] [Warning] min_data_in_leaf is set=600, min_child_samples=20 will be ignored. Current value: min_data_in_leaf=600\n",
      "[LightGBM] [Warning] lambda_l2 is set=75.0, reg_lambda=0.0 will be ignored. Current value: lambda_l2=75.0\n",
      "[LightGBM] [Warning] feature_fraction is set=1.0, colsample_bytree=1.0 will be ignored. Current value: feature_fraction=1.0\n",
      "[LightGBM] [Warning] bagging_fraction is set=0.4, subsample=1.0 will be ignored. Current value: bagging_fraction=0.4\n",
      "[LightGBM] [Warning] min_gain_to_split is set=0.8593825671427708, min_split_gain=0.0 will be ignored. Current value: min_gain_to_split=0.8593825671427708\n",
      "[LightGBM] [Warning] lambda_l1 is set=20.0, reg_alpha=0.0 will be ignored. Current value: lambda_l1=20.0\n"
     ]
    },
    {
     "name": "stderr",
     "output_type": "stream",
     "text": [
      "[I 2024-01-16 16:54:40,802] Trial 44 finished with value: 14.76 and parameters: {'n_estimators': 1000, 'lambda_l1': 20.0, 'lambda_l2': 75.0, 'num_leaves': 2900, 'min_data_in_leaf': 600, 'max_bin': 229, 'feature_fraction': 1.0, 'bagging_fraction': 0.4, 'bagging_freq': 6, 'min_gain_to_split': 0.8593825671427708, 'max_depth': 6, 'learning_rate': 0.17}. Best is trial 12 with value: 14.0.\n"
     ]
    },
    {
     "name": "stdout",
     "output_type": "stream",
     "text": [
      "[LightGBM] [Warning] bagging_freq is set=7, subsample_freq=0 will be ignored. Current value: bagging_freq=7\n",
      "[LightGBM] [Warning] min_data_in_leaf is set=1600, min_child_samples=20 will be ignored. Current value: min_data_in_leaf=1600\n",
      "[LightGBM] [Warning] lambda_l2 is set=70.0, reg_lambda=0.0 will be ignored. Current value: lambda_l2=70.0\n",
      "[LightGBM] [Warning] feature_fraction is set=0.9000000000000001, colsample_bytree=1.0 will be ignored. Current value: feature_fraction=0.9000000000000001\n",
      "[LightGBM] [Warning] bagging_fraction is set=0.3, subsample=1.0 will be ignored. Current value: bagging_fraction=0.3\n",
      "[LightGBM] [Warning] min_gain_to_split is set=3.846706593177111, min_split_gain=0.0 will be ignored. Current value: min_gain_to_split=3.846706593177111\n",
      "[LightGBM] [Warning] lambda_l1 is set=10.0, reg_alpha=0.0 will be ignored. Current value: lambda_l1=10.0\n"
     ]
    },
    {
     "name": "stderr",
     "output_type": "stream",
     "text": [
      "[I 2024-01-16 16:54:41,252] Trial 45 finished with value: 15.11 and parameters: {'n_estimators': 1000, 'lambda_l1': 10.0, 'lambda_l2': 70.0, 'num_leaves': 9650, 'min_data_in_leaf': 1600, 'max_bin': 205, 'feature_fraction': 0.9000000000000001, 'bagging_fraction': 0.3, 'bagging_freq': 7, 'min_gain_to_split': 3.846706593177111, 'max_depth': 3, 'learning_rate': 0.13}. Best is trial 12 with value: 14.0.\n"
     ]
    },
    {
     "name": "stdout",
     "output_type": "stream",
     "text": [
      "[LightGBM] [Warning] bagging_freq is set=2, subsample_freq=0 will be ignored. Current value: bagging_freq=2\n",
      "[LightGBM] [Warning] min_data_in_leaf is set=1100, min_child_samples=20 will be ignored. Current value: min_data_in_leaf=1100\n",
      "[LightGBM] [Warning] lambda_l2 is set=0.0, reg_lambda=0.0 will be ignored. Current value: lambda_l2=0.0\n",
      "[LightGBM] [Warning] feature_fraction is set=1.0, colsample_bytree=1.0 will be ignored. Current value: feature_fraction=1.0\n",
      "[LightGBM] [Warning] bagging_fraction is set=0.3, subsample=1.0 will be ignored. Current value: bagging_fraction=0.3\n",
      "[LightGBM] [Warning] min_gain_to_split is set=2.4191696559644993, min_split_gain=0.0 will be ignored. Current value: min_gain_to_split=2.4191696559644993\n",
      "[LightGBM] [Warning] lambda_l1 is set=0.0, reg_alpha=0.0 will be ignored. Current value: lambda_l1=0.0\n"
     ]
    },
    {
     "name": "stderr",
     "output_type": "stream",
     "text": [
      "[I 2024-01-16 16:54:41,871] Trial 46 finished with value: 15.02 and parameters: {'n_estimators': 1000, 'lambda_l1': 0.0, 'lambda_l2': 0.0, 'num_leaves': 9050, 'min_data_in_leaf': 1100, 'max_bin': 223, 'feature_fraction': 1.0, 'bagging_fraction': 0.3, 'bagging_freq': 2, 'min_gain_to_split': 2.4191696559644993, 'max_depth': 4, 'learning_rate': 0.09999999999999999}. Best is trial 12 with value: 14.0.\n"
     ]
    },
    {
     "name": "stdout",
     "output_type": "stream",
     "text": [
      "[LightGBM] [Warning] bagging_freq is set=7, subsample_freq=0 will be ignored. Current value: bagging_freq=7\n",
      "[LightGBM] [Warning] min_data_in_leaf is set=2000, min_child_samples=20 will be ignored. Current value: min_data_in_leaf=2000\n",
      "[LightGBM] [Warning] lambda_l2 is set=90.0, reg_lambda=0.0 will be ignored. Current value: lambda_l2=90.0\n",
      "[LightGBM] [Warning] feature_fraction is set=0.8, colsample_bytree=1.0 will be ignored. Current value: feature_fraction=0.8\n",
      "[LightGBM] [Warning] bagging_fraction is set=0.4, subsample=1.0 will be ignored. Current value: bagging_fraction=0.4\n",
      "[LightGBM] [Warning] min_gain_to_split is set=1.2744489732469746, min_split_gain=0.0 will be ignored. Current value: min_gain_to_split=1.2744489732469746\n",
      "[LightGBM] [Warning] lambda_l1 is set=5.0, reg_alpha=0.0 will be ignored. Current value: lambda_l1=5.0\n"
     ]
    },
    {
     "name": "stderr",
     "output_type": "stream",
     "text": [
      "[I 2024-01-16 16:54:42,480] Trial 47 finished with value: 15.38 and parameters: {'n_estimators': 900, 'lambda_l1': 5.0, 'lambda_l2': 90.0, 'num_leaves': 8100, 'min_data_in_leaf': 2000, 'max_bin': 216, 'feature_fraction': 0.8, 'bagging_fraction': 0.4, 'bagging_freq': 7, 'min_gain_to_split': 1.2744489732469746, 'max_depth': 10, 'learning_rate': 0.15000000000000002}. Best is trial 12 with value: 14.0.\n"
     ]
    },
    {
     "name": "stdout",
     "output_type": "stream",
     "text": [
      "[LightGBM] [Warning] bagging_freq is set=7, subsample_freq=0 will be ignored. Current value: bagging_freq=7\n",
      "[LightGBM] [Warning] min_data_in_leaf is set=200, min_child_samples=20 will be ignored. Current value: min_data_in_leaf=200\n",
      "[LightGBM] [Warning] lambda_l2 is set=85.0, reg_lambda=0.0 will be ignored. Current value: lambda_l2=85.0\n",
      "[LightGBM] [Warning] feature_fraction is set=1.0, colsample_bytree=1.0 will be ignored. Current value: feature_fraction=1.0\n",
      "[LightGBM] [Warning] bagging_fraction is set=0.5, subsample=1.0 will be ignored. Current value: bagging_fraction=0.5\n",
      "[LightGBM] [Warning] min_gain_to_split is set=2.889458215037882, min_split_gain=0.0 will be ignored. Current value: min_gain_to_split=2.889458215037882\n",
      "[LightGBM] [Warning] lambda_l1 is set=40.0, reg_alpha=0.0 will be ignored. Current value: lambda_l1=40.0\n"
     ]
    },
    {
     "name": "stderr",
     "output_type": "stream",
     "text": [
      "[I 2024-01-16 16:54:43,178] Trial 48 finished with value: 14.19 and parameters: {'n_estimators': 300, 'lambda_l1': 40.0, 'lambda_l2': 85.0, 'num_leaves': 1700, 'min_data_in_leaf': 200, 'max_bin': 246, 'feature_fraction': 1.0, 'bagging_fraction': 0.5, 'bagging_freq': 7, 'min_gain_to_split': 2.889458215037882, 'max_depth': 7, 'learning_rate': 0.08}. Best is trial 12 with value: 14.0.\n"
     ]
    },
    {
     "name": "stdout",
     "output_type": "stream",
     "text": [
      "[LightGBM] [Warning] bagging_freq is set=6, subsample_freq=0 will be ignored. Current value: bagging_freq=6\n",
      "[LightGBM] [Warning] min_data_in_leaf is set=2800, min_child_samples=20 will be ignored. Current value: min_data_in_leaf=2800\n",
      "[LightGBM] [Warning] lambda_l2 is set=95.0, reg_lambda=0.0 will be ignored. Current value: lambda_l2=95.0\n",
      "[LightGBM] [Warning] feature_fraction is set=0.9000000000000001, colsample_bytree=1.0 will be ignored. Current value: feature_fraction=0.9000000000000001\n",
      "[LightGBM] [Warning] bagging_fraction is set=0.3, subsample=1.0 will be ignored. Current value: bagging_fraction=0.3\n",
      "[LightGBM] [Warning] min_gain_to_split is set=0.01893560831479668, min_split_gain=0.0 will be ignored. Current value: min_gain_to_split=0.01893560831479668\n",
      "[LightGBM] [Warning] lambda_l1 is set=55.0, reg_alpha=0.0 will be ignored. Current value: lambda_l1=55.0\n"
     ]
    },
    {
     "name": "stderr",
     "output_type": "stream",
     "text": [
      "[I 2024-01-16 16:54:43,744] Trial 49 finished with value: 16.0 and parameters: {'n_estimators': 1000, 'lambda_l1': 55.0, 'lambda_l2': 95.0, 'num_leaves': 10000, 'min_data_in_leaf': 2800, 'max_bin': 241, 'feature_fraction': 0.9000000000000001, 'bagging_fraction': 0.3, 'bagging_freq': 6, 'min_gain_to_split': 0.01893560831479668, 'max_depth': 3, 'learning_rate': 0.11}. Best is trial 12 with value: 14.0.\n"
     ]
    },
    {
     "name": "stdout",
     "output_type": "stream",
     "text": [
      "\n",
      "\n",
      "Best MAPE achieved:  14.0\n"
     ]
    }
   ],
   "source": [
    "best_features, best_params = build_model._features_n_params(training_data, n_trials, n_features)"
   ]
  },
  {
   "cell_type": "markdown",
   "metadata": {},
   "source": [
    "### Model Training & Evaluation"
   ]
  },
  {
   "cell_type": "code",
   "execution_count": 48,
   "metadata": {},
   "outputs": [],
   "source": [
    "n = 5   # number of days for which evaluation is reqd"
   ]
  },
  {
   "cell_type": "code",
   "execution_count": 49,
   "metadata": {},
   "outputs": [],
   "source": [
    "# training upto this date\n",
    "training_upto = training_data['datetime'][::96].iloc[-n].strftime('%Y-%m-%d')\n",
    "validation_upto = datetime.now().date().strftime('%Y-%m-%d')\n",
    "X_train, y_train, X_test, y_test, X_valid, y_valid = build_model._split_data(training_data, training_upto, validation_upto)"
   ]
  },
  {
   "cell_type": "code",
   "execution_count": 26,
   "metadata": {},
   "outputs": [
    {
     "name": "stdout",
     "output_type": "stream",
     "text": [
      "[LightGBM] [Warning] bagging_freq is set=7, subsample_freq=0 will be ignored. Current value: bagging_freq=7\n",
      "[LightGBM] [Warning] min_data_in_leaf is set=300, min_child_samples=20 will be ignored. Current value: min_data_in_leaf=300\n",
      "[LightGBM] [Warning] lambda_l2 is set=65.0, reg_lambda=0.0 will be ignored. Current value: lambda_l2=65.0\n",
      "[LightGBM] [Warning] feature_fraction is set=0.8, colsample_bytree=1.0 will be ignored. Current value: feature_fraction=0.8\n",
      "[LightGBM] [Warning] bagging_fraction is set=0.6000000000000001, subsample=1.0 will be ignored. Current value: bagging_fraction=0.6000000000000001\n",
      "[LightGBM] [Warning] min_gain_to_split is set=6.522235227616008, min_split_gain=0.0 will be ignored. Current value: min_gain_to_split=6.522235227616008\n",
      "[LightGBM] [Warning] lambda_l1 is set=100.0, reg_alpha=0.0 will be ignored. Current value: lambda_l1=100.0\n"
     ]
    }
   ],
   "source": [
    "model = build_model._train_model(X_train, y_train, best_params, best_features, objective = 'regression')"
   ]
  },
  {
   "cell_type": "code",
   "execution_count": 27,
   "metadata": {},
   "outputs": [],
   "source": [
    "if n > X_test[::96].shape[0]:\n",
    "    n = X_test[::96].shape[0]"
   ]
  },
  {
   "cell_type": "code",
   "execution_count": 28,
   "metadata": {},
   "outputs": [
    {
     "name": "stdout",
     "output_type": "stream",
     "text": [
      "MAPE: 8.0\n"
     ]
    },
    {
     "data": {
      "image/png": "[encoded data removed]",
      "text/plain": [
       "<Figure size 1200x600 with 1 Axes>"
      ]
     },
     "metadata": {},
     "output_type": "display_data"
    }
   ],
   "source": [
    "evaluator = ModelEvaluator(model, best_features)\n",
    "evaluator.evaluate_on_data(X_test, y_test, n, market_type)"
   ]
  },
  {
   "cell_type": "markdown",
   "metadata": {},
   "source": [
    "### Final Model"
   ]
  },
  {
   "cell_type": "code",
   "execution_count": 31,
   "metadata": {},
   "outputs": [],
   "source": [
    "# training upto this date\n",
    "training_upto = datetime.now().date().strftime('%Y-%m-%d')\n",
    "validation_upto = datetime.now().date().strftime('%Y-%m-%d')\n",
    "X_train, y_train, X_test, y_test, X_valid, y_valid = build_model._split_data(training_data, training_upto, validation_upto)"
   ]
  },
  {
   "cell_type": "code",
   "execution_count": 33,
   "metadata": {},
   "outputs": [
    {
     "name": "stdout",
     "output_type": "stream",
     "text": [
      "[LightGBM] [Warning] bagging_freq is set=7, subsample_freq=0 will be ignored. Current value: bagging_freq=7\n",
      "[LightGBM] [Warning] min_data_in_leaf is set=300, min_child_samples=20 will be ignored. Current value: min_data_in_leaf=300\n",
      "[LightGBM] [Warning] lambda_l2 is set=65.0, reg_lambda=0.0 will be ignored. Current value: lambda_l2=65.0\n",
      "[LightGBM] [Warning] feature_fraction is set=0.8, colsample_bytree=1.0 will be ignored. Current value: feature_fraction=0.8\n",
      "[LightGBM] [Warning] bagging_fraction is set=0.6000000000000001, subsample=1.0 will be ignored. Current value: bagging_fraction=0.6000000000000001\n",
      "[LightGBM] [Warning] min_gain_to_split is set=6.522235227616008, min_split_gain=0.0 will be ignored. Current value: min_gain_to_split=6.522235227616008\n",
      "[LightGBM] [Warning] lambda_l1 is set=100.0, reg_alpha=0.0 will be ignored. Current value: lambda_l1=100.0\n"
     ]
    }
   ],
   "source": [
    "model = build_model._train_model(X_train, y_train, best_params, best_features, objective = 'regression')\n",
    "save_pickle(model, MODELS_PATH, f'{market_type}_forecast')"
   ]
  },
  {
   "cell_type": "code",
   "execution_count": 34,
   "metadata": {},
   "outputs": [],
   "source": [
    "lower_model = build_model._train_model(X_train, y_train, best_params, best_features, objective = 'quantile', alpha = 0.1)\n",
    "save_pickle(lower_model, MODELS_PATH, f'{market_type}_lower')"
   ]
  },
  {
   "cell_type": "code",
   "execution_count": 35,
   "metadata": {},
   "outputs": [],
   "source": [
    "upper_model = build_model._train_model(X_train, y_train, best_params, best_features, objective = 'quantile', alpha = 0.9)\n",
    "save_pickle(upper_model, MODELS_PATH, f'{market_type}_upper')"
   ]
  }
 ],
 "metadata": {
  "kernelspec": {
   "display_name": "env",
   "language": "python",
   "name": "python3"
  },
  "language_info": {
   "codemirror_mode": {
    "name": "ipython",
    "version": 3
   },
   "file_extension": ".py",
   "mimetype": "text/x-python",
   "name": "python",
   "nbconvert_exporter": "python",
   "pygments_lexer": "ipython3",
   "version": "3.12.0"
  }
 },
 "nbformat": 4,
 "nbformat_minor": 2
}
