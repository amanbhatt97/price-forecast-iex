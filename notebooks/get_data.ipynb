{
 "cells": [
  {
   "cell_type": "code",
   "execution_count": 5,
   "metadata": {},
   "outputs": [],
   "source": [
    "import time, sys, os\n",
    "start_time = time.time()\n",
    "\n",
    "PROJECT_PATH = os.getenv('PROJECT_DIR')\n",
    "sys.path.append(PROJECT_PATH)"
   ]
  },
  {
   "cell_type": "code",
   "execution_count": 6,
   "metadata": {},
   "outputs": [],
   "source": [
    "from src.data_ingestion.iex_data import IexDataFetcher\n",
    "from src.data_ingestion.weather_data import WeatherDataFetcher"
   ]
  },
  {
   "cell_type": "code",
   "execution_count": 7,
   "metadata": {},
   "outputs": [],
   "source": [
    "iex_data = IexDataFetcher()\n",
    "weather_data = WeatherDataFetcher()"
   ]
  },
  {
   "cell_type": "code",
   "execution_count": null,
   "metadata": {},
   "outputs": [],
   "source": [
    "dam = iex_data._get_processed_data('dam')\n",
    "rtm = iex_data._get_processed_data('rtm')\n",
    "weather = weather_data._get_processed_weather('weather')\n",
    "wind = weather_data._get_processed_weather('wind')\n",
    "hydro = weather_data._get_processed_weather('hydro')\n",
    "solar = weather_data._get_processed_weather('solar')"
   ]
  },
  {
   "cell_type": "code",
   "execution_count": null,
   "metadata": {},
   "outputs": [],
   "source": [
    "end_time = time.time()\n",
    "total_time = (end_time - start_time)/60\n",
    "print(f'Time to fetch data: {total_time:.2f} minutes.')"
   ]
  }
 ],
 "metadata": {
  "kernelspec": {
   "display_name": "Python 3",
   "language": "python",
   "name": "python3"
  },
  "language_info": {
   "codemirror_mode": {
    "name": "ipython",
    "version": 3
   },
   "file_extension": ".py",
   "mimetype": "text/x-python",
   "name": "python",
   "nbconvert_exporter": "python",
   "pygments_lexer": "ipython3",
   "version": "3.12.0"
  }
 },
 "nbformat": 4,
 "nbformat_minor": 2
}
