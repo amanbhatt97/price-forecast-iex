{
 "cells": [
  {
   "cell_type": "code",
   "execution_count": 1,
   "metadata": {},
   "outputs": [],
   "source": [
    "import os, sys\n",
    "import pandas as pd\n",
    "import numpy as np\n",
    "from datetime import datetime, timedelta\n",
    "from dotenv import load_dotenv\n",
    "load_dotenv()\n",
    "\n",
    "PROJECT_PATH = os.getenv('PROJECT_DIR')\n",
    "sys.path.append(PROJECT_PATH)\n",
    "\n",
    "# ignore warnings\n",
    "import warnings\n",
    "warnings.filterwarnings('ignore')\n",
    "\n",
    "# visualization\n",
    "import matplotlib.pyplot as plt\n",
    "plt.rcParams['figure.figsize'] = (12, 6)"
   ]
  },
  {
   "cell_type": "code",
   "execution_count": 2,
   "metadata": {},
   "outputs": [],
   "source": [
    "# custom modules\n",
    "from src.data_ingestion.iex_data import IexDataFetcher\n",
    "from src.data_ingestion.weather_data import WeatherDataFetcher\n",
    "from src.feature_engineering.build_features import FeatureEngineering\n",
    "from src.model_building.train_model import ModelTraining\n",
    "from src.model_building.eval_model import ModelEvaluator\n",
    "from src.utils import *\n",
    "from config.paths import *"
   ]
  },
  {
   "cell_type": "code",
   "execution_count": 3,
   "metadata": {},
   "outputs": [],
   "source": [
    "# creating instances\n",
    "iex_data = IexDataFetcher()\n",
    "weather_data = WeatherDataFetcher()\n",
    "\n",
    "featured_data = FeatureEngineering(PROJECT_PATH) \n",
    "build_model = ModelTraining(PROJECT_PATH)"
   ]
  },
  {
   "cell_type": "code",
   "execution_count": 4,
   "metadata": {},
   "outputs": [],
   "source": [
    "market_type = 'rtm'"
   ]
  },
  {
   "cell_type": "markdown",
   "metadata": {},
   "source": [
    "### Data Ingestion"
   ]
  },
  {
   "cell_type": "code",
   "execution_count": 5,
   "metadata": {},
   "outputs": [
    {
     "name": "stdout",
     "output_type": "stream",
     "text": [
      "dam data is already updated up to:  2024-01-16 23:45:00\n",
      "rtm data updated up to:  16-01-2024 17:45\n"
     ]
    }
   ],
   "source": [
    "dam = iex_data._get_processed_data('dam')\n",
    "rtm = iex_data._get_processed_data('rtm')\n",
    "# weather = weather_data._get_processed_weather('weather')\n",
    "# wind = weather_data._get_processed_weather('wind')\n",
    "# hydro = weather_data._get_processed_weather('hydro')\n",
    "# solar = weather_data._get_processed_weather('solar')"
   ]
  },
  {
   "cell_type": "code",
   "execution_count": 6,
   "metadata": {},
   "outputs": [],
   "source": [
    "weather = load_pickle(PROCESSED_DATA_PATH, 'weather_data')\n",
    "wind = load_pickle(PROCESSED_DATA_PATH, 'wind_data')\n",
    "hydro = load_pickle(PROCESSED_DATA_PATH, 'hydro_data')\n",
    "solar = load_pickle(PROCESSED_DATA_PATH, 'solar_data')"
   ]
  },
  {
   "cell_type": "code",
   "execution_count": 7,
   "metadata": {},
   "outputs": [],
   "source": [
    "rtm = rtm[rtm['datetime'] < datetime.now().strftime('%Y-%m-%d')]"
   ]
  },
  {
   "cell_type": "markdown",
   "metadata": {},
   "source": [
    "### Feature Engineering"
   ]
  },
  {
   "cell_type": "code",
   "execution_count": 8,
   "metadata": {},
   "outputs": [],
   "source": [
    "dam = featured_data.shift_date(dam, 1) \n",
    "weather = featured_data.shift_date(weather, 2)\n",
    "hydro = featured_data.shift_date(hydro, 2) \n",
    "solar = featured_data.shift_date(solar, 2) \n",
    "wind = featured_data.shift_date(wind, 2)\n",
    "\n",
    "data = featured_data.merge_dataframes([rtm, dam, weather, hydro, solar, wind])"
   ]
  },
  {
   "cell_type": "code",
   "execution_count": 9,
   "metadata": {},
   "outputs": [],
   "source": [
    "training_data = featured_data._get_features(data, weather, market_type)"
   ]
  },
  {
   "cell_type": "code",
   "execution_count": 10,
   "metadata": {},
   "outputs": [],
   "source": [
    "save_pickle(training_data, PROCESSED_DATA_PATH, f'{market_type}_training_data')"
   ]
  },
  {
   "cell_type": "code",
   "execution_count": 11,
   "metadata": {},
   "outputs": [
    {
     "data": {
      "text/html": [
       "<div>\n",
       "<style scoped>\n",
       "    .dataframe tbody tr th:only-of-type {\n",
       "        vertical-align: middle;\n",
       "    }\n",
       "\n",
       "    .dataframe tbody tr th {\n",
       "        vertical-align: top;\n",
       "    }\n",
       "\n",
       "    .dataframe thead th {\n",
       "        text-align: right;\n",
       "    }\n",
       "</style>\n",
       "<table border=\"1\" class=\"dataframe\">\n",
       "  <thead>\n",
       "    <tr style=\"text-align: right;\">\n",
       "      <th></th>\n",
       "      <th>datetime</th>\n",
       "      <th>mcp_rtm</th>\n",
       "      <th>clearedvolume_rtm</th>\n",
       "      <th>pb_rtm</th>\n",
       "      <th>sb_rtm</th>\n",
       "      <th>diff_sb_pb_rtm</th>\n",
       "      <th>mcp_dam</th>\n",
       "      <th>clearedvolume_dam</th>\n",
       "      <th>pb_dam</th>\n",
       "      <th>sb_dam</th>\n",
       "      <th>...</th>\n",
       "      <th>mcp_rtm_with_rh_pat</th>\n",
       "      <th>mcp_rtm_with_prec_pat</th>\n",
       "      <th>mcp_rtm_with_temp_ran</th>\n",
       "      <th>mcp_rtm_with_atemp_ran</th>\n",
       "      <th>mcp_rtm_with_rh_ran</th>\n",
       "      <th>mcp_rtm_with_prec_ran</th>\n",
       "      <th>mcp_rtm_with_temp_guw</th>\n",
       "      <th>mcp_rtm_with_atemp_guw</th>\n",
       "      <th>mcp_rtm_with_rh_guw</th>\n",
       "      <th>mcp_rtm_with_prec_guw</th>\n",
       "    </tr>\n",
       "  </thead>\n",
       "  <tbody>\n",
       "    <tr>\n",
       "      <th>0</th>\n",
       "      <td>2020-07-09 00:00:00</td>\n",
       "      <td>3056.12</td>\n",
       "      <td>1530.5</td>\n",
       "      <td>2314.4</td>\n",
       "      <td>2466.9</td>\n",
       "      <td>-152.5</td>\n",
       "      <td>2005.55</td>\n",
       "      <td>5745.60</td>\n",
       "      <td>6779.8</td>\n",
       "      <td>9676.3</td>\n",
       "      <td>...</td>\n",
       "      <td>287509.632587</td>\n",
       "      <td>2017.786314</td>\n",
       "      <td>73273.013824</td>\n",
       "      <td>76385.133846</td>\n",
       "      <td>300236.999517</td>\n",
       "      <td>4448.008172</td>\n",
       "      <td>80634.450331</td>\n",
       "      <td>90065.183337</td>\n",
       "      <td>296246.943319</td>\n",
       "      <td>13139.678610</td>\n",
       "    </tr>\n",
       "    <tr>\n",
       "      <th>1</th>\n",
       "      <td>2020-07-09 00:15:00</td>\n",
       "      <td>3000.00</td>\n",
       "      <td>1588.9</td>\n",
       "      <td>2246.6</td>\n",
       "      <td>2525.7</td>\n",
       "      <td>-279.1</td>\n",
       "      <td>2008.37</td>\n",
       "      <td>5502.20</td>\n",
       "      <td>6761.9</td>\n",
       "      <td>9830.0</td>\n",
       "      <td>...</td>\n",
       "      <td>282504.615787</td>\n",
       "      <td>1711.992503</td>\n",
       "      <td>71998.168950</td>\n",
       "      <td>75059.337607</td>\n",
       "      <td>294690.490718</td>\n",
       "      <td>6164.719105</td>\n",
       "      <td>79704.345705</td>\n",
       "      <td>90005.973825</td>\n",
       "      <td>288674.480445</td>\n",
       "      <td>11966.624738</td>\n",
       "    </tr>\n",
       "    <tr>\n",
       "      <th>2</th>\n",
       "      <td>2020-07-09 00:30:00</td>\n",
       "      <td>3001.28</td>\n",
       "      <td>1569.0</td>\n",
       "      <td>2070.3</td>\n",
       "      <td>2472.4</td>\n",
       "      <td>-402.1</td>\n",
       "      <td>2008.44</td>\n",
       "      <td>5394.20</td>\n",
       "      <td>6659.1</td>\n",
       "      <td>9985.0</td>\n",
       "      <td>...</td>\n",
       "      <td>282899.834891</td>\n",
       "      <td>1443.867397</td>\n",
       "      <td>72099.597035</td>\n",
       "      <td>75168.271408</td>\n",
       "      <td>294783.000399</td>\n",
       "      <td>7966.507086</td>\n",
       "      <td>80289.185959</td>\n",
       "      <td>91639.728022</td>\n",
       "      <td>286664.303539</td>\n",
       "      <td>11039.565003</td>\n",
       "    </tr>\n",
       "    <tr>\n",
       "      <th>3</th>\n",
       "      <td>2020-07-09 00:45:00</td>\n",
       "      <td>2949.92</td>\n",
       "      <td>1274.8</td>\n",
       "      <td>1727.4</td>\n",
       "      <td>2411.4</td>\n",
       "      <td>-684.0</td>\n",
       "      <td>2008.30</td>\n",
       "      <td>5296.20</td>\n",
       "      <td>6549.9</td>\n",
       "      <td>10141.0</td>\n",
       "      <td>...</td>\n",
       "      <td>278367.635956</td>\n",
       "      <td>2049.211671</td>\n",
       "      <td>70819.595839</td>\n",
       "      <td>73837.384390</td>\n",
       "      <td>289977.561356</td>\n",
       "      <td>7226.231232</td>\n",
       "      <td>78620.098787</td>\n",
       "      <td>89234.347159</td>\n",
       "      <td>282995.847348</td>\n",
       "      <td>9715.759698</td>\n",
       "    </tr>\n",
       "    <tr>\n",
       "      <th>4</th>\n",
       "      <td>2020-07-09 01:00:00</td>\n",
       "      <td>2800.36</td>\n",
       "      <td>927.8</td>\n",
       "      <td>1267.2</td>\n",
       "      <td>2420.0</td>\n",
       "      <td>-1152.8</td>\n",
       "      <td>2007.05</td>\n",
       "      <td>5104.60</td>\n",
       "      <td>6261.6</td>\n",
       "      <td>10251.5</td>\n",
       "      <td>...</td>\n",
       "      <td>264547.801340</td>\n",
       "      <td>2543.426564</td>\n",
       "      <td>67185.223908</td>\n",
       "      <td>70051.556511</td>\n",
       "      <td>275502.763412</td>\n",
       "      <td>6286.536142</td>\n",
       "      <td>74353.925021</td>\n",
       "      <td>83915.461142</td>\n",
       "      <td>269822.469293</td>\n",
       "      <td>8145.823721</td>\n",
       "    </tr>\n",
       "    <tr>\n",
       "      <th>...</th>\n",
       "      <td>...</td>\n",
       "      <td>...</td>\n",
       "      <td>...</td>\n",
       "      <td>...</td>\n",
       "      <td>...</td>\n",
       "      <td>...</td>\n",
       "      <td>...</td>\n",
       "      <td>...</td>\n",
       "      <td>...</td>\n",
       "      <td>...</td>\n",
       "      <td>...</td>\n",
       "      <td>...</td>\n",
       "      <td>...</td>\n",
       "      <td>...</td>\n",
       "      <td>...</td>\n",
       "      <td>...</td>\n",
       "      <td>...</td>\n",
       "      <td>...</td>\n",
       "      <td>...</td>\n",
       "      <td>...</td>\n",
       "      <td>...</td>\n",
       "    </tr>\n",
       "    <tr>\n",
       "      <th>123141</th>\n",
       "      <td>2024-01-13 22:45:00</td>\n",
       "      <td>4776.65</td>\n",
       "      <td>4595.1</td>\n",
       "      <td>6278.1</td>\n",
       "      <td>6753.2</td>\n",
       "      <td>-475.1</td>\n",
       "      <td>3224.73</td>\n",
       "      <td>5935.50</td>\n",
       "      <td>9424.0</td>\n",
       "      <td>15910.5</td>\n",
       "      <td>...</td>\n",
       "      <td>417956.875000</td>\n",
       "      <td>0.000000</td>\n",
       "      <td>63278.670875</td>\n",
       "      <td>52961.106875</td>\n",
       "      <td>298540.625000</td>\n",
       "      <td>0.000000</td>\n",
       "      <td>76426.400000</td>\n",
       "      <td>82444.979000</td>\n",
       "      <td>477665.000000</td>\n",
       "      <td>0.000000</td>\n",
       "    </tr>\n",
       "    <tr>\n",
       "      <th>123142</th>\n",
       "      <td>2024-01-13 23:00:00</td>\n",
       "      <td>4211.48</td>\n",
       "      <td>4197.8</td>\n",
       "      <td>6166.9</td>\n",
       "      <td>7413.1</td>\n",
       "      <td>-1246.2</td>\n",
       "      <td>3160.38</td>\n",
       "      <td>6112.77</td>\n",
       "      <td>9693.6</td>\n",
       "      <td>16877.0</td>\n",
       "      <td>...</td>\n",
       "      <td>370610.240000</td>\n",
       "      <td>0.000000</td>\n",
       "      <td>55444.134200</td>\n",
       "      <td>46389.452200</td>\n",
       "      <td>265323.240000</td>\n",
       "      <td>0.000000</td>\n",
       "      <td>67383.680000</td>\n",
       "      <td>72732.259600</td>\n",
       "      <td>421148.000000</td>\n",
       "      <td>0.000000</td>\n",
       "    </tr>\n",
       "    <tr>\n",
       "      <th>123143</th>\n",
       "      <td>2024-01-13 23:15:00</td>\n",
       "      <td>4014.84</td>\n",
       "      <td>3952.5</td>\n",
       "      <td>5924.4</td>\n",
       "      <td>7524.3</td>\n",
       "      <td>-1599.9</td>\n",
       "      <td>3142.08</td>\n",
       "      <td>6115.90</td>\n",
       "      <td>9539.9</td>\n",
       "      <td>17534.4</td>\n",
       "      <td>...</td>\n",
       "      <td>355313.340000</td>\n",
       "      <td>0.000000</td>\n",
       "      <td>52524.144300</td>\n",
       "      <td>43932.386700</td>\n",
       "      <td>254942.340000</td>\n",
       "      <td>0.000000</td>\n",
       "      <td>64237.440000</td>\n",
       "      <td>69376.435200</td>\n",
       "      <td>401484.000000</td>\n",
       "      <td>0.000000</td>\n",
       "    </tr>\n",
       "    <tr>\n",
       "      <th>123144</th>\n",
       "      <td>2024-01-13 23:30:00</td>\n",
       "      <td>4219.63</td>\n",
       "      <td>4245.2</td>\n",
       "      <td>6206.7</td>\n",
       "      <td>7298.6</td>\n",
       "      <td>-1091.9</td>\n",
       "      <td>3130.16</td>\n",
       "      <td>5977.68</td>\n",
       "      <td>9350.9</td>\n",
       "      <td>17850.2</td>\n",
       "      <td>...</td>\n",
       "      <td>375547.070000</td>\n",
       "      <td>0.000000</td>\n",
       "      <td>54855.190000</td>\n",
       "      <td>45867.378100</td>\n",
       "      <td>270056.320000</td>\n",
       "      <td>0.000000</td>\n",
       "      <td>67514.080000</td>\n",
       "      <td>72957.402700</td>\n",
       "      <td>421963.000000</td>\n",
       "      <td>0.000000</td>\n",
       "    </tr>\n",
       "    <tr>\n",
       "      <th>123145</th>\n",
       "      <td>2024-01-13 23:45:00</td>\n",
       "      <td>3969.31</td>\n",
       "      <td>4058.6</td>\n",
       "      <td>5693.3</td>\n",
       "      <td>7767.0</td>\n",
       "      <td>-2073.7</td>\n",
       "      <td>3086.59</td>\n",
       "      <td>6299.10</td>\n",
       "      <td>9400.3</td>\n",
       "      <td>18592.9</td>\n",
       "      <td>...</td>\n",
       "      <td>353268.590000</td>\n",
       "      <td>0.000000</td>\n",
       "      <td>51601.030000</td>\n",
       "      <td>43215.862625</td>\n",
       "      <td>256020.495000</td>\n",
       "      <td>0.000000</td>\n",
       "      <td>63141.798825</td>\n",
       "      <td>68133.206150</td>\n",
       "      <td>396931.000000</td>\n",
       "      <td>0.000000</td>\n",
       "    </tr>\n",
       "  </tbody>\n",
       "</table>\n",
       "<p>123146 rows × 608 columns</p>\n",
       "</div>"
      ],
      "text/plain": [
       "                  datetime  mcp_rtm  clearedvolume_rtm  pb_rtm  sb_rtm  \\\n",
       "0      2020-07-09 00:00:00  3056.12             1530.5  2314.4  2466.9   \n",
       "1      2020-07-09 00:15:00  3000.00             1588.9  2246.6  2525.7   \n",
       "2      2020-07-09 00:30:00  3001.28             1569.0  2070.3  2472.4   \n",
       "3      2020-07-09 00:45:00  2949.92             1274.8  1727.4  2411.4   \n",
       "4      2020-07-09 01:00:00  2800.36              927.8  1267.2  2420.0   \n",
       "...                    ...      ...                ...     ...     ...   \n",
       "123141 2024-01-13 22:45:00  4776.65             4595.1  6278.1  6753.2   \n",
       "123142 2024-01-13 23:00:00  4211.48             4197.8  6166.9  7413.1   \n",
       "123143 2024-01-13 23:15:00  4014.84             3952.5  5924.4  7524.3   \n",
       "123144 2024-01-13 23:30:00  4219.63             4245.2  6206.7  7298.6   \n",
       "123145 2024-01-13 23:45:00  3969.31             4058.6  5693.3  7767.0   \n",
       "\n",
       "        diff_sb_pb_rtm  mcp_dam  clearedvolume_dam  pb_dam   sb_dam  ...  \\\n",
       "0               -152.5  2005.55            5745.60  6779.8   9676.3  ...   \n",
       "1               -279.1  2008.37            5502.20  6761.9   9830.0  ...   \n",
       "2               -402.1  2008.44            5394.20  6659.1   9985.0  ...   \n",
       "3               -684.0  2008.30            5296.20  6549.9  10141.0  ...   \n",
       "4              -1152.8  2007.05            5104.60  6261.6  10251.5  ...   \n",
       "...                ...      ...                ...     ...      ...  ...   \n",
       "123141          -475.1  3224.73            5935.50  9424.0  15910.5  ...   \n",
       "123142         -1246.2  3160.38            6112.77  9693.6  16877.0  ...   \n",
       "123143         -1599.9  3142.08            6115.90  9539.9  17534.4  ...   \n",
       "123144         -1091.9  3130.16            5977.68  9350.9  17850.2  ...   \n",
       "123145         -2073.7  3086.59            6299.10  9400.3  18592.9  ...   \n",
       "\n",
       "        mcp_rtm_with_rh_pat  mcp_rtm_with_prec_pat  mcp_rtm_with_temp_ran  \\\n",
       "0             287509.632587            2017.786314           73273.013824   \n",
       "1             282504.615787            1711.992503           71998.168950   \n",
       "2             282899.834891            1443.867397           72099.597035   \n",
       "3             278367.635956            2049.211671           70819.595839   \n",
       "4             264547.801340            2543.426564           67185.223908   \n",
       "...                     ...                    ...                    ...   \n",
       "123141        417956.875000               0.000000           63278.670875   \n",
       "123142        370610.240000               0.000000           55444.134200   \n",
       "123143        355313.340000               0.000000           52524.144300   \n",
       "123144        375547.070000               0.000000           54855.190000   \n",
       "123145        353268.590000               0.000000           51601.030000   \n",
       "\n",
       "        mcp_rtm_with_atemp_ran  mcp_rtm_with_rh_ran  mcp_rtm_with_prec_ran  \\\n",
       "0                 76385.133846        300236.999517            4448.008172   \n",
       "1                 75059.337607        294690.490718            6164.719105   \n",
       "2                 75168.271408        294783.000399            7966.507086   \n",
       "3                 73837.384390        289977.561356            7226.231232   \n",
       "4                 70051.556511        275502.763412            6286.536142   \n",
       "...                        ...                  ...                    ...   \n",
       "123141            52961.106875        298540.625000               0.000000   \n",
       "123142            46389.452200        265323.240000               0.000000   \n",
       "123143            43932.386700        254942.340000               0.000000   \n",
       "123144            45867.378100        270056.320000               0.000000   \n",
       "123145            43215.862625        256020.495000               0.000000   \n",
       "\n",
       "        mcp_rtm_with_temp_guw  mcp_rtm_with_atemp_guw  mcp_rtm_with_rh_guw  \\\n",
       "0                80634.450331            90065.183337        296246.943319   \n",
       "1                79704.345705            90005.973825        288674.480445   \n",
       "2                80289.185959            91639.728022        286664.303539   \n",
       "3                78620.098787            89234.347159        282995.847348   \n",
       "4                74353.925021            83915.461142        269822.469293   \n",
       "...                       ...                     ...                  ...   \n",
       "123141           76426.400000            82444.979000        477665.000000   \n",
       "123142           67383.680000            72732.259600        421148.000000   \n",
       "123143           64237.440000            69376.435200        401484.000000   \n",
       "123144           67514.080000            72957.402700        421963.000000   \n",
       "123145           63141.798825            68133.206150        396931.000000   \n",
       "\n",
       "        mcp_rtm_with_prec_guw  \n",
       "0                13139.678610  \n",
       "1                11966.624738  \n",
       "2                11039.565003  \n",
       "3                 9715.759698  \n",
       "4                 8145.823721  \n",
       "...                       ...  \n",
       "123141               0.000000  \n",
       "123142               0.000000  \n",
       "123143               0.000000  \n",
       "123144               0.000000  \n",
       "123145               0.000000  \n",
       "\n",
       "[123146 rows x 608 columns]"
      ]
     },
     "execution_count": 11,
     "metadata": {},
     "output_type": "execute_result"
    }
   ],
   "source": [
    "training_data"
   ]
  },
  {
   "cell_type": "markdown",
   "metadata": {},
   "source": [
    "### Model Building"
   ]
  },
  {
   "cell_type": "code",
   "execution_count": 12,
   "metadata": {},
   "outputs": [],
   "source": [
    "training_data = load_pickle(PROCESSED_DATA_PATH, f'{market_type}_training_data')"
   ]
  },
  {
   "cell_type": "code",
   "execution_count": 16,
   "metadata": {},
   "outputs": [],
   "source": [
    "# trail and error\n",
    "n_trials = 50\n",
    "n_features = 25"
   ]
  },
  {
   "cell_type": "code",
   "execution_count": 17,
   "metadata": {},
   "outputs": [
    {
     "name": "stderr",
     "output_type": "stream",
     "text": [
      "[I 2024-01-16 17:11:55,168] A new study created in memory with name: no-name-85705720-9d2b-4276-8e47-4800ae04056a\n",
      "[I 2024-01-16 17:11:55,540] Trial 0 finished with value: 1.261345818651464e+18 and parameters: {'n_estimators': 300, 'lambda_l1': 55.0, 'lambda_l2': 45.0, 'num_leaves': 9050, 'min_data_in_leaf': 5300, 'max_bin': 252, 'feature_fraction': 0.6000000000000001, 'bagging_fraction': 0.3, 'bagging_freq': 1, 'min_gain_to_split': 10.02418580684805, 'max_depth': 6, 'learning_rate': 0.11}. Best is trial 0 with value: 1.261345818651464e+18.\n"
     ]
    },
    {
     "name": "stdout",
     "output_type": "stream",
     "text": [
      "[LightGBM] [Warning] bagging_freq is set=7, subsample_freq=0 will be ignored. Current value: bagging_freq=7\n",
      "[LightGBM] [Warning] min_data_in_leaf is set=6200, min_child_samples=20 will be ignored. Current value: min_data_in_leaf=6200\n",
      "[LightGBM] [Warning] lambda_l2 is set=80.0, reg_lambda=0.0 will be ignored. Current value: lambda_l2=80.0\n",
      "[LightGBM] [Warning] feature_fraction is set=0.8, colsample_bytree=1.0 will be ignored. Current value: feature_fraction=0.8\n",
      "[LightGBM] [Warning] bagging_fraction is set=0.7, subsample=1.0 will be ignored. Current value: bagging_fraction=0.7\n",
      "[LightGBM] [Warning] min_gain_to_split is set=2.3030036897445196, min_split_gain=0.0 will be ignored. Current value: min_gain_to_split=2.3030036897445196\n",
      "[LightGBM] [Warning] lambda_l1 is set=25.0, reg_alpha=0.0 will be ignored. Current value: lambda_l1=25.0\n"
     ]
    },
    {
     "name": "stderr",
     "output_type": "stream",
     "text": [
      "[I 2024-01-16 17:11:55,869] Trial 1 finished with value: 1.2459659660360435e+18 and parameters: {'n_estimators': 100, 'lambda_l1': 25.0, 'lambda_l2': 80.0, 'num_leaves': 4200, 'min_data_in_leaf': 6200, 'max_bin': 226, 'feature_fraction': 0.8, 'bagging_fraction': 0.7, 'bagging_freq': 7, 'min_gain_to_split': 2.3030036897445196, 'max_depth': 8, 'learning_rate': 0.13}. Best is trial 1 with value: 1.2459659660360435e+18.\n"
     ]
    },
    {
     "name": "stdout",
     "output_type": "stream",
     "text": [
      "[LightGBM] [Warning] bagging_freq is set=2, subsample_freq=0 will be ignored. Current value: bagging_freq=2\n",
      "[LightGBM] [Warning] min_data_in_leaf is set=9300, min_child_samples=20 will be ignored. Current value: min_data_in_leaf=9300\n",
      "[LightGBM] [Warning] lambda_l2 is set=65.0, reg_lambda=0.0 will be ignored. Current value: lambda_l2=65.0\n",
      "[LightGBM] [Warning] feature_fraction is set=0.7, colsample_bytree=1.0 will be ignored. Current value: feature_fraction=0.7\n",
      "[LightGBM] [Warning] bagging_fraction is set=0.3, subsample=1.0 will be ignored. Current value: bagging_fraction=0.3\n",
      "[LightGBM] [Warning] min_gain_to_split is set=12.037559554100415, min_split_gain=0.0 will be ignored. Current value: min_gain_to_split=12.037559554100415\n",
      "[LightGBM] [Warning] lambda_l1 is set=15.0, reg_alpha=0.0 will be ignored. Current value: lambda_l1=15.0\n"
     ]
    },
    {
     "name": "stderr",
     "output_type": "stream",
     "text": [
      "[I 2024-01-16 17:11:56,130] Trial 2 finished with value: 1.329054207572289e+18 and parameters: {'n_estimators': 600, 'lambda_l1': 15.0, 'lambda_l2': 65.0, 'num_leaves': 200, 'min_data_in_leaf': 9300, 'max_bin': 266, 'feature_fraction': 0.7, 'bagging_fraction': 0.3, 'bagging_freq': 2, 'min_gain_to_split': 12.037559554100415, 'max_depth': 14, 'learning_rate': 0.28}. Best is trial 1 with value: 1.2459659660360435e+18.\n"
     ]
    },
    {
     "name": "stdout",
     "output_type": "stream",
     "text": [
      "[LightGBM] [Warning] bagging_freq is set=1, subsample_freq=0 will be ignored. Current value: bagging_freq=1\n",
      "[LightGBM] [Warning] min_data_in_leaf is set=8200, min_child_samples=20 will be ignored. Current value: min_data_in_leaf=8200\n",
      "[LightGBM] [Warning] lambda_l2 is set=5.0, reg_lambda=0.0 will be ignored. Current value: lambda_l2=5.0\n",
      "[LightGBM] [Warning] feature_fraction is set=0.4, colsample_bytree=1.0 will be ignored. Current value: feature_fraction=0.4\n",
      "[LightGBM] [Warning] bagging_fraction is set=0.4, subsample=1.0 will be ignored. Current value: bagging_fraction=0.4\n",
      "[LightGBM] [Warning] min_gain_to_split is set=0.44342641984518205, min_split_gain=0.0 will be ignored. Current value: min_gain_to_split=0.44342641984518205\n",
      "[LightGBM] [Warning] lambda_l1 is set=75.0, reg_alpha=0.0 will be ignored. Current value: lambda_l1=75.0\n"
     ]
    },
    {
     "name": "stderr",
     "output_type": "stream",
     "text": [
      "[I 2024-01-16 17:11:56,404] Trial 3 finished with value: 1.2517482511188042e+18 and parameters: {'n_estimators': 300, 'lambda_l1': 75.0, 'lambda_l2': 5.0, 'num_leaves': 4850, 'min_data_in_leaf': 8200, 'max_bin': 262, 'feature_fraction': 0.4, 'bagging_fraction': 0.4, 'bagging_freq': 1, 'min_gain_to_split': 0.44342641984518205, 'max_depth': 9, 'learning_rate': 0.06999999999999999}. Best is trial 1 with value: 1.2459659660360435e+18.\n"
     ]
    },
    {
     "name": "stdout",
     "output_type": "stream",
     "text": [
      "[LightGBM] [Warning] bagging_freq is set=5, subsample_freq=0 will be ignored. Current value: bagging_freq=5\n",
      "[LightGBM] [Warning] min_data_in_leaf is set=9100, min_child_samples=20 will be ignored. Current value: min_data_in_leaf=9100\n",
      "[LightGBM] [Warning] lambda_l2 is set=85.0, reg_lambda=0.0 will be ignored. Current value: lambda_l2=85.0\n",
      "[LightGBM] [Warning] feature_fraction is set=0.3, colsample_bytree=1.0 will be ignored. Current value: feature_fraction=0.3\n",
      "[LightGBM] [Warning] bagging_fraction is set=0.9000000000000001, subsample=1.0 will be ignored. Current value: bagging_fraction=0.9000000000000001\n",
      "[LightGBM] [Warning] min_gain_to_split is set=11.357853931701312, min_split_gain=0.0 will be ignored. Current value: min_gain_to_split=11.357853931701312\n",
      "[LightGBM] [Warning] lambda_l1 is set=25.0, reg_alpha=0.0 will be ignored. Current value: lambda_l1=25.0\n"
     ]
    },
    {
     "name": "stderr",
     "output_type": "stream",
     "text": [
      "[I 2024-01-16 17:11:56,684] Trial 4 finished with value: 1.2602545159280448e+18 and parameters: {'n_estimators': 600, 'lambda_l1': 25.0, 'lambda_l2': 85.0, 'num_leaves': 2850, 'min_data_in_leaf': 9100, 'max_bin': 265, 'feature_fraction': 0.3, 'bagging_fraction': 0.9000000000000001, 'bagging_freq': 5, 'min_gain_to_split': 11.357853931701312, 'max_depth': 7, 'learning_rate': 0.29000000000000004}. Best is trial 1 with value: 1.2459659660360435e+18.\n"
     ]
    },
    {
     "name": "stdout",
     "output_type": "stream",
     "text": [
      "[LightGBM] [Warning] bagging_freq is set=6, subsample_freq=0 will be ignored. Current value: bagging_freq=6\n",
      "[LightGBM] [Warning] min_data_in_leaf is set=300, min_child_samples=20 will be ignored. Current value: min_data_in_leaf=300\n",
      "[LightGBM] [Warning] lambda_l2 is set=15.0, reg_lambda=0.0 will be ignored. Current value: lambda_l2=15.0\n",
      "[LightGBM] [Warning] feature_fraction is set=0.5, colsample_bytree=1.0 will be ignored. Current value: feature_fraction=0.5\n",
      "[LightGBM] [Warning] bagging_fraction is set=0.5, subsample=1.0 will be ignored. Current value: bagging_fraction=0.5\n",
      "[LightGBM] [Warning] min_gain_to_split is set=5.031072147368128, min_split_gain=0.0 will be ignored. Current value: min_gain_to_split=5.031072147368128\n",
      "[LightGBM] [Warning] lambda_l1 is set=45.0, reg_alpha=0.0 will be ignored. Current value: lambda_l1=45.0\n"
     ]
    },
    {
     "name": "stderr",
     "output_type": "stream",
     "text": [
      "[I 2024-01-16 17:11:57,242] Trial 5 finished with value: 1.2548908654264817e+18 and parameters: {'n_estimators': 200, 'lambda_l1': 45.0, 'lambda_l2': 15.0, 'num_leaves': 6100, 'min_data_in_leaf': 300, 'max_bin': 300, 'feature_fraction': 0.5, 'bagging_fraction': 0.5, 'bagging_freq': 6, 'min_gain_to_split': 5.031072147368128, 'max_depth': 14, 'learning_rate': 0.18000000000000002}. Best is trial 1 with value: 1.2459659660360435e+18.\n"
     ]
    },
    {
     "name": "stdout",
     "output_type": "stream",
     "text": [
      "[LightGBM] [Warning] bagging_freq is set=3, subsample_freq=0 will be ignored. Current value: bagging_freq=3\n",
      "[LightGBM] [Warning] min_data_in_leaf is set=800, min_child_samples=20 will be ignored. Current value: min_data_in_leaf=800\n",
      "[LightGBM] [Warning] lambda_l2 is set=55.0, reg_lambda=0.0 will be ignored. Current value: lambda_l2=55.0\n",
      "[LightGBM] [Warning] feature_fraction is set=0.7, colsample_bytree=1.0 will be ignored. Current value: feature_fraction=0.7\n",
      "[LightGBM] [Warning] bagging_fraction is set=0.4, subsample=1.0 will be ignored. Current value: bagging_fraction=0.4\n",
      "[LightGBM] [Warning] min_gain_to_split is set=6.0079329945999325, min_split_gain=0.0 will be ignored. Current value: min_gain_to_split=6.0079329945999325\n",
      "[LightGBM] [Warning] lambda_l1 is set=5.0, reg_alpha=0.0 will be ignored. Current value: lambda_l1=5.0\n"
     ]
    },
    {
     "name": "stderr",
     "output_type": "stream",
     "text": [
      "[I 2024-01-16 17:11:57,558] Trial 6 finished with value: 1.2395525894839058e+18 and parameters: {'n_estimators': 500, 'lambda_l1': 5.0, 'lambda_l2': 55.0, 'num_leaves': 5400, 'min_data_in_leaf': 800, 'max_bin': 297, 'feature_fraction': 0.7, 'bagging_fraction': 0.4, 'bagging_freq': 3, 'min_gain_to_split': 6.0079329945999325, 'max_depth': 7, 'learning_rate': 0.21000000000000002}. Best is trial 6 with value: 1.2395525894839058e+18.\n"
     ]
    },
    {
     "name": "stdout",
     "output_type": "stream",
     "text": [
      "[LightGBM] [Warning] bagging_freq is set=3, subsample_freq=0 will be ignored. Current value: bagging_freq=3\n",
      "[LightGBM] [Warning] min_data_in_leaf is set=3200, min_child_samples=20 will be ignored. Current value: min_data_in_leaf=3200\n",
      "[LightGBM] [Warning] lambda_l2 is set=60.0, reg_lambda=0.0 will be ignored. Current value: lambda_l2=60.0\n",
      "[LightGBM] [Warning] feature_fraction is set=0.9000000000000001, colsample_bytree=1.0 will be ignored. Current value: feature_fraction=0.9000000000000001\n",
      "[LightGBM] [Warning] bagging_fraction is set=0.5, subsample=1.0 will be ignored. Current value: bagging_fraction=0.5\n",
      "[LightGBM] [Warning] min_gain_to_split is set=3.314061081520738, min_split_gain=0.0 will be ignored. Current value: min_gain_to_split=3.314061081520738\n",
      "[LightGBM] [Warning] lambda_l1 is set=50.0, reg_alpha=0.0 will be ignored. Current value: lambda_l1=50.0\n"
     ]
    },
    {
     "name": "stderr",
     "output_type": "stream",
     "text": [
      "[I 2024-01-16 17:11:57,834] Trial 7 finished with value: 1.2471571252814812e+18 and parameters: {'n_estimators': 400, 'lambda_l1': 50.0, 'lambda_l2': 60.0, 'num_leaves': 3600, 'min_data_in_leaf': 3200, 'max_bin': 230, 'feature_fraction': 0.9000000000000001, 'bagging_fraction': 0.5, 'bagging_freq': 3, 'min_gain_to_split': 3.314061081520738, 'max_depth': 5, 'learning_rate': 0.26}. Best is trial 6 with value: 1.2395525894839058e+18.\n"
     ]
    },
    {
     "name": "stdout",
     "output_type": "stream",
     "text": [
      "[LightGBM] [Warning] bagging_freq is set=6, subsample_freq=0 will be ignored. Current value: bagging_freq=6\n",
      "[LightGBM] [Warning] min_data_in_leaf is set=1600, min_child_samples=20 will be ignored. Current value: min_data_in_leaf=1600\n",
      "[LightGBM] [Warning] lambda_l2 is set=50.0, reg_lambda=0.0 will be ignored. Current value: lambda_l2=50.0\n",
      "[LightGBM] [Warning] feature_fraction is set=0.6000000000000001, colsample_bytree=1.0 will be ignored. Current value: feature_fraction=0.6000000000000001\n",
      "[LightGBM] [Warning] bagging_fraction is set=0.9000000000000001, subsample=1.0 will be ignored. Current value: bagging_fraction=0.9000000000000001\n",
      "[LightGBM] [Warning] min_gain_to_split is set=7.762733153240677, min_split_gain=0.0 will be ignored. Current value: min_gain_to_split=7.762733153240677\n",
      "[LightGBM] [Warning] lambda_l1 is set=5.0, reg_alpha=0.0 will be ignored. Current value: lambda_l1=5.0\n"
     ]
    },
    {
     "name": "stderr",
     "output_type": "stream",
     "text": [
      "[I 2024-01-16 17:11:58,155] Trial 8 finished with value: 1.222838626674225e+18 and parameters: {'n_estimators': 700, 'lambda_l1': 5.0, 'lambda_l2': 50.0, 'num_leaves': 8250, 'min_data_in_leaf': 1600, 'max_bin': 286, 'feature_fraction': 0.6000000000000001, 'bagging_fraction': 0.9000000000000001, 'bagging_freq': 6, 'min_gain_to_split': 7.762733153240677, 'max_depth': 9, 'learning_rate': 0.26}. Best is trial 8 with value: 1.222838626674225e+18.\n"
     ]
    },
    {
     "name": "stdout",
     "output_type": "stream",
     "text": [
      "[LightGBM] [Warning] bagging_freq is set=1, subsample_freq=0 will be ignored. Current value: bagging_freq=1\n",
      "[LightGBM] [Warning] min_data_in_leaf is set=1900, min_child_samples=20 will be ignored. Current value: min_data_in_leaf=1900\n",
      "[LightGBM] [Warning] lambda_l2 is set=80.0, reg_lambda=0.0 will be ignored. Current value: lambda_l2=80.0\n",
      "[LightGBM] [Warning] feature_fraction is set=0.6000000000000001, colsample_bytree=1.0 will be ignored. Current value: feature_fraction=0.6000000000000001\n",
      "[LightGBM] [Warning] bagging_fraction is set=0.5, subsample=1.0 will be ignored. Current value: bagging_fraction=0.5\n",
      "[LightGBM] [Warning] min_gain_to_split is set=1.7307596743663773, min_split_gain=0.0 will be ignored. Current value: min_gain_to_split=1.7307596743663773\n",
      "[LightGBM] [Warning] lambda_l1 is set=100.0, reg_alpha=0.0 will be ignored. Current value: lambda_l1=100.0\n"
     ]
    },
    {
     "name": "stderr",
     "output_type": "stream",
     "text": [
      "[I 2024-01-16 17:11:58,454] Trial 9 finished with value: 1.2283081143021606e+18 and parameters: {'n_estimators': 300, 'lambda_l1': 100.0, 'lambda_l2': 80.0, 'num_leaves': 6500, 'min_data_in_leaf': 1900, 'max_bin': 297, 'feature_fraction': 0.6000000000000001, 'bagging_fraction': 0.5, 'bagging_freq': 1, 'min_gain_to_split': 1.7307596743663773, 'max_depth': 10, 'learning_rate': 0.09999999999999999}. Best is trial 8 with value: 1.222838626674225e+18.\n"
     ]
    },
    {
     "name": "stdout",
     "output_type": "stream",
     "text": [
      "[LightGBM] [Warning] bagging_freq is set=5, subsample_freq=0 will be ignored. Current value: bagging_freq=5\n",
      "[LightGBM] [Warning] min_data_in_leaf is set=3100, min_child_samples=20 will be ignored. Current value: min_data_in_leaf=3100\n",
      "[LightGBM] [Warning] lambda_l2 is set=35.0, reg_lambda=0.0 will be ignored. Current value: lambda_l2=35.0\n",
      "[LightGBM] [Warning] feature_fraction is set=1.0, colsample_bytree=1.0 will be ignored. Current value: feature_fraction=1.0\n",
      "[LightGBM] [Warning] bagging_fraction is set=1.0, subsample=1.0 will be ignored. Current value: bagging_fraction=1.0\n",
      "[LightGBM] [Warning] min_gain_to_split is set=7.977532774518262, min_split_gain=0.0 will be ignored. Current value: min_gain_to_split=7.977532774518262\n",
      "[LightGBM] [Warning] lambda_l1 is set=0.0, reg_alpha=0.0 will be ignored. Current value: lambda_l1=0.0\n"
     ]
    },
    {
     "name": "stderr",
     "output_type": "stream",
     "text": [
      "[I 2024-01-16 17:11:58,823] Trial 10 finished with value: 1.2304478723935437e+18 and parameters: {'n_estimators': 900, 'lambda_l1': 0.0, 'lambda_l2': 35.0, 'num_leaves': 9800, 'min_data_in_leaf': 3100, 'max_bin': 204, 'feature_fraction': 1.0, 'bagging_fraction': 1.0, 'bagging_freq': 5, 'min_gain_to_split': 7.977532774518262, 'max_depth': 3, 'learning_rate': 0.03}. Best is trial 8 with value: 1.222838626674225e+18.\n"
     ]
    },
    {
     "name": "stdout",
     "output_type": "stream",
     "text": [
      "[LightGBM] [Warning] bagging_freq is set=7, subsample_freq=0 will be ignored. Current value: bagging_freq=7\n",
      "[LightGBM] [Warning] min_data_in_leaf is set=2500, min_child_samples=20 will be ignored. Current value: min_data_in_leaf=2500\n",
      "[LightGBM] [Warning] lambda_l2 is set=95.0, reg_lambda=0.0 will be ignored. Current value: lambda_l2=95.0\n",
      "[LightGBM] [Warning] feature_fraction is set=0.5, colsample_bytree=1.0 will be ignored. Current value: feature_fraction=0.5\n",
      "[LightGBM] [Warning] bagging_fraction is set=0.7, subsample=1.0 will be ignored. Current value: bagging_fraction=0.7\n",
      "[LightGBM] [Warning] min_gain_to_split is set=8.578008960921363, min_split_gain=0.0 will be ignored. Current value: min_gain_to_split=8.578008960921363\n",
      "[LightGBM] [Warning] lambda_l1 is set=100.0, reg_alpha=0.0 will be ignored. Current value: lambda_l1=100.0\n"
     ]
    },
    {
     "name": "stderr",
     "output_type": "stream",
     "text": [
      "[I 2024-01-16 17:11:59,248] Trial 11 finished with value: 1.2333395688000755e+18 and parameters: {'n_estimators': 800, 'lambda_l1': 100.0, 'lambda_l2': 95.0, 'num_leaves': 7550, 'min_data_in_leaf': 2500, 'max_bin': 284, 'feature_fraction': 0.5, 'bagging_fraction': 0.7, 'bagging_freq': 7, 'min_gain_to_split': 8.578008960921363, 'max_depth': 12, 'learning_rate': 0.22}. Best is trial 8 with value: 1.222838626674225e+18.\n"
     ]
    },
    {
     "name": "stdout",
     "output_type": "stream",
     "text": [
      "[LightGBM] [Warning] bagging_freq is set=4, subsample_freq=0 will be ignored. Current value: bagging_freq=4\n",
      "[LightGBM] [Warning] min_data_in_leaf is set=1800, min_child_samples=20 will be ignored. Current value: min_data_in_leaf=1800\n",
      "[LightGBM] [Warning] lambda_l2 is set=30.0, reg_lambda=0.0 will be ignored. Current value: lambda_l2=30.0\n",
      "[LightGBM] [Warning] feature_fraction is set=0.6000000000000001, colsample_bytree=1.0 will be ignored. Current value: feature_fraction=0.6000000000000001\n",
      "[LightGBM] [Warning] bagging_fraction is set=0.8, subsample=1.0 will be ignored. Current value: bagging_fraction=0.8\n",
      "[LightGBM] [Warning] min_gain_to_split is set=14.848668512493752, min_split_gain=0.0 will be ignored. Current value: min_gain_to_split=14.848668512493752\n",
      "[LightGBM] [Warning] lambda_l1 is set=100.0, reg_alpha=0.0 will be ignored. Current value: lambda_l1=100.0\n"
     ]
    },
    {
     "name": "stderr",
     "output_type": "stream",
     "text": [
      "[I 2024-01-16 17:11:59,840] Trial 12 finished with value: 1.2254133082239288e+18 and parameters: {'n_estimators': 700, 'lambda_l1': 100.0, 'lambda_l2': 30.0, 'num_leaves': 7700, 'min_data_in_leaf': 1800, 'max_bin': 282, 'feature_fraction': 0.6000000000000001, 'bagging_fraction': 0.8, 'bagging_freq': 4, 'min_gain_to_split': 14.848668512493752, 'max_depth': 10, 'learning_rate': 0.09}. Best is trial 8 with value: 1.222838626674225e+18.\n"
     ]
    },
    {
     "name": "stdout",
     "output_type": "stream",
     "text": [
      "[LightGBM] [Warning] bagging_freq is set=4, subsample_freq=0 will be ignored. Current value: bagging_freq=4\n",
      "[LightGBM] [Warning] min_data_in_leaf is set=4300, min_child_samples=20 will be ignored. Current value: min_data_in_leaf=4300\n",
      "[LightGBM] [Warning] lambda_l2 is set=30.0, reg_lambda=0.0 will be ignored. Current value: lambda_l2=30.0\n",
      "[LightGBM] [Warning] feature_fraction is set=0.5, colsample_bytree=1.0 will be ignored. Current value: feature_fraction=0.5\n",
      "[LightGBM] [Warning] bagging_fraction is set=0.8, subsample=1.0 will be ignored. Current value: bagging_fraction=0.8\n",
      "[LightGBM] [Warning] min_gain_to_split is set=14.98364991571511, min_split_gain=0.0 will be ignored. Current value: min_gain_to_split=14.98364991571511\n",
      "[LightGBM] [Warning] lambda_l1 is set=75.0, reg_alpha=0.0 will be ignored. Current value: lambda_l1=75.0\n"
     ]
    },
    {
     "name": "stderr",
     "output_type": "stream",
     "text": [
      "[I 2024-01-16 17:12:00,300] Trial 13 finished with value: 1.2283279480727562e+18 and parameters: {'n_estimators': 800, 'lambda_l1': 75.0, 'lambda_l2': 30.0, 'num_leaves': 8050, 'min_data_in_leaf': 4300, 'max_bin': 281, 'feature_fraction': 0.5, 'bagging_fraction': 0.8, 'bagging_freq': 4, 'min_gain_to_split': 14.98364991571511, 'max_depth': 11, 'learning_rate': 0.02}. Best is trial 8 with value: 1.222838626674225e+18.\n"
     ]
    },
    {
     "name": "stdout",
     "output_type": "stream",
     "text": [
      "[LightGBM] [Warning] bagging_freq is set=5, subsample_freq=0 will be ignored. Current value: bagging_freq=5\n",
      "[LightGBM] [Warning] min_data_in_leaf is set=1600, min_child_samples=20 will be ignored. Current value: min_data_in_leaf=1600\n",
      "[LightGBM] [Warning] lambda_l2 is set=25.0, reg_lambda=0.0 will be ignored. Current value: lambda_l2=25.0\n",
      "[LightGBM] [Warning] feature_fraction is set=0.8, colsample_bytree=1.0 will be ignored. Current value: feature_fraction=0.8\n",
      "[LightGBM] [Warning] bagging_fraction is set=1.0, subsample=1.0 will be ignored. Current value: bagging_fraction=1.0\n",
      "[LightGBM] [Warning] min_gain_to_split is set=12.951031826069752, min_split_gain=0.0 will be ignored. Current value: min_gain_to_split=12.951031826069752\n",
      "[LightGBM] [Warning] lambda_l1 is set=80.0, reg_alpha=0.0 will be ignored. Current value: lambda_l1=80.0\n"
     ]
    },
    {
     "name": "stderr",
     "output_type": "stream",
     "text": [
      "[I 2024-01-16 17:12:01,031] Trial 14 finished with value: 1.2346600045533524e+18 and parameters: {'n_estimators': 1000, 'lambda_l1': 80.0, 'lambda_l2': 25.0, 'num_leaves': 7900, 'min_data_in_leaf': 1600, 'max_bin': 277, 'feature_fraction': 0.8, 'bagging_fraction': 1.0, 'bagging_freq': 5, 'min_gain_to_split': 12.951031826069752, 'max_depth': 12, 'learning_rate': 0.16}. Best is trial 8 with value: 1.222838626674225e+18.\n"
     ]
    },
    {
     "name": "stdout",
     "output_type": "stream",
     "text": [
      "[LightGBM] [Warning] bagging_freq is set=4, subsample_freq=0 will be ignored. Current value: bagging_freq=4\n",
      "[LightGBM] [Warning] min_data_in_leaf is set=6800, min_child_samples=20 will be ignored. Current value: min_data_in_leaf=6800\n",
      "[LightGBM] [Warning] lambda_l2 is set=45.0, reg_lambda=0.0 will be ignored. Current value: lambda_l2=45.0\n",
      "[LightGBM] [Warning] feature_fraction is set=0.3, colsample_bytree=1.0 will be ignored. Current value: feature_fraction=0.3\n",
      "[LightGBM] [Warning] bagging_fraction is set=0.8, subsample=1.0 will be ignored. Current value: bagging_fraction=0.8\n",
      "[LightGBM] [Warning] min_gain_to_split is set=14.590812358582665, min_split_gain=0.0 will be ignored. Current value: min_gain_to_split=14.590812358582665\n",
      "[LightGBM] [Warning] lambda_l1 is set=35.0, reg_alpha=0.0 will be ignored. Current value: lambda_l1=35.0\n"
     ]
    },
    {
     "name": "stderr",
     "output_type": "stream",
     "text": [
      "[I 2024-01-16 17:12:01,421] Trial 15 finished with value: 1.231482545895004e+18 and parameters: {'n_estimators': 700, 'lambda_l1': 35.0, 'lambda_l2': 45.0, 'num_leaves': 10000, 'min_data_in_leaf': 6800, 'max_bin': 243, 'feature_fraction': 0.3, 'bagging_fraction': 0.8, 'bagging_freq': 4, 'min_gain_to_split': 14.590812358582665, 'max_depth': 10, 'learning_rate': 0.060000000000000005}. Best is trial 8 with value: 1.222838626674225e+18.\n"
     ]
    },
    {
     "name": "stdout",
     "output_type": "stream",
     "text": [
      "[LightGBM] [Warning] bagging_freq is set=6, subsample_freq=0 will be ignored. Current value: bagging_freq=6\n",
      "[LightGBM] [Warning] min_data_in_leaf is set=4400, min_child_samples=20 will be ignored. Current value: min_data_in_leaf=4400\n",
      "[LightGBM] [Warning] lambda_l2 is set=15.0, reg_lambda=0.0 will be ignored. Current value: lambda_l2=15.0\n",
      "[LightGBM] [Warning] feature_fraction is set=0.6000000000000001, colsample_bytree=1.0 will be ignored. Current value: feature_fraction=0.6000000000000001\n",
      "[LightGBM] [Warning] bagging_fraction is set=0.9000000000000001, subsample=1.0 will be ignored. Current value: bagging_fraction=0.9000000000000001\n",
      "[LightGBM] [Warning] min_gain_to_split is set=9.607775655903453, min_split_gain=0.0 will be ignored. Current value: min_gain_to_split=9.607775655903453\n",
      "[LightGBM] [Warning] lambda_l1 is set=65.0, reg_alpha=0.0 will be ignored. Current value: lambda_l1=65.0\n"
     ]
    },
    {
     "name": "stderr",
     "output_type": "stream",
     "text": [
      "[I 2024-01-16 17:12:01,833] Trial 16 finished with value: 1.230849061264669e+18 and parameters: {'n_estimators': 700, 'lambda_l1': 65.0, 'lambda_l2': 15.0, 'num_leaves': 6800, 'min_data_in_leaf': 4400, 'max_bin': 285, 'feature_fraction': 0.6000000000000001, 'bagging_fraction': 0.9000000000000001, 'bagging_freq': 6, 'min_gain_to_split': 9.607775655903453, 'max_depth': 9, 'learning_rate': 0.22}. Best is trial 8 with value: 1.222838626674225e+18.\n"
     ]
    },
    {
     "name": "stdout",
     "output_type": "stream",
     "text": [
      "[LightGBM] [Warning] bagging_freq is set=6, subsample_freq=0 will be ignored. Current value: bagging_freq=6\n",
      "[LightGBM] [Warning] min_data_in_leaf is set=1300, min_child_samples=20 will be ignored. Current value: min_data_in_leaf=1300\n",
      "[LightGBM] [Warning] lambda_l2 is set=0.0, reg_lambda=0.0 will be ignored. Current value: lambda_l2=0.0\n",
      "[LightGBM] [Warning] feature_fraction is set=0.8, colsample_bytree=1.0 will be ignored. Current value: feature_fraction=0.8\n",
      "[LightGBM] [Warning] bagging_fraction is set=0.8, subsample=1.0 will be ignored. Current value: bagging_fraction=0.8\n",
      "[LightGBM] [Warning] min_gain_to_split is set=5.920574865433164, min_split_gain=0.0 will be ignored. Current value: min_gain_to_split=5.920574865433164\n",
      "[LightGBM] [Warning] lambda_l1 is set=90.0, reg_alpha=0.0 will be ignored. Current value: lambda_l1=90.0\n"
     ]
    },
    {
     "name": "stderr",
     "output_type": "stream",
     "text": [
      "[I 2024-01-16 17:12:02,603] Trial 17 finished with value: 1.2262137902083039e+18 and parameters: {'n_estimators': 1000, 'lambda_l1': 90.0, 'lambda_l2': 0.0, 'num_leaves': 8800, 'min_data_in_leaf': 1300, 'max_bin': 273, 'feature_fraction': 0.8, 'bagging_fraction': 0.8, 'bagging_freq': 6, 'min_gain_to_split': 5.920574865433164, 'max_depth': 15, 'learning_rate': 0.25}. Best is trial 8 with value: 1.222838626674225e+18.\n"
     ]
    },
    {
     "name": "stdout",
     "output_type": "stream",
     "text": [
      "[LightGBM] [Warning] bagging_freq is set=3, subsample_freq=0 will be ignored. Current value: bagging_freq=3\n",
      "[LightGBM] [Warning] min_data_in_leaf is set=3500, min_child_samples=20 will be ignored. Current value: min_data_in_leaf=3500\n",
      "[LightGBM] [Warning] lambda_l2 is set=40.0, reg_lambda=0.0 will be ignored. Current value: lambda_l2=40.0\n",
      "[LightGBM] [Warning] feature_fraction is set=0.4, colsample_bytree=1.0 will be ignored. Current value: feature_fraction=0.4\n",
      "[LightGBM] [Warning] bagging_fraction is set=0.9000000000000001, subsample=1.0 will be ignored. Current value: bagging_fraction=0.9000000000000001\n",
      "[LightGBM] [Warning] min_gain_to_split is set=12.919323497505275, min_split_gain=0.0 will be ignored. Current value: min_gain_to_split=12.919323497505275\n",
      "[LightGBM] [Warning] lambda_l1 is set=40.0, reg_alpha=0.0 will be ignored. Current value: lambda_l1=40.0\n"
     ]
    },
    {
     "name": "stderr",
     "output_type": "stream",
     "text": [
      "[I 2024-01-16 17:12:03,030] Trial 18 finished with value: 1.2391806471649743e+18 and parameters: {'n_estimators': 500, 'lambda_l1': 40.0, 'lambda_l2': 40.0, 'num_leaves': 1450, 'min_data_in_leaf': 3500, 'max_bin': 257, 'feature_fraction': 0.4, 'bagging_fraction': 0.9000000000000001, 'bagging_freq': 3, 'min_gain_to_split': 12.919323497505275, 'max_depth': 4, 'learning_rate': 0.14}. Best is trial 8 with value: 1.222838626674225e+18.\n"
     ]
    },
    {
     "name": "stdout",
     "output_type": "stream",
     "text": [
      "[LightGBM] [Warning] bagging_freq is set=4, subsample_freq=0 will be ignored. Current value: bagging_freq=4\n",
      "[LightGBM] [Warning] min_data_in_leaf is set=2400, min_child_samples=20 will be ignored. Current value: min_data_in_leaf=2400\n",
      "[LightGBM] [Warning] lambda_l2 is set=70.0, reg_lambda=0.0 will be ignored. Current value: lambda_l2=70.0\n",
      "[LightGBM] [Warning] feature_fraction is set=0.7, colsample_bytree=1.0 will be ignored. Current value: feature_fraction=0.7\n",
      "[LightGBM] [Warning] bagging_fraction is set=0.7, subsample=1.0 will be ignored. Current value: bagging_fraction=0.7\n",
      "[LightGBM] [Warning] min_gain_to_split is set=6.845272781965525, min_split_gain=0.0 will be ignored. Current value: min_gain_to_split=6.845272781965525\n",
      "[LightGBM] [Warning] lambda_l1 is set=60.0, reg_alpha=0.0 will be ignored. Current value: lambda_l1=60.0\n"
     ]
    },
    {
     "name": "stderr",
     "output_type": "stream",
     "text": [
      "[I 2024-01-16 17:12:03,487] Trial 19 finished with value: 1.2456036780907528e+18 and parameters: {'n_estimators': 800, 'lambda_l1': 60.0, 'lambda_l2': 70.0, 'num_leaves': 7100, 'min_data_in_leaf': 2400, 'max_bin': 243, 'feature_fraction': 0.7, 'bagging_fraction': 0.7, 'bagging_freq': 4, 'min_gain_to_split': 6.845272781965525, 'max_depth': 12, 'learning_rate': 0.19}. Best is trial 8 with value: 1.222838626674225e+18.\n"
     ]
    },
    {
     "name": "stdout",
     "output_type": "stream",
     "text": [
      "[LightGBM] [Warning] bagging_freq is set=5, subsample_freq=0 will be ignored. Current value: bagging_freq=5\n",
      "[LightGBM] [Warning] min_data_in_leaf is set=500, min_child_samples=20 will be ignored. Current value: min_data_in_leaf=500\n",
      "[LightGBM] [Warning] lambda_l2 is set=20.0, reg_lambda=0.0 will be ignored. Current value: lambda_l2=20.0\n",
      "[LightGBM] [Warning] feature_fraction is set=0.4, colsample_bytree=1.0 will be ignored. Current value: feature_fraction=0.4\n",
      "[LightGBM] [Warning] bagging_fraction is set=0.6000000000000001, subsample=1.0 will be ignored. Current value: bagging_fraction=0.6000000000000001\n",
      "[LightGBM] [Warning] min_gain_to_split is set=4.239155279348552, min_split_gain=0.0 will be ignored. Current value: min_gain_to_split=4.239155279348552\n",
      "[LightGBM] [Warning] lambda_l1 is set=15.0, reg_alpha=0.0 will be ignored. Current value: lambda_l1=15.0\n"
     ]
    },
    {
     "name": "stderr",
     "output_type": "stream",
     "text": [
      "[I 2024-01-16 17:12:03,989] Trial 20 finished with value: 1.232375660516728e+18 and parameters: {'n_estimators': 700, 'lambda_l1': 15.0, 'lambda_l2': 20.0, 'num_leaves': 8900, 'min_data_in_leaf': 500, 'max_bin': 292, 'feature_fraction': 0.4, 'bagging_fraction': 0.6000000000000001, 'bagging_freq': 5, 'min_gain_to_split': 4.239155279348552, 'max_depth': 8, 'learning_rate': 0.08}. Best is trial 8 with value: 1.222838626674225e+18.\n"
     ]
    },
    {
     "name": "stdout",
     "output_type": "stream",
     "text": [
      "[LightGBM] [Warning] bagging_freq is set=6, subsample_freq=0 will be ignored. Current value: bagging_freq=6\n",
      "[LightGBM] [Warning] min_data_in_leaf is set=1100, min_child_samples=20 will be ignored. Current value: min_data_in_leaf=1100\n",
      "[LightGBM] [Warning] lambda_l2 is set=0.0, reg_lambda=0.0 will be ignored. Current value: lambda_l2=0.0\n",
      "[LightGBM] [Warning] feature_fraction is set=0.8, colsample_bytree=1.0 will be ignored. Current value: feature_fraction=0.8\n",
      "[LightGBM] [Warning] bagging_fraction is set=0.8, subsample=1.0 will be ignored. Current value: bagging_fraction=0.8\n",
      "[LightGBM] [Warning] min_gain_to_split is set=5.970564173457857, min_split_gain=0.0 will be ignored. Current value: min_gain_to_split=5.970564173457857\n",
      "[LightGBM] [Warning] lambda_l1 is set=90.0, reg_alpha=0.0 will be ignored. Current value: lambda_l1=90.0\n"
     ]
    },
    {
     "name": "stderr",
     "output_type": "stream",
     "text": [
      "[I 2024-01-16 17:12:04,646] Trial 21 finished with value: 1.2296213340581015e+18 and parameters: {'n_estimators': 1000, 'lambda_l1': 90.0, 'lambda_l2': 0.0, 'num_leaves': 8500, 'min_data_in_leaf': 1100, 'max_bin': 272, 'feature_fraction': 0.8, 'bagging_fraction': 0.8, 'bagging_freq': 6, 'min_gain_to_split': 5.970564173457857, 'max_depth': 15, 'learning_rate': 0.25}. Best is trial 8 with value: 1.222838626674225e+18.\n"
     ]
    },
    {
     "name": "stdout",
     "output_type": "stream",
     "text": [
      "[LightGBM] [Warning] bagging_freq is set=6, subsample_freq=0 will be ignored. Current value: bagging_freq=6\n",
      "[LightGBM] [Warning] min_data_in_leaf is set=1400, min_child_samples=20 will be ignored. Current value: min_data_in_leaf=1400\n",
      "[LightGBM] [Warning] lambda_l2 is set=5.0, reg_lambda=0.0 will be ignored. Current value: lambda_l2=5.0\n",
      "[LightGBM] [Warning] feature_fraction is set=0.9000000000000001, colsample_bytree=1.0 will be ignored. Current value: feature_fraction=0.9000000000000001\n",
      "[LightGBM] [Warning] bagging_fraction is set=0.8, subsample=1.0 will be ignored. Current value: bagging_fraction=0.8\n",
      "[LightGBM] [Warning] min_gain_to_split is set=9.76610937651104, min_split_gain=0.0 will be ignored. Current value: min_gain_to_split=9.76610937651104\n",
      "[LightGBM] [Warning] lambda_l1 is set=90.0, reg_alpha=0.0 will be ignored. Current value: lambda_l1=90.0\n"
     ]
    },
    {
     "name": "stderr",
     "output_type": "stream",
     "text": [
      "[I 2024-01-16 17:12:05,384] Trial 22 finished with value: 1.2291154604595955e+18 and parameters: {'n_estimators': 900, 'lambda_l1': 90.0, 'lambda_l2': 5.0, 'num_leaves': 9150, 'min_data_in_leaf': 1400, 'max_bin': 274, 'feature_fraction': 0.9000000000000001, 'bagging_fraction': 0.8, 'bagging_freq': 6, 'min_gain_to_split': 9.76610937651104, 'max_depth': 13, 'learning_rate': 0.3}. Best is trial 8 with value: 1.222838626674225e+18.\n"
     ]
    },
    {
     "name": "stdout",
     "output_type": "stream",
     "text": [
      "[LightGBM] [Warning] bagging_freq is set=7, subsample_freq=0 will be ignored. Current value: bagging_freq=7\n",
      "[LightGBM] [Warning] min_data_in_leaf is set=2300, min_child_samples=20 will be ignored. Current value: min_data_in_leaf=2300\n",
      "[LightGBM] [Warning] lambda_l2 is set=50.0, reg_lambda=0.0 will be ignored. Current value: lambda_l2=50.0\n",
      "[LightGBM] [Warning] feature_fraction is set=0.7, colsample_bytree=1.0 will be ignored. Current value: feature_fraction=0.7\n",
      "[LightGBM] [Warning] bagging_fraction is set=0.9000000000000001, subsample=1.0 will be ignored. Current value: bagging_fraction=0.9000000000000001\n",
      "[LightGBM] [Warning] min_gain_to_split is set=6.901470147301253, min_split_gain=0.0 will be ignored. Current value: min_gain_to_split=6.901470147301253\n",
      "[LightGBM] [Warning] lambda_l1 is set=90.0, reg_alpha=0.0 will be ignored. Current value: lambda_l1=90.0\n"
     ]
    },
    {
     "name": "stderr",
     "output_type": "stream",
     "text": [
      "[I 2024-01-16 17:12:05,929] Trial 23 finished with value: 1.2539961668575923e+18 and parameters: {'n_estimators': 900, 'lambda_l1': 90.0, 'lambda_l2': 50.0, 'num_leaves': 6050, 'min_data_in_leaf': 2300, 'max_bin': 288, 'feature_fraction': 0.7, 'bagging_fraction': 0.9000000000000001, 'bagging_freq': 7, 'min_gain_to_split': 6.901470147301253, 'max_depth': 15, 'learning_rate': 0.25}. Best is trial 8 with value: 1.222838626674225e+18.\n"
     ]
    },
    {
     "name": "stdout",
     "output_type": "stream",
     "text": [
      "[LightGBM] [Warning] bagging_freq is set=5, subsample_freq=0 will be ignored. Current value: bagging_freq=5\n",
      "[LightGBM] [Warning] min_data_in_leaf is set=200, min_child_samples=20 will be ignored. Current value: min_data_in_leaf=200\n",
      "[LightGBM] [Warning] lambda_l2 is set=30.0, reg_lambda=0.0 will be ignored. Current value: lambda_l2=30.0\n",
      "[LightGBM] [Warning] feature_fraction is set=0.6000000000000001, colsample_bytree=1.0 will be ignored. Current value: feature_fraction=0.6000000000000001\n",
      "[LightGBM] [Warning] bagging_fraction is set=1.0, subsample=1.0 will be ignored. Current value: bagging_fraction=1.0\n",
      "[LightGBM] [Warning] min_gain_to_split is set=4.494721769375809, min_split_gain=0.0 will be ignored. Current value: min_gain_to_split=4.494721769375809\n",
      "[LightGBM] [Warning] lambda_l1 is set=70.0, reg_alpha=0.0 will be ignored. Current value: lambda_l1=70.0\n"
     ]
    },
    {
     "name": "stderr",
     "output_type": "stream",
     "text": [
      "[I 2024-01-16 17:12:06,548] Trial 24 finished with value: 1.2732914666829174e+18 and parameters: {'n_estimators': 600, 'lambda_l1': 70.0, 'lambda_l2': 30.0, 'num_leaves': 7850, 'min_data_in_leaf': 200, 'max_bin': 271, 'feature_fraction': 0.6000000000000001, 'bagging_fraction': 1.0, 'bagging_freq': 5, 'min_gain_to_split': 4.494721769375809, 'max_depth': 10, 'learning_rate': 0.27}. Best is trial 8 with value: 1.222838626674225e+18.\n"
     ]
    },
    {
     "name": "stdout",
     "output_type": "stream",
     "text": [
      "[LightGBM] [Warning] bagging_freq is set=6, subsample_freq=0 will be ignored. Current value: bagging_freq=6\n",
      "[LightGBM] [Warning] min_data_in_leaf is set=4200, min_child_samples=20 will be ignored. Current value: min_data_in_leaf=4200\n",
      "[LightGBM] [Warning] lambda_l2 is set=10.0, reg_lambda=0.0 will be ignored. Current value: lambda_l2=10.0\n",
      "[LightGBM] [Warning] feature_fraction is set=0.9000000000000001, colsample_bytree=1.0 will be ignored. Current value: feature_fraction=0.9000000000000001\n",
      "[LightGBM] [Warning] bagging_fraction is set=0.6000000000000001, subsample=1.0 will be ignored. Current value: bagging_fraction=0.6000000000000001\n",
      "[LightGBM] [Warning] min_gain_to_split is set=8.477953425619212, min_split_gain=0.0 will be ignored. Current value: min_gain_to_split=8.477953425619212\n",
      "[LightGBM] [Warning] lambda_l1 is set=85.0, reg_alpha=0.0 will be ignored. Current value: lambda_l1=85.0\n"
     ]
    },
    {
     "name": "stderr",
     "output_type": "stream",
     "text": [
      "[I 2024-01-16 17:12:07,004] Trial 25 finished with value: 1.257251298390889e+18 and parameters: {'n_estimators': 1000, 'lambda_l1': 85.0, 'lambda_l2': 10.0, 'num_leaves': 9400, 'min_data_in_leaf': 4200, 'max_bin': 290, 'feature_fraction': 0.9000000000000001, 'bagging_fraction': 0.6000000000000001, 'bagging_freq': 6, 'min_gain_to_split': 8.477953425619212, 'max_depth': 11, 'learning_rate': 0.24000000000000002}. Best is trial 8 with value: 1.222838626674225e+18.\n"
     ]
    },
    {
     "name": "stdout",
     "output_type": "stream",
     "text": [
      "[LightGBM] [Warning] bagging_freq is set=7, subsample_freq=0 will be ignored. Current value: bagging_freq=7\n",
      "[LightGBM] [Warning] min_data_in_leaf is set=1400, min_child_samples=20 will be ignored. Current value: min_data_in_leaf=1400\n",
      "[LightGBM] [Warning] lambda_l2 is set=35.0, reg_lambda=0.0 will be ignored. Current value: lambda_l2=35.0\n",
      "[LightGBM] [Warning] feature_fraction is set=0.8, colsample_bytree=1.0 will be ignored. Current value: feature_fraction=0.8\n",
      "[LightGBM] [Warning] bagging_fraction is set=0.8, subsample=1.0 will be ignored. Current value: bagging_fraction=0.8\n",
      "[LightGBM] [Warning] min_gain_to_split is set=10.977003244128586, min_split_gain=0.0 will be ignored. Current value: min_gain_to_split=10.977003244128586\n",
      "[LightGBM] [Warning] lambda_l1 is set=100.0, reg_alpha=0.0 will be ignored. Current value: lambda_l1=100.0\n"
     ]
    },
    {
     "name": "stderr",
     "output_type": "stream",
     "text": [
      "[I 2024-01-16 17:12:07,449] Trial 26 finished with value: 1.2267601717193367e+18 and parameters: {'n_estimators': 700, 'lambda_l1': 100.0, 'lambda_l2': 35.0, 'num_leaves': 8550, 'min_data_in_leaf': 1400, 'max_bin': 279, 'feature_fraction': 0.8, 'bagging_fraction': 0.8, 'bagging_freq': 7, 'min_gain_to_split': 10.977003244128586, 'max_depth': 6, 'learning_rate': 0.17}. Best is trial 8 with value: 1.222838626674225e+18.\n"
     ]
    },
    {
     "name": "stdout",
     "output_type": "stream",
     "text": [
      "[LightGBM] [Warning] bagging_freq is set=4, subsample_freq=0 will be ignored. Current value: bagging_freq=4\n",
      "[LightGBM] [Warning] min_data_in_leaf is set=2800, min_child_samples=20 will be ignored. Current value: min_data_in_leaf=2800\n",
      "[LightGBM] [Warning] lambda_l2 is set=20.0, reg_lambda=0.0 will be ignored. Current value: lambda_l2=20.0\n",
      "[LightGBM] [Warning] feature_fraction is set=0.5, colsample_bytree=1.0 will be ignored. Current value: feature_fraction=0.5\n",
      "[LightGBM] [Warning] bagging_fraction is set=0.9000000000000001, subsample=1.0 will be ignored. Current value: bagging_fraction=0.9000000000000001\n",
      "[LightGBM] [Warning] min_gain_to_split is set=0.02087354132745034, min_split_gain=0.0 will be ignored. Current value: min_gain_to_split=0.02087354132745034\n",
      "[LightGBM] [Warning] lambda_l1 is set=95.0, reg_alpha=0.0 will be ignored. Current value: lambda_l1=95.0\n"
     ]
    },
    {
     "name": "stderr",
     "output_type": "stream",
     "text": [
      "[I 2024-01-16 17:12:07,953] Trial 27 finished with value: 1.231461955721233e+18 and parameters: {'n_estimators': 800, 'lambda_l1': 95.0, 'lambda_l2': 20.0, 'num_leaves': 7500, 'min_data_in_leaf': 2800, 'max_bin': 260, 'feature_fraction': 0.5, 'bagging_fraction': 0.9000000000000001, 'bagging_freq': 4, 'min_gain_to_split': 0.02087354132745034, 'max_depth': 13, 'learning_rate': 0.2}. Best is trial 8 with value: 1.222838626674225e+18.\n"
     ]
    },
    {
     "name": "stdout",
     "output_type": "stream",
     "text": [
      "[LightGBM] [Warning] bagging_freq is set=2, subsample_freq=0 will be ignored. Current value: bagging_freq=2\n",
      "[LightGBM] [Warning] min_data_in_leaf is set=3700, min_child_samples=20 will be ignored. Current value: min_data_in_leaf=3700\n",
      "[LightGBM] [Warning] lambda_l2 is set=55.0, reg_lambda=0.0 will be ignored. Current value: lambda_l2=55.0\n",
      "[LightGBM] [Warning] feature_fraction is set=1.0, colsample_bytree=1.0 will be ignored. Current value: feature_fraction=1.0\n",
      "[LightGBM] [Warning] bagging_fraction is set=0.7, subsample=1.0 will be ignored. Current value: bagging_fraction=0.7\n",
      "[LightGBM] [Warning] min_gain_to_split is set=13.685211348884796, min_split_gain=0.0 will be ignored. Current value: min_gain_to_split=13.685211348884796\n",
      "[LightGBM] [Warning] lambda_l1 is set=80.0, reg_alpha=0.0 will be ignored. Current value: lambda_l1=80.0\n"
     ]
    },
    {
     "name": "stderr",
     "output_type": "stream",
     "text": [
      "[I 2024-01-16 17:12:08,374] Trial 28 finished with value: 1.2325293782920978e+18 and parameters: {'n_estimators': 500, 'lambda_l1': 80.0, 'lambda_l2': 55.0, 'num_leaves': 5500, 'min_data_in_leaf': 3700, 'max_bin': 269, 'feature_fraction': 1.0, 'bagging_fraction': 0.7, 'bagging_freq': 2, 'min_gain_to_split': 13.685211348884796, 'max_depth': 9, 'learning_rate': 0.04}. Best is trial 8 with value: 1.222838626674225e+18.\n"
     ]
    },
    {
     "name": "stdout",
     "output_type": "stream",
     "text": [
      "[LightGBM] [Warning] bagging_freq is set=5, subsample_freq=0 will be ignored. Current value: bagging_freq=5\n",
      "[LightGBM] [Warning] min_data_in_leaf is set=6600, min_child_samples=20 will be ignored. Current value: min_data_in_leaf=6600\n",
      "[LightGBM] [Warning] lambda_l2 is set=45.0, reg_lambda=0.0 will be ignored. Current value: lambda_l2=45.0\n",
      "[LightGBM] [Warning] feature_fraction is set=0.6000000000000001, colsample_bytree=1.0 will be ignored. Current value: feature_fraction=0.6000000000000001\n",
      "[LightGBM] [Warning] bagging_fraction is set=1.0, subsample=1.0 will be ignored. Current value: bagging_fraction=1.0\n",
      "[LightGBM] [Warning] min_gain_to_split is set=3.209732354039823, min_split_gain=0.0 will be ignored. Current value: min_gain_to_split=3.209732354039823\n",
      "[LightGBM] [Warning] lambda_l1 is set=60.0, reg_alpha=0.0 will be ignored. Current value: lambda_l1=60.0\n"
     ]
    },
    {
     "name": "stderr",
     "output_type": "stream",
     "text": [
      "[I 2024-01-16 17:12:08,770] Trial 29 finished with value: 1.2279063453207104e+18 and parameters: {'n_estimators': 400, 'lambda_l1': 60.0, 'lambda_l2': 45.0, 'num_leaves': 8400, 'min_data_in_leaf': 6600, 'max_bin': 254, 'feature_fraction': 0.6000000000000001, 'bagging_fraction': 1.0, 'bagging_freq': 5, 'min_gain_to_split': 3.209732354039823, 'max_depth': 6, 'learning_rate': 0.12}. Best is trial 8 with value: 1.222838626674225e+18.\n"
     ]
    },
    {
     "name": "stdout",
     "output_type": "stream",
     "text": [
      "[LightGBM] [Warning] bagging_freq is set=6, subsample_freq=0 will be ignored. Current value: bagging_freq=6\n",
      "[LightGBM] [Warning] min_data_in_leaf is set=4800, min_child_samples=20 will be ignored. Current value: min_data_in_leaf=4800\n",
      "[LightGBM] [Warning] lambda_l2 is set=70.0, reg_lambda=0.0 will be ignored. Current value: lambda_l2=70.0\n",
      "[LightGBM] [Warning] feature_fraction is set=0.7, colsample_bytree=1.0 will be ignored. Current value: feature_fraction=0.7\n",
      "[LightGBM] [Warning] bagging_fraction is set=0.8, subsample=1.0 will be ignored. Current value: bagging_fraction=0.8\n",
      "[LightGBM] [Warning] min_gain_to_split is set=10.619055497261662, min_split_gain=0.0 will be ignored. Current value: min_gain_to_split=10.619055497261662\n",
      "[LightGBM] [Warning] lambda_l1 is set=55.0, reg_alpha=0.0 will be ignored. Current value: lambda_l1=55.0\n"
     ]
    },
    {
     "name": "stderr",
     "output_type": "stream",
     "text": [
      "[I 2024-01-16 17:12:09,184] Trial 30 finished with value: 1.2460142526517266e+18 and parameters: {'n_estimators': 900, 'lambda_l1': 55.0, 'lambda_l2': 70.0, 'num_leaves': 7000, 'min_data_in_leaf': 4800, 'max_bin': 249, 'feature_fraction': 0.7, 'bagging_fraction': 0.8, 'bagging_freq': 6, 'min_gain_to_split': 10.619055497261662, 'max_depth': 8, 'learning_rate': 0.09}. Best is trial 8 with value: 1.222838626674225e+18.\n"
     ]
    },
    {
     "name": "stdout",
     "output_type": "stream",
     "text": [
      "[LightGBM] [Warning] bagging_freq is set=7, subsample_freq=0 will be ignored. Current value: bagging_freq=7\n",
      "[LightGBM] [Warning] min_data_in_leaf is set=1500, min_child_samples=20 will be ignored. Current value: min_data_in_leaf=1500\n",
      "[LightGBM] [Warning] lambda_l2 is set=35.0, reg_lambda=0.0 will be ignored. Current value: lambda_l2=35.0\n",
      "[LightGBM] [Warning] feature_fraction is set=0.8, colsample_bytree=1.0 will be ignored. Current value: feature_fraction=0.8\n",
      "[LightGBM] [Warning] bagging_fraction is set=0.8, subsample=1.0 will be ignored. Current value: bagging_fraction=0.8\n",
      "[LightGBM] [Warning] min_gain_to_split is set=9.119336457609506, min_split_gain=0.0 will be ignored. Current value: min_gain_to_split=9.119336457609506\n",
      "[LightGBM] [Warning] lambda_l1 is set=100.0, reg_alpha=0.0 will be ignored. Current value: lambda_l1=100.0\n"
     ]
    },
    {
     "name": "stderr",
     "output_type": "stream",
     "text": [
      "[I 2024-01-16 17:12:09,623] Trial 31 finished with value: 1.2349790465502292e+18 and parameters: {'n_estimators': 700, 'lambda_l1': 100.0, 'lambda_l2': 35.0, 'num_leaves': 8800, 'min_data_in_leaf': 1500, 'max_bin': 279, 'feature_fraction': 0.8, 'bagging_fraction': 0.8, 'bagging_freq': 7, 'min_gain_to_split': 9.119336457609506, 'max_depth': 5, 'learning_rate': 0.16}. Best is trial 8 with value: 1.222838626674225e+18.\n"
     ]
    },
    {
     "name": "stdout",
     "output_type": "stream",
     "text": [
      "[LightGBM] [Warning] bagging_freq is set=7, subsample_freq=0 will be ignored. Current value: bagging_freq=7\n",
      "[LightGBM] [Warning] min_data_in_leaf is set=5600, min_child_samples=20 will be ignored. Current value: min_data_in_leaf=5600\n",
      "[LightGBM] [Warning] lambda_l2 is set=40.0, reg_lambda=0.0 will be ignored. Current value: lambda_l2=40.0\n",
      "[LightGBM] [Warning] feature_fraction is set=0.8, colsample_bytree=1.0 will be ignored. Current value: feature_fraction=0.8\n",
      "[LightGBM] [Warning] bagging_fraction is set=0.7, subsample=1.0 will be ignored. Current value: bagging_fraction=0.7\n",
      "[LightGBM] [Warning] min_gain_to_split is set=11.275155071985028, min_split_gain=0.0 will be ignored. Current value: min_gain_to_split=11.275155071985028\n",
      "[LightGBM] [Warning] lambda_l1 is set=95.0, reg_alpha=0.0 will be ignored. Current value: lambda_l1=95.0\n"
     ]
    },
    {
     "name": "stderr",
     "output_type": "stream",
     "text": [
      "[I 2024-01-16 17:12:10,075] Trial 32 finished with value: 1.24879735558784e+18 and parameters: {'n_estimators': 700, 'lambda_l1': 95.0, 'lambda_l2': 40.0, 'num_leaves': 9450, 'min_data_in_leaf': 5600, 'max_bin': 281, 'feature_fraction': 0.8, 'bagging_fraction': 0.7, 'bagging_freq': 7, 'min_gain_to_split': 11.275155071985028, 'max_depth': 6, 'learning_rate': 0.18000000000000002}. Best is trial 8 with value: 1.222838626674225e+18.\n"
     ]
    },
    {
     "name": "stdout",
     "output_type": "stream",
     "text": [
      "[LightGBM] [Warning] bagging_freq is set=7, subsample_freq=0 will be ignored. Current value: bagging_freq=7\n",
      "[LightGBM] [Warning] min_data_in_leaf is set=1900, min_child_samples=20 will be ignored. Current value: min_data_in_leaf=1900\n",
      "[LightGBM] [Warning] lambda_l2 is set=50.0, reg_lambda=0.0 will be ignored. Current value: lambda_l2=50.0\n",
      "[LightGBM] [Warning] feature_fraction is set=0.9000000000000001, colsample_bytree=1.0 will be ignored. Current value: feature_fraction=0.9000000000000001\n",
      "[LightGBM] [Warning] bagging_fraction is set=0.9000000000000001, subsample=1.0 will be ignored. Current value: bagging_fraction=0.9000000000000001\n",
      "[LightGBM] [Warning] min_gain_to_split is set=7.41620469008012, min_split_gain=0.0 will be ignored. Current value: min_gain_to_split=7.41620469008012\n",
      "[LightGBM] [Warning] lambda_l1 is set=85.0, reg_alpha=0.0 will be ignored. Current value: lambda_l1=85.0\n"
     ]
    },
    {
     "name": "stderr",
     "output_type": "stream",
     "text": [
      "[I 2024-01-16 17:12:10,549] Trial 33 finished with value: 1.242508774023077e+18 and parameters: {'n_estimators': 600, 'lambda_l1': 85.0, 'lambda_l2': 50.0, 'num_leaves': 8400, 'min_data_in_leaf': 1900, 'max_bin': 292, 'feature_fraction': 0.9000000000000001, 'bagging_fraction': 0.9000000000000001, 'bagging_freq': 7, 'min_gain_to_split': 7.41620469008012, 'max_depth': 7, 'learning_rate': 0.23}. Best is trial 8 with value: 1.222838626674225e+18.\n"
     ]
    },
    {
     "name": "stdout",
     "output_type": "stream",
     "text": [
      "[LightGBM] [Warning] bagging_freq is set=6, subsample_freq=0 will be ignored. Current value: bagging_freq=6\n",
      "[LightGBM] [Warning] min_data_in_leaf is set=1000, min_child_samples=20 will be ignored. Current value: min_data_in_leaf=1000\n",
      "[LightGBM] [Warning] lambda_l2 is set=25.0, reg_lambda=0.0 will be ignored. Current value: lambda_l2=25.0\n",
      "[LightGBM] [Warning] feature_fraction is set=0.6000000000000001, colsample_bytree=1.0 will be ignored. Current value: feature_fraction=0.6000000000000001\n",
      "[LightGBM] [Warning] bagging_fraction is set=0.8, subsample=1.0 will be ignored. Current value: bagging_fraction=0.8\n",
      "[LightGBM] [Warning] min_gain_to_split is set=12.158634688009764, min_split_gain=0.0 will be ignored. Current value: min_gain_to_split=12.158634688009764\n",
      "[LightGBM] [Warning] lambda_l1 is set=25.0, reg_alpha=0.0 will be ignored. Current value: lambda_l1=25.0\n"
     ]
    },
    {
     "name": "stderr",
     "output_type": "stream",
     "text": [
      "[I 2024-01-16 17:12:10,981] Trial 34 finished with value: 1.2285518071527324e+18 and parameters: {'n_estimators': 800, 'lambda_l1': 25.0, 'lambda_l2': 25.0, 'num_leaves': 7400, 'min_data_in_leaf': 1000, 'max_bin': 275, 'feature_fraction': 0.6000000000000001, 'bagging_fraction': 0.8, 'bagging_freq': 6, 'min_gain_to_split': 12.158634688009764, 'max_depth': 4, 'learning_rate': 0.14}. Best is trial 8 with value: 1.222838626674225e+18.\n"
     ]
    },
    {
     "name": "stdout",
     "output_type": "stream",
     "text": [
      "[LightGBM] [Warning] bagging_freq is set=7, subsample_freq=0 will be ignored. Current value: bagging_freq=7\n",
      "[LightGBM] [Warning] min_data_in_leaf is set=2200, min_child_samples=20 will be ignored. Current value: min_data_in_leaf=2200\n",
      "[LightGBM] [Warning] lambda_l2 is set=0.0, reg_lambda=0.0 will be ignored. Current value: lambda_l2=0.0\n",
      "[LightGBM] [Warning] feature_fraction is set=0.7, colsample_bytree=1.0 will be ignored. Current value: feature_fraction=0.7\n",
      "[LightGBM] [Warning] bagging_fraction is set=0.6000000000000001, subsample=1.0 will be ignored. Current value: bagging_fraction=0.6000000000000001\n",
      "[LightGBM] [Warning] min_gain_to_split is set=10.349919957856788, min_split_gain=0.0 will be ignored. Current value: min_gain_to_split=10.349919957856788\n",
      "[LightGBM] [Warning] lambda_l1 is set=95.0, reg_alpha=0.0 will be ignored. Current value: lambda_l1=95.0\n"
     ]
    },
    {
     "name": "stderr",
     "output_type": "stream",
     "text": [
      "[I 2024-01-16 17:12:11,438] Trial 35 finished with value: 1.278563221901423e+18 and parameters: {'n_estimators': 600, 'lambda_l1': 95.0, 'lambda_l2': 0.0, 'num_leaves': 9050, 'min_data_in_leaf': 2200, 'max_bin': 265, 'feature_fraction': 0.7, 'bagging_fraction': 0.6000000000000001, 'bagging_freq': 7, 'min_gain_to_split': 10.349919957856788, 'max_depth': 11, 'learning_rate': 0.28}. Best is trial 8 with value: 1.222838626674225e+18.\n"
     ]
    },
    {
     "name": "stdout",
     "output_type": "stream",
     "text": [
      "[LightGBM] [Warning] bagging_freq is set=6, subsample_freq=0 will be ignored. Current value: bagging_freq=6\n",
      "[LightGBM] [Warning] min_data_in_leaf is set=7800, min_child_samples=20 will be ignored. Current value: min_data_in_leaf=7800\n",
      "[LightGBM] [Warning] lambda_l2 is set=65.0, reg_lambda=0.0 will be ignored. Current value: lambda_l2=65.0\n",
      "[LightGBM] [Warning] feature_fraction is set=0.8, colsample_bytree=1.0 will be ignored. Current value: feature_fraction=0.8\n",
      "[LightGBM] [Warning] bagging_fraction is set=0.9000000000000001, subsample=1.0 will be ignored. Current value: bagging_fraction=0.9000000000000001\n",
      "[LightGBM] [Warning] min_gain_to_split is set=5.884544633093014, min_split_gain=0.0 will be ignored. Current value: min_gain_to_split=5.884544633093014\n",
      "[LightGBM] [Warning] lambda_l1 is set=15.0, reg_alpha=0.0 will be ignored. Current value: lambda_l1=15.0\n"
     ]
    },
    {
     "name": "stderr",
     "output_type": "stream",
     "text": [
      "[I 2024-01-16 17:12:12,023] Trial 36 finished with value: 1.2337844463101064e+18 and parameters: {'n_estimators': 100, 'lambda_l1': 15.0, 'lambda_l2': 65.0, 'num_leaves': 8200, 'min_data_in_leaf': 7800, 'max_bin': 285, 'feature_fraction': 0.8, 'bagging_fraction': 0.9000000000000001, 'bagging_freq': 6, 'min_gain_to_split': 5.884544633093014, 'max_depth': 14, 'learning_rate': 0.05}. Best is trial 8 with value: 1.222838626674225e+18.\n"
     ]
    },
    {
     "name": "stdout",
     "output_type": "stream",
     "text": [
      "[LightGBM] [Warning] bagging_freq is set=3, subsample_freq=0 will be ignored. Current value: bagging_freq=3\n",
      "[LightGBM] [Warning] min_data_in_leaf is set=800, min_child_samples=20 will be ignored. Current value: min_data_in_leaf=800\n",
      "[LightGBM] [Warning] lambda_l2 is set=35.0, reg_lambda=0.0 will be ignored. Current value: lambda_l2=35.0\n",
      "[LightGBM] [Warning] feature_fraction is set=0.7, colsample_bytree=1.0 will be ignored. Current value: feature_fraction=0.7\n",
      "[LightGBM] [Warning] bagging_fraction is set=0.7, subsample=1.0 will be ignored. Current value: bagging_fraction=0.7\n",
      "[LightGBM] [Warning] min_gain_to_split is set=13.964717708555632, min_split_gain=0.0 will be ignored. Current value: min_gain_to_split=13.964717708555632\n",
      "[LightGBM] [Warning] lambda_l1 is set=35.0, reg_alpha=0.0 will be ignored. Current value: lambda_l1=35.0\n"
     ]
    },
    {
     "name": "stderr",
     "output_type": "stream",
     "text": [
      "[I 2024-01-16 17:12:12,509] Trial 37 finished with value: 1.2493699491257774e+18 and parameters: {'n_estimators': 400, 'lambda_l1': 35.0, 'lambda_l2': 35.0, 'num_leaves': 4400, 'min_data_in_leaf': 800, 'max_bin': 265, 'feature_fraction': 0.7, 'bagging_fraction': 0.7, 'bagging_freq': 3, 'min_gain_to_split': 13.964717708555632, 'max_depth': 7, 'learning_rate': 0.17}. Best is trial 8 with value: 1.222838626674225e+18.\n"
     ]
    },
    {
     "name": "stdout",
     "output_type": "stream",
     "text": [
      "[LightGBM] [Warning] bagging_freq is set=4, subsample_freq=0 will be ignored. Current value: bagging_freq=4\n",
      "[LightGBM] [Warning] min_data_in_leaf is set=2900, min_child_samples=20 will be ignored. Current value: min_data_in_leaf=2900\n",
      "[LightGBM] [Warning] lambda_l2 is set=10.0, reg_lambda=0.0 will be ignored. Current value: lambda_l2=10.0\n",
      "[LightGBM] [Warning] feature_fraction is set=0.8, colsample_bytree=1.0 will be ignored. Current value: feature_fraction=0.8\n",
      "[LightGBM] [Warning] bagging_fraction is set=0.8, subsample=1.0 will be ignored. Current value: bagging_fraction=0.8\n",
      "[LightGBM] [Warning] min_gain_to_split is set=12.059617577768055, min_split_gain=0.0 will be ignored. Current value: min_gain_to_split=12.059617577768055\n",
      "[LightGBM] [Warning] lambda_l1 is set=75.0, reg_alpha=0.0 will be ignored. Current value: lambda_l1=75.0\n"
     ]
    },
    {
     "name": "stderr",
     "output_type": "stream",
     "text": [
      "[I 2024-01-16 17:12:12,941] Trial 38 finished with value: 1.2354848502893612e+18 and parameters: {'n_estimators': 700, 'lambda_l1': 75.0, 'lambda_l2': 10.0, 'num_leaves': 6250, 'min_data_in_leaf': 2900, 'max_bin': 300, 'feature_fraction': 0.8, 'bagging_fraction': 0.8, 'bagging_freq': 4, 'min_gain_to_split': 12.059617577768055, 'max_depth': 8, 'learning_rate': 0.3}. Best is trial 8 with value: 1.222838626674225e+18.\n"
     ]
    },
    {
     "name": "stdout",
     "output_type": "stream",
     "text": [
      "[LightGBM] [Warning] bagging_freq is set=7, subsample_freq=0 will be ignored. Current value: bagging_freq=7\n",
      "[LightGBM] [Warning] min_data_in_leaf is set=1200, min_child_samples=20 will be ignored. Current value: min_data_in_leaf=1200\n",
      "[LightGBM] [Warning] lambda_l2 is set=60.0, reg_lambda=0.0 will be ignored. Current value: lambda_l2=60.0\n",
      "[LightGBM] [Warning] feature_fraction is set=0.6000000000000001, colsample_bytree=1.0 will be ignored. Current value: feature_fraction=0.6000000000000001\n",
      "[LightGBM] [Warning] bagging_fraction is set=0.9000000000000001, subsample=1.0 will be ignored. Current value: bagging_fraction=0.9000000000000001\n",
      "[LightGBM] [Warning] min_gain_to_split is set=11.134257105312132, min_split_gain=0.0 will be ignored. Current value: min_gain_to_split=11.134257105312132\n",
      "[LightGBM] [Warning] lambda_l1 is set=85.0, reg_alpha=0.0 will be ignored. Current value: lambda_l1=85.0\n"
     ]
    },
    {
     "name": "stderr",
     "output_type": "stream",
     "text": [
      "[I 2024-01-16 17:12:13,382] Trial 39 finished with value: 1.2317104713590467e+18 and parameters: {'n_estimators': 600, 'lambda_l1': 85.0, 'lambda_l2': 60.0, 'num_leaves': 9600, 'min_data_in_leaf': 1200, 'max_bin': 294, 'feature_fraction': 0.6000000000000001, 'bagging_fraction': 0.9000000000000001, 'bagging_freq': 7, 'min_gain_to_split': 11.134257105312132, 'max_depth': 5, 'learning_rate': 0.11}. Best is trial 8 with value: 1.222838626674225e+18.\n"
     ]
    },
    {
     "name": "stdout",
     "output_type": "stream",
     "text": [
      "[LightGBM] [Warning] bagging_freq is set=5, subsample_freq=0 will be ignored. Current value: bagging_freq=5\n",
      "[LightGBM] [Warning] min_data_in_leaf is set=600, min_child_samples=20 will be ignored. Current value: min_data_in_leaf=600\n",
      "[LightGBM] [Warning] lambda_l2 is set=45.0, reg_lambda=0.0 will be ignored. Current value: lambda_l2=45.0\n",
      "[LightGBM] [Warning] feature_fraction is set=0.5, colsample_bytree=1.0 will be ignored. Current value: feature_fraction=0.5\n",
      "[LightGBM] [Warning] bagging_fraction is set=0.7, subsample=1.0 will be ignored. Current value: bagging_fraction=0.7\n",
      "[LightGBM] [Warning] min_gain_to_split is set=5.086903268447956, min_split_gain=0.0 will be ignored. Current value: min_gain_to_split=5.086903268447956\n",
      "[LightGBM] [Warning] lambda_l1 is set=100.0, reg_alpha=0.0 will be ignored. Current value: lambda_l1=100.0\n"
     ]
    },
    {
     "name": "stderr",
     "output_type": "stream",
     "text": [
      "[I 2024-01-16 17:12:13,874] Trial 40 finished with value: 1.223790642247519e+18 and parameters: {'n_estimators': 900, 'lambda_l1': 100.0, 'lambda_l2': 45.0, 'num_leaves': 2850, 'min_data_in_leaf': 600, 'max_bin': 233, 'feature_fraction': 0.5, 'bagging_fraction': 0.7, 'bagging_freq': 5, 'min_gain_to_split': 5.086903268447956, 'max_depth': 9, 'learning_rate': 0.27}. Best is trial 8 with value: 1.222838626674225e+18.\n"
     ]
    },
    {
     "name": "stdout",
     "output_type": "stream",
     "text": [
      "[LightGBM] [Warning] bagging_freq is set=5, subsample_freq=0 will be ignored. Current value: bagging_freq=5\n",
      "[LightGBM] [Warning] min_data_in_leaf is set=600, min_child_samples=20 will be ignored. Current value: min_data_in_leaf=600\n",
      "[LightGBM] [Warning] lambda_l2 is set=45.0, reg_lambda=0.0 will be ignored. Current value: lambda_l2=45.0\n",
      "[LightGBM] [Warning] feature_fraction is set=0.5, colsample_bytree=1.0 will be ignored. Current value: feature_fraction=0.5\n",
      "[LightGBM] [Warning] bagging_fraction is set=0.7, subsample=1.0 will be ignored. Current value: bagging_fraction=0.7\n",
      "[LightGBM] [Warning] min_gain_to_split is set=4.983327961578483, min_split_gain=0.0 will be ignored. Current value: min_gain_to_split=4.983327961578483\n",
      "[LightGBM] [Warning] lambda_l1 is set=100.0, reg_alpha=0.0 will be ignored. Current value: lambda_l1=100.0\n"
     ]
    },
    {
     "name": "stderr",
     "output_type": "stream",
     "text": [
      "[I 2024-01-16 17:12:14,335] Trial 41 finished with value: 1.2330167121117668e+18 and parameters: {'n_estimators': 1000, 'lambda_l1': 100.0, 'lambda_l2': 45.0, 'num_leaves': 2250, 'min_data_in_leaf': 600, 'max_bin': 228, 'feature_fraction': 0.5, 'bagging_fraction': 0.7, 'bagging_freq': 5, 'min_gain_to_split': 4.983327961578483, 'max_depth': 9, 'learning_rate': 0.27}. Best is trial 8 with value: 1.222838626674225e+18.\n"
     ]
    },
    {
     "name": "stdout",
     "output_type": "stream",
     "text": [
      "[LightGBM] [Warning] bagging_freq is set=6, subsample_freq=0 will be ignored. Current value: bagging_freq=6\n",
      "[LightGBM] [Warning] min_data_in_leaf is set=1900, min_child_samples=20 will be ignored. Current value: min_data_in_leaf=1900\n",
      "[LightGBM] [Warning] lambda_l2 is set=55.0, reg_lambda=0.0 will be ignored. Current value: lambda_l2=55.0\n",
      "[LightGBM] [Warning] feature_fraction is set=0.4, colsample_bytree=1.0 will be ignored. Current value: feature_fraction=0.4\n",
      "[LightGBM] [Warning] bagging_fraction is set=0.8, subsample=1.0 will be ignored. Current value: bagging_fraction=0.8\n",
      "[LightGBM] [Warning] min_gain_to_split is set=6.756668816957183, min_split_gain=0.0 will be ignored. Current value: min_gain_to_split=6.756668816957183\n",
      "[LightGBM] [Warning] lambda_l1 is set=95.0, reg_alpha=0.0 will be ignored. Current value: lambda_l1=95.0\n"
     ]
    },
    {
     "name": "stderr",
     "output_type": "stream",
     "text": [
      "[I 2024-01-16 17:12:14,757] Trial 42 finished with value: 1.2379351531078566e+18 and parameters: {'n_estimators': 900, 'lambda_l1': 95.0, 'lambda_l2': 55.0, 'num_leaves': 750, 'min_data_in_leaf': 1900, 'max_bin': 220, 'feature_fraction': 0.4, 'bagging_fraction': 0.8, 'bagging_freq': 6, 'min_gain_to_split': 6.756668816957183, 'max_depth': 8, 'learning_rate': 0.26}. Best is trial 8 with value: 1.222838626674225e+18.\n"
     ]
    },
    {
     "name": "stdout",
     "output_type": "stream",
     "text": [
      "[LightGBM] [Warning] bagging_freq is set=5, subsample_freq=0 will be ignored. Current value: bagging_freq=5\n",
      "[LightGBM] [Warning] min_data_in_leaf is set=200, min_child_samples=20 will be ignored. Current value: min_data_in_leaf=200\n",
      "[LightGBM] [Warning] lambda_l2 is set=40.0, reg_lambda=0.0 will be ignored. Current value: lambda_l2=40.0\n",
      "[LightGBM] [Warning] feature_fraction is set=0.6000000000000001, colsample_bytree=1.0 will be ignored. Current value: feature_fraction=0.6000000000000001\n",
      "[LightGBM] [Warning] bagging_fraction is set=0.6000000000000001, subsample=1.0 will be ignored. Current value: bagging_fraction=0.6000000000000001\n",
      "[LightGBM] [Warning] min_gain_to_split is set=1.839730356717121, min_split_gain=0.0 will be ignored. Current value: min_gain_to_split=1.839730356717121\n",
      "[LightGBM] [Warning] lambda_l1 is set=100.0, reg_alpha=0.0 will be ignored. Current value: lambda_l1=100.0\n"
     ]
    },
    {
     "name": "stderr",
     "output_type": "stream",
     "text": [
      "[I 2024-01-16 17:12:15,281] Trial 43 finished with value: 1.2297046033988723e+18 and parameters: {'n_estimators': 800, 'lambda_l1': 100.0, 'lambda_l2': 40.0, 'num_leaves': 3150, 'min_data_in_leaf': 200, 'max_bin': 220, 'feature_fraction': 0.6000000000000001, 'bagging_fraction': 0.6000000000000001, 'bagging_freq': 5, 'min_gain_to_split': 1.839730356717121, 'max_depth': 10, 'learning_rate': 0.28}. Best is trial 8 with value: 1.222838626674225e+18.\n"
     ]
    },
    {
     "name": "stdout",
     "output_type": "stream",
     "text": [
      "[LightGBM] [Warning] bagging_freq is set=6, subsample_freq=0 will be ignored. Current value: bagging_freq=6\n",
      "[LightGBM] [Warning] min_data_in_leaf is set=1800, min_child_samples=20 will be ignored. Current value: min_data_in_leaf=1800\n",
      "[LightGBM] [Warning] lambda_l2 is set=30.0, reg_lambda=0.0 will be ignored. Current value: lambda_l2=30.0\n",
      "[LightGBM] [Warning] feature_fraction is set=0.5, colsample_bytree=1.0 will be ignored. Current value: feature_fraction=0.5\n",
      "[LightGBM] [Warning] bagging_fraction is set=0.3, subsample=1.0 will be ignored. Current value: bagging_fraction=0.3\n",
      "[LightGBM] [Warning] min_gain_to_split is set=3.3549800297963728, min_split_gain=0.0 will be ignored. Current value: min_gain_to_split=3.3549800297963728\n",
      "[LightGBM] [Warning] lambda_l1 is set=90.0, reg_alpha=0.0 will be ignored. Current value: lambda_l1=90.0\n"
     ]
    },
    {
     "name": "stderr",
     "output_type": "stream",
     "text": [
      "[I 2024-01-16 17:12:15,697] Trial 44 finished with value: 1.231851292974351e+18 and parameters: {'n_estimators': 900, 'lambda_l1': 90.0, 'lambda_l2': 30.0, 'num_leaves': 4150, 'min_data_in_leaf': 1800, 'max_bin': 234, 'feature_fraction': 0.5, 'bagging_fraction': 0.3, 'bagging_freq': 6, 'min_gain_to_split': 3.3549800297963728, 'max_depth': 9, 'learning_rate': 0.2}. Best is trial 8 with value: 1.222838626674225e+18.\n"
     ]
    },
    {
     "name": "stdout",
     "output_type": "stream",
     "text": [
      "[LightGBM] [Warning] bagging_freq is set=5, subsample_freq=0 will be ignored. Current value: bagging_freq=5\n",
      "[LightGBM] [Warning] min_data_in_leaf is set=1100, min_child_samples=20 will be ignored. Current value: min_data_in_leaf=1100\n",
      "[LightGBM] [Warning] lambda_l2 is set=25.0, reg_lambda=0.0 will be ignored. Current value: lambda_l2=25.0\n",
      "[LightGBM] [Warning] feature_fraction is set=0.7, colsample_bytree=1.0 will be ignored. Current value: feature_fraction=0.7\n",
      "[LightGBM] [Warning] bagging_fraction is set=0.7, subsample=1.0 will be ignored. Current value: bagging_fraction=0.7\n",
      "[LightGBM] [Warning] min_gain_to_split is set=5.152047507112097, min_split_gain=0.0 will be ignored. Current value: min_gain_to_split=5.152047507112097\n",
      "[LightGBM] [Warning] lambda_l1 is set=10.0, reg_alpha=0.0 will be ignored. Current value: lambda_l1=10.0\n"
     ]
    },
    {
     "name": "stderr",
     "output_type": "stream",
     "text": [
      "[I 2024-01-16 17:12:16,118] Trial 45 finished with value: 1.230357873485023e+18 and parameters: {'n_estimators': 1000, 'lambda_l1': 10.0, 'lambda_l2': 25.0, 'num_leaves': 1800, 'min_data_in_leaf': 1100, 'max_bin': 208, 'feature_fraction': 0.7, 'bagging_fraction': 0.7, 'bagging_freq': 5, 'min_gain_to_split': 5.152047507112097, 'max_depth': 3, 'learning_rate': 0.01}. Best is trial 8 with value: 1.222838626674225e+18.\n"
     ]
    },
    {
     "name": "stdout",
     "output_type": "stream",
     "text": [
      "[LightGBM] [Warning] bagging_freq is set=4, subsample_freq=0 will be ignored. Current value: bagging_freq=4\n",
      "[LightGBM] [Warning] min_data_in_leaf is set=800, min_child_samples=20 will be ignored. Current value: min_data_in_leaf=800\n",
      "[LightGBM] [Warning] lambda_l2 is set=55.0, reg_lambda=0.0 will be ignored. Current value: lambda_l2=55.0\n",
      "[LightGBM] [Warning] feature_fraction is set=0.5, colsample_bytree=1.0 will be ignored. Current value: feature_fraction=0.5\n",
      "[LightGBM] [Warning] bagging_fraction is set=0.8, subsample=1.0 will be ignored. Current value: bagging_fraction=0.8\n",
      "[LightGBM] [Warning] min_gain_to_split is set=7.94882143078603, min_split_gain=0.0 will be ignored. Current value: min_gain_to_split=7.94882143078603\n",
      "[LightGBM] [Warning] lambda_l1 is set=80.0, reg_alpha=0.0 will be ignored. Current value: lambda_l1=80.0\n"
     ]
    },
    {
     "name": "stderr",
     "output_type": "stream",
     "text": [
      "[I 2024-01-16 17:12:16,685] Trial 46 finished with value: 1.2192087865403297e+18 and parameters: {'n_estimators': 800, 'lambda_l1': 80.0, 'lambda_l2': 55.0, 'num_leaves': 5550, 'min_data_in_leaf': 800, 'max_bin': 240, 'feature_fraction': 0.5, 'bagging_fraction': 0.8, 'bagging_freq': 4, 'min_gain_to_split': 7.94882143078603, 'max_depth': 13, 'learning_rate': 0.24000000000000002}. Best is trial 46 with value: 1.2192087865403297e+18.\n"
     ]
    },
    {
     "name": "stdout",
     "output_type": "stream",
     "text": [
      "[LightGBM] [Warning] bagging_freq is set=4, subsample_freq=0 will be ignored. Current value: bagging_freq=4\n",
      "[LightGBM] [Warning] min_data_in_leaf is set=700, min_child_samples=20 will be ignored. Current value: min_data_in_leaf=700\n",
      "[LightGBM] [Warning] lambda_l2 is set=75.0, reg_lambda=0.0 will be ignored. Current value: lambda_l2=75.0\n",
      "[LightGBM] [Warning] feature_fraction is set=0.5, colsample_bytree=1.0 will be ignored. Current value: feature_fraction=0.5\n",
      "[LightGBM] [Warning] bagging_fraction is set=0.9000000000000001, subsample=1.0 will be ignored. Current value: bagging_fraction=0.9000000000000001\n",
      "[LightGBM] [Warning] min_gain_to_split is set=7.977119032891956, min_split_gain=0.0 will be ignored. Current value: min_gain_to_split=7.977119032891956\n",
      "[LightGBM] [Warning] lambda_l1 is set=80.0, reg_alpha=0.0 will be ignored. Current value: lambda_l1=80.0\n"
     ]
    },
    {
     "name": "stderr",
     "output_type": "stream",
     "text": [
      "[I 2024-01-16 17:12:17,245] Trial 47 finished with value: 1.2245232474498086e+18 and parameters: {'n_estimators': 900, 'lambda_l1': 80.0, 'lambda_l2': 75.0, 'num_leaves': 5350, 'min_data_in_leaf': 700, 'max_bin': 236, 'feature_fraction': 0.5, 'bagging_fraction': 0.9000000000000001, 'bagging_freq': 4, 'min_gain_to_split': 7.977119032891956, 'max_depth': 14, 'learning_rate': 0.24000000000000002}. Best is trial 46 with value: 1.2192087865403297e+18.\n"
     ]
    },
    {
     "name": "stdout",
     "output_type": "stream",
     "text": [
      "[LightGBM] [Warning] bagging_freq is set=3, subsample_freq=0 will be ignored. Current value: bagging_freq=3\n",
      "[LightGBM] [Warning] min_data_in_leaf is set=800, min_child_samples=20 will be ignored. Current value: min_data_in_leaf=800\n",
      "[LightGBM] [Warning] lambda_l2 is set=90.0, reg_lambda=0.0 will be ignored. Current value: lambda_l2=90.0\n",
      "[LightGBM] [Warning] feature_fraction is set=0.5, colsample_bytree=1.0 will be ignored. Current value: feature_fraction=0.5\n",
      "[LightGBM] [Warning] bagging_fraction is set=1.0, subsample=1.0 will be ignored. Current value: bagging_fraction=1.0\n",
      "[LightGBM] [Warning] min_gain_to_split is set=7.8164627693481705, min_split_gain=0.0 will be ignored. Current value: min_gain_to_split=7.8164627693481705\n",
      "[LightGBM] [Warning] lambda_l1 is set=70.0, reg_alpha=0.0 will be ignored. Current value: lambda_l1=70.0\n"
     ]
    },
    {
     "name": "stderr",
     "output_type": "stream",
     "text": [
      "[I 2024-01-16 17:12:17,756] Trial 48 finished with value: 1.2218253896250074e+18 and parameters: {'n_estimators': 800, 'lambda_l1': 70.0, 'lambda_l2': 90.0, 'num_leaves': 5350, 'min_data_in_leaf': 800, 'max_bin': 235, 'feature_fraction': 0.5, 'bagging_fraction': 1.0, 'bagging_freq': 3, 'min_gain_to_split': 7.8164627693481705, 'max_depth': 13, 'learning_rate': 0.23}. Best is trial 46 with value: 1.2192087865403297e+18.\n"
     ]
    },
    {
     "name": "stdout",
     "output_type": "stream",
     "text": [
      "[LightGBM] [Warning] bagging_freq is set=3, subsample_freq=0 will be ignored. Current value: bagging_freq=3\n",
      "[LightGBM] [Warning] min_data_in_leaf is set=600, min_child_samples=20 will be ignored. Current value: min_data_in_leaf=600\n",
      "[LightGBM] [Warning] lambda_l2 is set=100.0, reg_lambda=0.0 will be ignored. Current value: lambda_l2=100.0\n",
      "[LightGBM] [Warning] feature_fraction is set=0.3, colsample_bytree=1.0 will be ignored. Current value: feature_fraction=0.3\n",
      "[LightGBM] [Warning] bagging_fraction is set=1.0, subsample=1.0 will be ignored. Current value: bagging_fraction=1.0\n",
      "[LightGBM] [Warning] min_gain_to_split is set=7.8822081667744595, min_split_gain=0.0 will be ignored. Current value: min_gain_to_split=7.8822081667744595\n",
      "[LightGBM] [Warning] lambda_l1 is set=70.0, reg_alpha=0.0 will be ignored. Current value: lambda_l1=70.0\n"
     ]
    },
    {
     "name": "stderr",
     "output_type": "stream",
     "text": [
      "[I 2024-01-16 17:12:18,256] Trial 49 finished with value: 1.329600160176896e+18 and parameters: {'n_estimators': 800, 'lambda_l1': 70.0, 'lambda_l2': 100.0, 'num_leaves': 5400, 'min_data_in_leaf': 600, 'max_bin': 236, 'feature_fraction': 0.3, 'bagging_fraction': 1.0, 'bagging_freq': 3, 'min_gain_to_split': 7.8822081667744595, 'max_depth': 13, 'learning_rate': 0.23}. Best is trial 46 with value: 1.2192087865403297e+18.\n"
     ]
    },
    {
     "name": "stdout",
     "output_type": "stream",
     "text": [
      "\n",
      "\n",
      "Best MAPE achieved:  1.2192087865403297e+18\n"
     ]
    }
   ],
   "source": [
    "best_features, best_params = build_model._features_n_params(training_data, n_trials, n_features)"
   ]
  },
  {
   "cell_type": "markdown",
   "metadata": {},
   "source": [
    "### Model Training & Evaluation"
   ]
  },
  {
   "cell_type": "code",
   "execution_count": 18,
   "metadata": {},
   "outputs": [],
   "source": [
    "n = 5   # number of days for which evaluation is reqd"
   ]
  },
  {
   "cell_type": "code",
   "execution_count": 19,
   "metadata": {},
   "outputs": [],
   "source": [
    "# training upto this date\n",
    "training_upto = training_data['datetime'][::96].iloc[-n].strftime('%Y-%m-%d')\n",
    "validation_upto = datetime.now().date().strftime('%Y-%m-%d')\n",
    "X_train, y_train, X_test, y_test, X_valid, y_valid = build_model._split_data(training_data, training_upto, validation_upto)"
   ]
  },
  {
   "cell_type": "code",
   "execution_count": 22,
   "metadata": {},
   "outputs": [
    {
     "name": "stdout",
     "output_type": "stream",
     "text": [
      "[LightGBM] [Warning] bagging_freq is set=4, subsample_freq=0 will be ignored. Current value: bagging_freq=4\n",
      "[LightGBM] [Warning] min_data_in_leaf is set=800, min_child_samples=20 will be ignored. Current value: min_data_in_leaf=800\n",
      "[LightGBM] [Warning] lambda_l2 is set=55.0, reg_lambda=0.0 will be ignored. Current value: lambda_l2=55.0\n",
      "[LightGBM] [Warning] feature_fraction is set=0.5, colsample_bytree=1.0 will be ignored. Current value: feature_fraction=0.5\n",
      "[LightGBM] [Warning] bagging_fraction is set=0.8, subsample=1.0 will be ignored. Current value: bagging_fraction=0.8\n",
      "[LightGBM] [Warning] min_gain_to_split is set=7.94882143078603, min_split_gain=0.0 will be ignored. Current value: min_gain_to_split=7.94882143078603\n",
      "[LightGBM] [Warning] lambda_l1 is set=80.0, reg_alpha=0.0 will be ignored. Current value: lambda_l1=80.0\n"
     ]
    }
   ],
   "source": [
    "model = build_model._train_model(X_train, y_train, best_params, best_features, objective = 'regression')"
   ]
  },
  {
   "cell_type": "code",
   "execution_count": 23,
   "metadata": {},
   "outputs": [],
   "source": [
    "if n > X_test[::96].shape[0]:\n",
    "    n = X_test[::96].shape[0]"
   ]
  },
  {
   "cell_type": "code",
   "execution_count": 25,
   "metadata": {},
   "outputs": [
    {
     "name": "stdout",
     "output_type": "stream",
     "text": [
      "MAPE: 28.000000000000004\n"
     ]
    },
    {
     "data": {
      "image/png": "[encoded data removed]",
      "text/plain": [
       "<Figure size 1200x600 with 1 Axes>"
      ]
     },
     "metadata": {},
     "output_type": "display_data"
    }
   ],
   "source": [
    "evaluator = ModelEvaluator(model, best_features)\n",
    "evaluator.evaluate_on_data(X_test, y_test, n, market_type)"
   ]
  },
  {
   "cell_type": "markdown",
   "metadata": {},
   "source": [
    "### Final Model"
   ]
  },
  {
   "cell_type": "code",
   "execution_count": 26,
   "metadata": {},
   "outputs": [],
   "source": [
    "# training upto this date\n",
    "training_upto = datetime.now().date().strftime('%Y-%m-%d')\n",
    "validation_upto = datetime.now().date().strftime('%Y-%m-%d')\n",
    "X_train, y_train, X_test, y_test, X_valid, y_valid = build_model._split_data(training_data, training_upto, validation_upto)"
   ]
  },
  {
   "cell_type": "code",
   "execution_count": 27,
   "metadata": {},
   "outputs": [],
   "source": [
    "# training upto this date\n",
    "training_upto = datetime.now().date().strftime('%Y-%m-%d')\n",
    "validation_upto = datetime.now().date().strftime('%Y-%m-%d')\n",
    "X_train, y_train, X_test, y_test, X_valid, y_valid = build_model._split_data(training_data, training_upto, validation_upto)"
   ]
  },
  {
   "cell_type": "code",
   "execution_count": 30,
   "metadata": {},
   "outputs": [],
   "source": [
    "model = build_model._train_model(X_train, y_train, best_params, best_features, objective = 'regression')\n",
    "save_pickle(model, MODELS_PATH, f'{market_type}_forecast')"
   ]
  }
 ],
 "metadata": {
  "kernelspec": {
   "display_name": "env",
   "language": "python",
   "name": "python3"
  },
  "language_info": {
   "codemirror_mode": {
    "name": "ipython",
    "version": 3
   },
   "file_extension": ".py",
   "mimetype": "text/x-python",
   "name": "python",
   "nbconvert_exporter": "python",
   "pygments_lexer": "ipython3",
   "version": "3.12.0"
  }
 },
 "nbformat": 4,
 "nbformat_minor": 2
}
